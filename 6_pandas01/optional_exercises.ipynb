{
 "cells": [
  {
   "cell_type": "markdown",
   "id": "db9ff417-592f-4ceb-8224-96502a04471d",
   "metadata": {},
   "source": [
    "# Optional exercises\n",
    "These are the optional exercises for this week's lecture. Here you can test your understanding of the content and as always we will present the solution in the __flipped classroom__.  \n",
    "You do not have to run the cells with the import statement everytime, they are just meaningful if you are using the links in the notebooks.  \n",
    "\n",
    "<img src=\"images/optional_exercises1.png\" width=\"200\" style=\"float: right;\"/>"
   ]
  },
  {
   "cell_type": "markdown",
   "id": "fae5101f-b7e9-4843-9678-015c12a476e0",
   "metadata": {},
   "source": [
    "## Exercise 01 - Series"
   ]
  },
  {
   "cell_type": "markdown",
   "id": "1e3c18b4-089b-4048-97a9-ff17f9c66964",
   "metadata": {
    "tags": []
   },
   "source": [
    "<a id='exe01a'></a>\n",
    "### Exercise 01 a)  \n",
    "Create a Pandas series containing ranging from 0 to 100 in 6 steps and with indices from e to j. \n",
    "Tipp: maybe the function np.linespace might help :)"
   ]
  },
  {
   "cell_type": "code",
   "execution_count": 2,
   "id": "733cf42a-8e50-4942-9252-9b50e44845c1",
   "metadata": {
    "tags": []
   },
   "outputs": [],
   "source": [
    "import numpy as np\n",
    "import pandas as pd"
   ]
  },
  {
   "cell_type": "code",
   "execution_count": null,
   "id": "5b9aa431-4644-467e-9f48-f8ac722e2df4",
   "metadata": {},
   "outputs": [],
   "source": [
    "# here you can write your code"
   ]
  },
  {
   "cell_type": "markdown",
   "id": "0a500e5a-7268-4a9b-ab9a-d343487d2d24",
   "metadata": {},
   "source": [
    "<a id='exe01b'></a>\n",
    "### Exercise 01 b) \n",
    "Use some fancy pandas functions so that you get the following output out of the given series.  \n",
    "\n",
    "<img src=\"images/optional_exercises2.png\" width=\"200\" style=\"float: left;\"/>"
   ]
  },
  {
   "cell_type": "code",
   "execution_count": 2,
   "id": "73f202ec-3be6-4088-9bc9-727f875d1188",
   "metadata": {
    "tags": []
   },
   "outputs": [],
   "source": [
    "import numpy as np\n",
    "import pandas as pd"
   ]
  },
  {
   "cell_type": "code",
   "execution_count": 8,
   "id": "2c0192dc-d4da-43f0-8707-cbdf702c63b1",
   "metadata": {
    "tags": []
   },
   "outputs": [
    {
     "data": {
      "text/plain": [
       "California    38332521\n",
       "Texas         26448193\n",
       "New York      19651127\n",
       "Florida       19552860\n",
       "Illinois      12882135\n",
       "dtype: int64"
      ]
     },
     "execution_count": 8,
     "metadata": {},
     "output_type": "execute_result"
    }
   ],
   "source": [
    "# the given series\n",
    "population_dict = {'California': 38332521,\n",
    "                   'Texas': 26448193,\n",
    "                   'New York': 19651127,\n",
    "                   'Florida': 19552860,\n",
    "                   'Illinois': 12882135}\n",
    "population = pd.Series(population_dict)\n",
    "population"
   ]
  },
  {
   "cell_type": "code",
   "execution_count": 143,
   "id": "25cd2c06-bdb1-4599-90d4-d90e4bf201a1",
   "metadata": {
    "tags": []
   },
   "outputs": [],
   "source": [
    "# your code"
   ]
  },
  {
   "cell_type": "markdown",
   "id": "832c355c-4ae8-4dbf-aeaa-80b9290a7af9",
   "metadata": {},
   "source": [
    "## Exercise 02 - DataFrames"
   ]
  },
  {
   "cell_type": "markdown",
   "id": "fef78c8f-9aea-4e32-afab-9d3b579dbbbc",
   "metadata": {},
   "source": [
    "<a id='exe02a'></a>\n",
    "### Exercise 02 a) \n",
    "Filter out the state with the smalest area and then the state with the biggest area."
   ]
  },
  {
   "cell_type": "code",
   "execution_count": 25,
   "id": "5e881e6e-54da-46cc-8d2b-54534e4fc10c",
   "metadata": {
    "tags": []
   },
   "outputs": [],
   "source": [
    "import numpy as np\n",
    "import pandas as pd"
   ]
  },
  {
   "cell_type": "code",
   "execution_count": 49,
   "id": "23d147a7-6b68-4b51-9e06-d7ef4d05e454",
   "metadata": {
    "tags": []
   },
   "outputs": [
    {
     "data": {
      "text/html": [
       "<div>\n",
       "<style scoped>\n",
       "    .dataframe tbody tr th:only-of-type {\n",
       "        vertical-align: middle;\n",
       "    }\n",
       "\n",
       "    .dataframe tbody tr th {\n",
       "        vertical-align: top;\n",
       "    }\n",
       "\n",
       "    .dataframe thead th {\n",
       "        text-align: right;\n",
       "    }\n",
       "</style>\n",
       "<table border=\"1\" class=\"dataframe\">\n",
       "  <thead>\n",
       "    <tr style=\"text-align: right;\">\n",
       "      <th></th>\n",
       "      <th>population</th>\n",
       "      <th>area</th>\n",
       "      <th>country</th>\n",
       "    </tr>\n",
       "  </thead>\n",
       "  <tbody>\n",
       "    <tr>\n",
       "      <th>California</th>\n",
       "      <td>38332521</td>\n",
       "      <td>423967</td>\n",
       "      <td>USA</td>\n",
       "    </tr>\n",
       "    <tr>\n",
       "      <th>Texas</th>\n",
       "      <td>26448193</td>\n",
       "      <td>695662</td>\n",
       "      <td>USA</td>\n",
       "    </tr>\n",
       "    <tr>\n",
       "      <th>New York</th>\n",
       "      <td>19651127</td>\n",
       "      <td>141297</td>\n",
       "      <td>USA</td>\n",
       "    </tr>\n",
       "    <tr>\n",
       "      <th>Florida</th>\n",
       "      <td>19552860</td>\n",
       "      <td>170312</td>\n",
       "      <td>USA</td>\n",
       "    </tr>\n",
       "    <tr>\n",
       "      <th>Illinois</th>\n",
       "      <td>12882135</td>\n",
       "      <td>149995</td>\n",
       "      <td>USA</td>\n",
       "    </tr>\n",
       "  </tbody>\n",
       "</table>\n",
       "</div>"
      ],
      "text/plain": [
       "            population    area country\n",
       "California    38332521  423967     USA\n",
       "Texas         26448193  695662     USA\n",
       "New York      19651127  141297     USA\n",
       "Florida       19552860  170312     USA\n",
       "Illinois      12882135  149995     USA"
      ]
     },
     "execution_count": 49,
     "metadata": {},
     "output_type": "execute_result"
    }
   ],
   "source": [
    "area = pd.Series({'California': 423967, \n",
    "             'Texas': 695662, \n",
    "             'New York': 141297,\n",
    "             'Florida': 170312, \n",
    "             'Illinois': 149995})\n",
    "population = pd.Series({'California': 38332521,\n",
    "                   'Texas': 26448193,\n",
    "                   'New York': 19651127,\n",
    "                   'Florida': 19552860,\n",
    "                   'Illinois': 12882135})\n",
    "states = pd.DataFrame({'population': population,\n",
    "                       'area': area,\n",
    "                       'country': 'USA'})\n",
    "states"
   ]
  },
  {
   "cell_type": "code",
   "execution_count": 142,
   "id": "cf9098a2-629f-4808-99e5-831b6d20d8ff",
   "metadata": {
    "tags": []
   },
   "outputs": [],
   "source": [
    "# the state with the smallest area\n",
    " "
   ]
  },
  {
   "cell_type": "code",
   "execution_count": 141,
   "id": "c5ce5ffb-4cb7-40a2-872d-0c0d2131a061",
   "metadata": {
    "tags": []
   },
   "outputs": [],
   "source": [
    "# the state with the biggest area\n"
   ]
  },
  {
   "cell_type": "markdown",
   "id": "9d9018ab-1686-4a35-8874-20bc1c3e7adc",
   "metadata": {},
   "source": [
    "<a id='exe02b'></a>\n",
    "### Exercise 02 b) \n",
    "Create a DataFrame from the given dictionary as well as the 'qualifies' list, with the given indices:"
   ]
  },
  {
   "cell_type": "code",
   "execution_count": null,
   "id": "f25c7186-e7cd-46c5-b54b-b1825850dd7e",
   "metadata": {},
   "outputs": [],
   "source": [
    "import numpy as np\n",
    "import pandas as pd"
   ]
  },
  {
   "cell_type": "code",
   "execution_count": 30,
   "id": "cfa46108-74f4-4348-a6b9-74c17e81b070",
   "metadata": {
    "tags": []
   },
   "outputs": [],
   "source": [
    "exam_data = {\n",
    "    'name': ['Anastasia', 'Dima', 'Katherine', 'James', 'Emily', 'Michael', 'Matthew', 'Laura', 'Kevin', 'Jonas'],\n",
    "    'score': [12.5, 9, 16.5, np.nan, 9, 20, 14.5, np.nan, 8, 19],\n",
    "    'attempts': [1, 3, 2, 3, 2, 3, 1, 1, 2, 1],\n",
    "    }\n",
    "qualifies = ['yes', 'no', 'yes', 'no', 'no', 'yes', 'yes', 'no', 'no', 'yes']\n",
    "\n",
    "labels = ['a', 'b', 'c', 'd', 'e', 'f', 'g', 'h', 'i', 'j']"
   ]
  },
  {
   "cell_type": "code",
   "execution_count": 140,
   "id": "3faf2ecf-5ed5-4db1-888c-d0d03a2480bb",
   "metadata": {
    "tags": []
   },
   "outputs": [],
   "source": [
    "# your code\n"
   ]
  },
  {
   "cell_type": "markdown",
   "id": "47333f69-12a8-4121-b1f8-d3fc99469cd7",
   "metadata": {},
   "source": [
    "<a id='exe02c'></a>\n",
    "### Exercise 02 c) \n",
    "Create a new index for the DataFrame from _Exercise 02 a)_. The index should contain numbers from 0 to 5. "
   ]
  },
  {
   "cell_type": "code",
   "execution_count": 139,
   "id": "7e78567b-fbdc-4f70-a8d3-90a2669e3506",
   "metadata": {
    "tags": []
   },
   "outputs": [],
   "source": [
    "# your code\n"
   ]
  },
  {
   "cell_type": "markdown",
   "id": "d1b33035-f223-4b03-a755-6e641a2b0dcc",
   "metadata": {},
   "source": [
    "## Exercise 03"
   ]
  },
  {
   "cell_type": "markdown",
   "id": "7f4d15e2-6769-4f35-84b6-30dfeb480cca",
   "metadata": {},
   "source": [
    "<a id='exe03a'></a>\n",
    "### Exercise 03 a) \n",
    "Use indexing to get the following result out of the given dataframe:  \n",
    "<img src=\"images/optional_exercises3.png\" width=\"250\" style=\"float: left;\"/>"
   ]
  },
  {
   "cell_type": "code",
   "execution_count": 51,
   "id": "42b8978a-984b-4428-91ab-1c43fd4b67b7",
   "metadata": {
    "tags": []
   },
   "outputs": [],
   "source": [
    "import numpy as np\n",
    "import pandas as pd"
   ]
  },
  {
   "cell_type": "code",
   "execution_count": 68,
   "id": "dc609154-b425-4ed9-b20e-82ac3b807760",
   "metadata": {
    "tags": []
   },
   "outputs": [
    {
     "data": {
      "text/html": [
       "<div>\n",
       "<style scoped>\n",
       "    .dataframe tbody tr th:only-of-type {\n",
       "        vertical-align: middle;\n",
       "    }\n",
       "\n",
       "    .dataframe tbody tr th {\n",
       "        vertical-align: top;\n",
       "    }\n",
       "\n",
       "    .dataframe thead th {\n",
       "        text-align: right;\n",
       "    }\n",
       "</style>\n",
       "<table border=\"1\" class=\"dataframe\">\n",
       "  <thead>\n",
       "    <tr style=\"text-align: right;\">\n",
       "      <th></th>\n",
       "      <th>area</th>\n",
       "      <th>pop</th>\n",
       "      <th>Country</th>\n",
       "    </tr>\n",
       "  </thead>\n",
       "  <tbody>\n",
       "    <tr>\n",
       "      <th>California</th>\n",
       "      <td>423967</td>\n",
       "      <td>38332521</td>\n",
       "      <td>USA</td>\n",
       "    </tr>\n",
       "    <tr>\n",
       "      <th>Texas</th>\n",
       "      <td>695662</td>\n",
       "      <td>26448193</td>\n",
       "      <td>USA</td>\n",
       "    </tr>\n",
       "    <tr>\n",
       "      <th>New York</th>\n",
       "      <td>141297</td>\n",
       "      <td>19651127</td>\n",
       "      <td>USA</td>\n",
       "    </tr>\n",
       "    <tr>\n",
       "      <th>Florida</th>\n",
       "      <td>170312</td>\n",
       "      <td>19552860</td>\n",
       "      <td>USA</td>\n",
       "    </tr>\n",
       "    <tr>\n",
       "      <th>Illinois</th>\n",
       "      <td>149995</td>\n",
       "      <td>12882135</td>\n",
       "      <td>USA</td>\n",
       "    </tr>\n",
       "  </tbody>\n",
       "</table>\n",
       "</div>"
      ],
      "text/plain": [
       "              area       pop Country\n",
       "California  423967  38332521     USA\n",
       "Texas       695662  26448193     USA\n",
       "New York    141297  19651127     USA\n",
       "Florida     170312  19552860     USA\n",
       "Illinois    149995  12882135     USA"
      ]
     },
     "execution_count": 68,
     "metadata": {},
     "output_type": "execute_result"
    }
   ],
   "source": [
    "area = pd.Series({'California': 423967, 'Texas': 695662,\n",
    "                  'New York': 141297, 'Florida': 170312,\n",
    "                  'Illinois': 149995})\n",
    "pop = pd.Series({'California': 38332521, 'Texas': 26448193,\n",
    "                 'New York': 19651127, 'Florida': 19552860,\n",
    "                 'Illinois': 12882135})\n",
    "data = pd.DataFrame({'area':area, 'pop':pop, 'Country':'USA'})\n",
    "data"
   ]
  },
  {
   "cell_type": "code",
   "execution_count": 138,
   "id": "5965fd0c-3373-490b-9f18-4e946e92ce27",
   "metadata": {
    "tags": []
   },
   "outputs": [],
   "source": [
    "# your code\n"
   ]
  },
  {
   "cell_type": "markdown",
   "id": "82c49592-581e-463f-83b5-4cb16951d0af",
   "metadata": {},
   "source": [
    "<a id='exe03b'></a>\n",
    "### Exercise 03 b) \n",
    "Change the index of the DataFrame from _Exercise 03 a)_ so that:\n",
    "- Texas and Illinois are not longer included\n",
    "- Nebraska and Oregon are included  \n",
    "  \n",
    "and rename the column `pop` to `population`"
   ]
  },
  {
   "cell_type": "code",
   "execution_count": 137,
   "id": "7c38357f-4284-434b-9cf7-fd10fdcae012",
   "metadata": {
    "tags": []
   },
   "outputs": [],
   "source": [
    "# your code\n"
   ]
  },
  {
   "cell_type": "markdown",
   "id": "f4e721cd-c93c-4ed9-afd8-ecc544ea65fd",
   "metadata": {},
   "source": [
    "<a id='exe03c'></a>\n",
    "### Exercise 03 c)\n",
    "\n",
    "Write a Pandas snippet to get the names and scores of the people where the number of attempts in the examination is greater than 2 as a dict."
   ]
  },
  {
   "cell_type": "code",
   "execution_count": null,
   "id": "ea1651e9-e112-40d0-a4d8-ebfd4090cf37",
   "metadata": {},
   "outputs": [],
   "source": [
    "import numpy as np\n",
    "import pandas as pd"
   ]
  },
  {
   "cell_type": "code",
   "execution_count": 89,
   "id": "05dc12fc-618b-4ee5-886d-14ff691b5d55",
   "metadata": {
    "tags": []
   },
   "outputs": [
    {
     "data": {
      "text/html": [
       "<div>\n",
       "<style scoped>\n",
       "    .dataframe tbody tr th:only-of-type {\n",
       "        vertical-align: middle;\n",
       "    }\n",
       "\n",
       "    .dataframe tbody tr th {\n",
       "        vertical-align: top;\n",
       "    }\n",
       "\n",
       "    .dataframe thead th {\n",
       "        text-align: right;\n",
       "    }\n",
       "</style>\n",
       "<table border=\"1\" class=\"dataframe\">\n",
       "  <thead>\n",
       "    <tr style=\"text-align: right;\">\n",
       "      <th></th>\n",
       "      <th>name</th>\n",
       "      <th>score</th>\n",
       "      <th>attempts</th>\n",
       "      <th>qualify</th>\n",
       "    </tr>\n",
       "  </thead>\n",
       "  <tbody>\n",
       "    <tr>\n",
       "      <th>a</th>\n",
       "      <td>Anastasia</td>\n",
       "      <td>12.5</td>\n",
       "      <td>1</td>\n",
       "      <td>yes</td>\n",
       "    </tr>\n",
       "    <tr>\n",
       "      <th>b</th>\n",
       "      <td>Dima</td>\n",
       "      <td>9.0</td>\n",
       "      <td>3</td>\n",
       "      <td>no</td>\n",
       "    </tr>\n",
       "    <tr>\n",
       "      <th>c</th>\n",
       "      <td>Katherine</td>\n",
       "      <td>16.5</td>\n",
       "      <td>2</td>\n",
       "      <td>yes</td>\n",
       "    </tr>\n",
       "    <tr>\n",
       "      <th>d</th>\n",
       "      <td>James</td>\n",
       "      <td>NaN</td>\n",
       "      <td>3</td>\n",
       "      <td>no</td>\n",
       "    </tr>\n",
       "    <tr>\n",
       "      <th>e</th>\n",
       "      <td>Emily</td>\n",
       "      <td>9.0</td>\n",
       "      <td>2</td>\n",
       "      <td>no</td>\n",
       "    </tr>\n",
       "    <tr>\n",
       "      <th>f</th>\n",
       "      <td>Michael</td>\n",
       "      <td>20.0</td>\n",
       "      <td>3</td>\n",
       "      <td>yes</td>\n",
       "    </tr>\n",
       "    <tr>\n",
       "      <th>g</th>\n",
       "      <td>Matthew</td>\n",
       "      <td>14.5</td>\n",
       "      <td>1</td>\n",
       "      <td>yes</td>\n",
       "    </tr>\n",
       "    <tr>\n",
       "      <th>h</th>\n",
       "      <td>Laura</td>\n",
       "      <td>NaN</td>\n",
       "      <td>1</td>\n",
       "      <td>no</td>\n",
       "    </tr>\n",
       "    <tr>\n",
       "      <th>i</th>\n",
       "      <td>Kevin</td>\n",
       "      <td>8.0</td>\n",
       "      <td>2</td>\n",
       "      <td>no</td>\n",
       "    </tr>\n",
       "    <tr>\n",
       "      <th>j</th>\n",
       "      <td>Jonas</td>\n",
       "      <td>19.0</td>\n",
       "      <td>1</td>\n",
       "      <td>yes</td>\n",
       "    </tr>\n",
       "  </tbody>\n",
       "</table>\n",
       "</div>"
      ],
      "text/plain": [
       "        name  score  attempts qualify\n",
       "a  Anastasia   12.5         1     yes\n",
       "b       Dima    9.0         3      no\n",
       "c  Katherine   16.5         2     yes\n",
       "d      James    NaN         3      no\n",
       "e      Emily    9.0         2      no\n",
       "f    Michael   20.0         3     yes\n",
       "g    Matthew   14.5         1     yes\n",
       "h      Laura    NaN         1      no\n",
       "i      Kevin    8.0         2      no\n",
       "j      Jonas   19.0         1     yes"
      ]
     },
     "execution_count": 89,
     "metadata": {},
     "output_type": "execute_result"
    }
   ],
   "source": [
    "exam_data = {'name': ['Anastasia', 'Dima', 'Katherine', 'James', 'Emily', 'Michael', 'Matthew', 'Laura', 'Kevin', 'Jonas'],\n",
    "    'score': [12.5, 9, 16.5, np.nan, 9, 20, 14.5, np.nan, 8, 19],\n",
    "    'attempts' : [1, 3, 2, 3, 2, 3, 1, 1, 2, 1],\n",
    "    'qualify': ['yes', 'no', 'yes', 'no', 'no', 'yes', 'yes', 'no', 'no', 'yes']}\n",
    "labels = ['a', 'b', 'c', 'd', 'e', 'f', 'g', 'h', 'i', 'j']\n",
    "df = pd.DataFrame(exam_data , index=labels)\n",
    "df"
   ]
  },
  {
   "cell_type": "code",
   "execution_count": 136,
   "id": "aadda0ea-acf1-41e9-8b6a-8d88450d0992",
   "metadata": {
    "tags": []
   },
   "outputs": [],
   "source": [
    "# your code\n"
   ]
  },
  {
   "cell_type": "markdown",
   "id": "2db365df-b813-4c44-9e44-0bd6be8c88e1",
   "metadata": {},
   "source": [
    "<a id='exe03d'></a>\n",
    "### Exercise 03 d)\n",
    "Take the DataFrame from _Exercise 03 c)_ and add a column `failed` that should be true for all that have more than two attempts. "
   ]
  },
  {
   "cell_type": "code",
   "execution_count": 135,
   "id": "058eb274-ded7-44b7-ace8-853116c78c05",
   "metadata": {
    "tags": []
   },
   "outputs": [],
   "source": [
    "# your code\n"
   ]
  },
  {
   "cell_type": "markdown",
   "id": "17eaea61-8889-46b3-aca5-31b503a90507",
   "metadata": {},
   "source": [
    "<a id='exe04'></a>\n",
    "## Exercise 04\n",
    "\n",
    "Import the `countries.csv` and a pandas DataFrame and get the following information:\n",
    "- count\n",
    "- mean\n",
    "- std\n",
    "- min in each column\n",
    "- the percentiles\n",
    "- max in each column\n",
    "\n",
    "Tip: there is a function that does all the job :)"
   ]
  },
  {
   "cell_type": "code",
   "execution_count": null,
   "id": "ca759ec6-c286-47e6-8e08-5be48234ed08",
   "metadata": {},
   "outputs": [],
   "source": [
    "import numpy as np\n",
    "import pandas as pd"
   ]
  },
  {
   "cell_type": "code",
   "execution_count": 134,
   "id": "af820622-e63f-4192-8206-c0872b8548aa",
   "metadata": {
    "tags": []
   },
   "outputs": [],
   "source": [
    "# your code\n"
   ]
  },
  {
   "cell_type": "markdown",
   "id": "9ec0ac8b-cf39-459e-9380-6dbce02fc450",
   "metadata": {},
   "source": [
    "## Exercise 05"
   ]
  },
  {
   "cell_type": "markdown",
   "id": "9868b13d-b81e-4f71-b91e-2e87806b51da",
   "metadata": {},
   "source": [
    "<a id='exe05a'></a>\n",
    "### Exercise 05 a)\n",
    "Calculate the population desity from the DataFrame you created in _Exercise 03 b)_. Make sure to drop np.NaNs"
   ]
  },
  {
   "cell_type": "code",
   "execution_count": 133,
   "id": "a1d9e29c-1a2e-47ab-9072-22ff64727db0",
   "metadata": {
    "tags": []
   },
   "outputs": [],
   "source": [
    "# your code\n"
   ]
  },
  {
   "cell_type": "markdown",
   "id": "d95c3e87-10bf-436f-b97f-1d5174b5e4f3",
   "metadata": {},
   "source": [
    "<a id='exe05b'></a>\n",
    "### Exercise 05 b)\n",
    "Write a Pandas program to convert a Series of lists to one Series (\"flatten\" the Series)."
   ]
  },
  {
   "cell_type": "code",
   "execution_count": 80,
   "id": "6922a0ef-3a00-43bd-a036-a35d3f723f6d",
   "metadata": {
    "tags": []
   },
   "outputs": [
    {
     "data": {
      "text/plain": [
       "0    [Red, Green, White]\n",
       "1           [Red, Black]\n",
       "2               [Yellow]\n",
       "dtype: object"
      ]
     },
     "execution_count": 80,
     "metadata": {},
     "output_type": "execute_result"
    }
   ],
   "source": [
    "s = pd.Series([['Red', 'Green', 'White'], ['Red', 'Black'], ['Yellow']])\n",
    "s"
   ]
  },
  {
   "cell_type": "code",
   "execution_count": 78,
   "id": "70f49e2e-7506-4e40-a554-0cf7cd2b5eb6",
   "metadata": {
    "tags": []
   },
   "outputs": [
    {
     "name": "stdout",
     "output_type": "stream",
     "text": [
      "0       Red\n",
      "1     Green\n",
      "2     White\n",
      "3       Red\n",
      "4     Black\n",
      "5    Yellow\n",
      "dtype: object\n"
     ]
    }
   ],
   "source": [
    "# Sample Output: \n",
    "print(pd.Series(['Red', 'Green', 'White', 'Red', 'Black', 'Yellow']))"
   ]
  },
  {
   "cell_type": "code",
   "execution_count": 132,
   "id": "8209daaa-423b-4ec3-adc8-193d3aec2507",
   "metadata": {
    "tags": []
   },
   "outputs": [],
   "source": [
    "# Your code here\n"
   ]
  },
  {
   "cell_type": "markdown",
   "id": "f9ae7a6e-aac1-4048-a0f2-c759fe233c19",
   "metadata": {},
   "source": [
    "<a id='exe05c'></a>\n",
    "### Exercise 05 c)\n",
    "\n",
    "The given dataset contains a column `Region` as well as a column `Pop. Density`. Write a pandas code snipped that returns the `mean` of the `Pop. Density` dependent on the `Region`. Furthermore you should _sort the values_ in an ascending order and give your output an index.\n",
    "\n",
    "Tip: Here you might have to use `groupby`"
   ]
  },
  {
   "cell_type": "code",
   "execution_count": 95,
   "id": "5ce08a77-1da7-487a-9ccb-afdb74dfdabe",
   "metadata": {
    "tags": []
   },
   "outputs": [
    {
     "data": {
      "text/html": [
       "<div>\n",
       "<style scoped>\n",
       "    .dataframe tbody tr th:only-of-type {\n",
       "        vertical-align: middle;\n",
       "    }\n",
       "\n",
       "    .dataframe tbody tr th {\n",
       "        vertical-align: top;\n",
       "    }\n",
       "\n",
       "    .dataframe thead th {\n",
       "        text-align: right;\n",
       "    }\n",
       "</style>\n",
       "<table border=\"1\" class=\"dataframe\">\n",
       "  <thead>\n",
       "    <tr style=\"text-align: right;\">\n",
       "      <th></th>\n",
       "      <th>Country</th>\n",
       "      <th>Subcontinent</th>\n",
       "      <th>Region</th>\n",
       "      <th>In EU</th>\n",
       "      <th>Population</th>\n",
       "      <th>Area</th>\n",
       "      <th>Pop. Density</th>\n",
       "      <th>Coastline</th>\n",
       "      <th>Net migration</th>\n",
       "      <th>Infant mortality</th>\n",
       "      <th>...</th>\n",
       "      <th>Phones</th>\n",
       "      <th>Arable</th>\n",
       "      <th>Crops</th>\n",
       "      <th>Other</th>\n",
       "      <th>Climate</th>\n",
       "      <th>Birthrate</th>\n",
       "      <th>Deathrate</th>\n",
       "      <th>Agriculture</th>\n",
       "      <th>Industry</th>\n",
       "      <th>Service</th>\n",
       "    </tr>\n",
       "  </thead>\n",
       "  <tbody>\n",
       "    <tr>\n",
       "      <th>0</th>\n",
       "      <td>Afghanistan</td>\n",
       "      <td>West &amp; Central Asia</td>\n",
       "      <td>ASIA (EX. NEAR EAST)</td>\n",
       "      <td>False</td>\n",
       "      <td>31056997</td>\n",
       "      <td>1.677019e+06</td>\n",
       "      <td>47.96</td>\n",
       "      <td>0.00</td>\n",
       "      <td>23.06</td>\n",
       "      <td>163.07</td>\n",
       "      <td>...</td>\n",
       "      <td>3.22</td>\n",
       "      <td>12.13</td>\n",
       "      <td>0.22</td>\n",
       "      <td>87.65</td>\n",
       "      <td>1.0</td>\n",
       "      <td>46.60</td>\n",
       "      <td>20.34</td>\n",
       "      <td>0.380</td>\n",
       "      <td>0.240</td>\n",
       "      <td>0.380</td>\n",
       "    </tr>\n",
       "    <tr>\n",
       "      <th>1</th>\n",
       "      <td>Albania</td>\n",
       "      <td>Europe</td>\n",
       "      <td>EASTERN EUROPE</td>\n",
       "      <td>False</td>\n",
       "      <td>3581655</td>\n",
       "      <td>7.445703e+04</td>\n",
       "      <td>124.59</td>\n",
       "      <td>1.26</td>\n",
       "      <td>-4.93</td>\n",
       "      <td>21.52</td>\n",
       "      <td>...</td>\n",
       "      <td>71.20</td>\n",
       "      <td>21.09</td>\n",
       "      <td>4.42</td>\n",
       "      <td>74.49</td>\n",
       "      <td>3.0</td>\n",
       "      <td>15.11</td>\n",
       "      <td>5.22</td>\n",
       "      <td>0.232</td>\n",
       "      <td>0.188</td>\n",
       "      <td>0.579</td>\n",
       "    </tr>\n",
       "    <tr>\n",
       "      <th>2</th>\n",
       "      <td>Algeria</td>\n",
       "      <td>North Africa</td>\n",
       "      <td>NORTHERN AFRICA</td>\n",
       "      <td>False</td>\n",
       "      <td>32930091</td>\n",
       "      <td>6.168683e+06</td>\n",
       "      <td>13.83</td>\n",
       "      <td>0.04</td>\n",
       "      <td>-0.39</td>\n",
       "      <td>31.00</td>\n",
       "      <td>...</td>\n",
       "      <td>78.10</td>\n",
       "      <td>3.22</td>\n",
       "      <td>0.25</td>\n",
       "      <td>96.53</td>\n",
       "      <td>1.0</td>\n",
       "      <td>17.14</td>\n",
       "      <td>4.61</td>\n",
       "      <td>0.101</td>\n",
       "      <td>0.600</td>\n",
       "      <td>0.298</td>\n",
       "    </tr>\n",
       "    <tr>\n",
       "      <th>3</th>\n",
       "      <td>American Samoa</td>\n",
       "      <td>Oceania</td>\n",
       "      <td>OCEANIA</td>\n",
       "      <td>False</td>\n",
       "      <td>57794</td>\n",
       "      <td>5.154080e+02</td>\n",
       "      <td>290.42</td>\n",
       "      <td>58.29</td>\n",
       "      <td>-20.71</td>\n",
       "      <td>9.27</td>\n",
       "      <td>...</td>\n",
       "      <td>259.54</td>\n",
       "      <td>10.00</td>\n",
       "      <td>15.00</td>\n",
       "      <td>75.00</td>\n",
       "      <td>2.0</td>\n",
       "      <td>22.46</td>\n",
       "      <td>3.27</td>\n",
       "      <td>NaN</td>\n",
       "      <td>NaN</td>\n",
       "      <td>NaN</td>\n",
       "    </tr>\n",
       "    <tr>\n",
       "      <th>4</th>\n",
       "      <td>Andorra</td>\n",
       "      <td>Europe</td>\n",
       "      <td>WESTERN EUROPE</td>\n",
       "      <td>False</td>\n",
       "      <td>71201</td>\n",
       "      <td>1.212115e+03</td>\n",
       "      <td>152.14</td>\n",
       "      <td>0.00</td>\n",
       "      <td>6.60</td>\n",
       "      <td>4.05</td>\n",
       "      <td>...</td>\n",
       "      <td>497.18</td>\n",
       "      <td>2.22</td>\n",
       "      <td>0.00</td>\n",
       "      <td>97.78</td>\n",
       "      <td>3.0</td>\n",
       "      <td>8.71</td>\n",
       "      <td>6.25</td>\n",
       "      <td>NaN</td>\n",
       "      <td>NaN</td>\n",
       "      <td>NaN</td>\n",
       "    </tr>\n",
       "  </tbody>\n",
       "</table>\n",
       "<p>5 rows × 22 columns</p>\n",
       "</div>"
      ],
      "text/plain": [
       "          Country         Subcontinent                Region  In EU   \n",
       "0     Afghanistan  West & Central Asia  ASIA (EX. NEAR EAST)  False  \\\n",
       "1         Albania               Europe        EASTERN EUROPE  False   \n",
       "2         Algeria         North Africa       NORTHERN AFRICA  False   \n",
       "3  American Samoa              Oceania               OCEANIA  False   \n",
       "4         Andorra               Europe        WESTERN EUROPE  False   \n",
       "\n",
       "   Population          Area  Pop. Density  Coastline  Net migration   \n",
       "0    31056997  1.677019e+06         47.96       0.00          23.06  \\\n",
       "1     3581655  7.445703e+04        124.59       1.26          -4.93   \n",
       "2    32930091  6.168683e+06         13.83       0.04          -0.39   \n",
       "3       57794  5.154080e+02        290.42      58.29         -20.71   \n",
       "4       71201  1.212115e+03        152.14       0.00           6.60   \n",
       "\n",
       "   Infant mortality  ...  Phones  Arable  Crops  Other  Climate  Birthrate   \n",
       "0            163.07  ...    3.22   12.13   0.22  87.65      1.0      46.60  \\\n",
       "1             21.52  ...   71.20   21.09   4.42  74.49      3.0      15.11   \n",
       "2             31.00  ...   78.10    3.22   0.25  96.53      1.0      17.14   \n",
       "3              9.27  ...  259.54   10.00  15.00  75.00      2.0      22.46   \n",
       "4              4.05  ...  497.18    2.22   0.00  97.78      3.0       8.71   \n",
       "\n",
       "   Deathrate  Agriculture  Industry  Service  \n",
       "0      20.34        0.380     0.240    0.380  \n",
       "1       5.22        0.232     0.188    0.579  \n",
       "2       4.61        0.101     0.600    0.298  \n",
       "3       3.27          NaN       NaN      NaN  \n",
       "4       6.25          NaN       NaN      NaN  \n",
       "\n",
       "[5 rows x 22 columns]"
      ]
     },
     "execution_count": 95,
     "metadata": {},
     "output_type": "execute_result"
    }
   ],
   "source": [
    "countries = pd.read_csv('countries.csv', index_col=0)\n",
    "countries.head()"
   ]
  },
  {
   "cell_type": "code",
   "execution_count": 131,
   "id": "96a48452-b9f1-453e-a33d-8f95f6a3da71",
   "metadata": {
    "tags": []
   },
   "outputs": [],
   "source": [
    "# your code\n"
   ]
  },
  {
   "cell_type": "markdown",
   "id": "8b59a052-4c8e-473f-ac9a-27b02150d7d5",
   "metadata": {},
   "source": [
    "<a id='exe05d'></a>\n",
    "### Exercise 05 d)\n",
    "Take the following DataFrame and filter ot all entries with a `Coastline` smaller than 30."
   ]
  },
  {
   "cell_type": "code",
   "execution_count": 98,
   "id": "028ce612-6645-4b9e-9a92-c76e660aaf9a",
   "metadata": {
    "tags": []
   },
   "outputs": [
    {
     "data": {
      "text/html": [
       "<div>\n",
       "<style scoped>\n",
       "    .dataframe tbody tr th:only-of-type {\n",
       "        vertical-align: middle;\n",
       "    }\n",
       "\n",
       "    .dataframe tbody tr th {\n",
       "        vertical-align: top;\n",
       "    }\n",
       "\n",
       "    .dataframe thead th {\n",
       "        text-align: right;\n",
       "    }\n",
       "</style>\n",
       "<table border=\"1\" class=\"dataframe\">\n",
       "  <thead>\n",
       "    <tr style=\"text-align: right;\">\n",
       "      <th></th>\n",
       "      <th>Country</th>\n",
       "      <th>Subcontinent</th>\n",
       "      <th>Region</th>\n",
       "      <th>In EU</th>\n",
       "      <th>Population</th>\n",
       "      <th>Area</th>\n",
       "      <th>Pop. Density</th>\n",
       "      <th>Coastline</th>\n",
       "      <th>Net migration</th>\n",
       "      <th>Infant mortality</th>\n",
       "      <th>...</th>\n",
       "      <th>Phones</th>\n",
       "      <th>Arable</th>\n",
       "      <th>Crops</th>\n",
       "      <th>Other</th>\n",
       "      <th>Climate</th>\n",
       "      <th>Birthrate</th>\n",
       "      <th>Deathrate</th>\n",
       "      <th>Agriculture</th>\n",
       "      <th>Industry</th>\n",
       "      <th>Service</th>\n",
       "    </tr>\n",
       "  </thead>\n",
       "  <tbody>\n",
       "    <tr>\n",
       "      <th>0</th>\n",
       "      <td>Afghanistan</td>\n",
       "      <td>West &amp; Central Asia</td>\n",
       "      <td>ASIA (EX. NEAR EAST)</td>\n",
       "      <td>False</td>\n",
       "      <td>31056997</td>\n",
       "      <td>1.677019e+06</td>\n",
       "      <td>47.96</td>\n",
       "      <td>0.00</td>\n",
       "      <td>23.06</td>\n",
       "      <td>163.07</td>\n",
       "      <td>...</td>\n",
       "      <td>3.22</td>\n",
       "      <td>12.13</td>\n",
       "      <td>0.22</td>\n",
       "      <td>87.65</td>\n",
       "      <td>1.0</td>\n",
       "      <td>46.60</td>\n",
       "      <td>20.34</td>\n",
       "      <td>0.380</td>\n",
       "      <td>0.240</td>\n",
       "      <td>0.380</td>\n",
       "    </tr>\n",
       "    <tr>\n",
       "      <th>1</th>\n",
       "      <td>Albania</td>\n",
       "      <td>Europe</td>\n",
       "      <td>EASTERN EUROPE</td>\n",
       "      <td>False</td>\n",
       "      <td>3581655</td>\n",
       "      <td>7.445703e+04</td>\n",
       "      <td>124.59</td>\n",
       "      <td>1.26</td>\n",
       "      <td>-4.93</td>\n",
       "      <td>21.52</td>\n",
       "      <td>...</td>\n",
       "      <td>71.20</td>\n",
       "      <td>21.09</td>\n",
       "      <td>4.42</td>\n",
       "      <td>74.49</td>\n",
       "      <td>3.0</td>\n",
       "      <td>15.11</td>\n",
       "      <td>5.22</td>\n",
       "      <td>0.232</td>\n",
       "      <td>0.188</td>\n",
       "      <td>0.579</td>\n",
       "    </tr>\n",
       "    <tr>\n",
       "      <th>2</th>\n",
       "      <td>Algeria</td>\n",
       "      <td>North Africa</td>\n",
       "      <td>NORTHERN AFRICA</td>\n",
       "      <td>False</td>\n",
       "      <td>32930091</td>\n",
       "      <td>6.168683e+06</td>\n",
       "      <td>13.83</td>\n",
       "      <td>0.04</td>\n",
       "      <td>-0.39</td>\n",
       "      <td>31.00</td>\n",
       "      <td>...</td>\n",
       "      <td>78.10</td>\n",
       "      <td>3.22</td>\n",
       "      <td>0.25</td>\n",
       "      <td>96.53</td>\n",
       "      <td>1.0</td>\n",
       "      <td>17.14</td>\n",
       "      <td>4.61</td>\n",
       "      <td>0.101</td>\n",
       "      <td>0.600</td>\n",
       "      <td>0.298</td>\n",
       "    </tr>\n",
       "    <tr>\n",
       "      <th>6</th>\n",
       "      <td>Anguilla</td>\n",
       "      <td>Caribbean Islands</td>\n",
       "      <td>LATIN AMER. &amp; CARIB</td>\n",
       "      <td>False</td>\n",
       "      <td>13477</td>\n",
       "      <td>2.641790e+02</td>\n",
       "      <td>132.13</td>\n",
       "      <td>59.80</td>\n",
       "      <td>10.76</td>\n",
       "      <td>21.03</td>\n",
       "      <td>...</td>\n",
       "      <td>460.04</td>\n",
       "      <td>0.00</td>\n",
       "      <td>0.00</td>\n",
       "      <td>100.00</td>\n",
       "      <td>2.0</td>\n",
       "      <td>14.17</td>\n",
       "      <td>5.34</td>\n",
       "      <td>0.040</td>\n",
       "      <td>0.180</td>\n",
       "      <td>0.780</td>\n",
       "    </tr>\n",
       "    <tr>\n",
       "      <th>7</th>\n",
       "      <td>Antigua &amp; Barbuda</td>\n",
       "      <td>Caribbean Islands</td>\n",
       "      <td>LATIN AMER. &amp; CARIB</td>\n",
       "      <td>False</td>\n",
       "      <td>69108</td>\n",
       "      <td>1.147366e+03</td>\n",
       "      <td>156.00</td>\n",
       "      <td>34.54</td>\n",
       "      <td>-6.15</td>\n",
       "      <td>19.46</td>\n",
       "      <td>...</td>\n",
       "      <td>549.86</td>\n",
       "      <td>18.18</td>\n",
       "      <td>4.55</td>\n",
       "      <td>77.27</td>\n",
       "      <td>2.0</td>\n",
       "      <td>16.93</td>\n",
       "      <td>5.37</td>\n",
       "      <td>0.038</td>\n",
       "      <td>0.220</td>\n",
       "      <td>0.743</td>\n",
       "    </tr>\n",
       "  </tbody>\n",
       "</table>\n",
       "<p>5 rows × 22 columns</p>\n",
       "</div>"
      ],
      "text/plain": [
       "             Country         Subcontinent                Region  In EU   \n",
       "0        Afghanistan  West & Central Asia  ASIA (EX. NEAR EAST)  False  \\\n",
       "1            Albania               Europe        EASTERN EUROPE  False   \n",
       "2            Algeria         North Africa       NORTHERN AFRICA  False   \n",
       "6           Anguilla    Caribbean Islands   LATIN AMER. & CARIB  False   \n",
       "7  Antigua & Barbuda    Caribbean Islands   LATIN AMER. & CARIB  False   \n",
       "\n",
       "   Population          Area  Pop. Density  Coastline  Net migration   \n",
       "0    31056997  1.677019e+06         47.96       0.00          23.06  \\\n",
       "1     3581655  7.445703e+04        124.59       1.26          -4.93   \n",
       "2    32930091  6.168683e+06         13.83       0.04          -0.39   \n",
       "6       13477  2.641790e+02        132.13      59.80          10.76   \n",
       "7       69108  1.147366e+03        156.00      34.54          -6.15   \n",
       "\n",
       "   Infant mortality  ...  Phones  Arable  Crops   Other  Climate  Birthrate   \n",
       "0            163.07  ...    3.22   12.13   0.22   87.65      1.0      46.60  \\\n",
       "1             21.52  ...   71.20   21.09   4.42   74.49      3.0      15.11   \n",
       "2             31.00  ...   78.10    3.22   0.25   96.53      1.0      17.14   \n",
       "6             21.03  ...  460.04    0.00   0.00  100.00      2.0      14.17   \n",
       "7             19.46  ...  549.86   18.18   4.55   77.27      2.0      16.93   \n",
       "\n",
       "   Deathrate  Agriculture  Industry  Service  \n",
       "0      20.34        0.380     0.240    0.380  \n",
       "1       5.22        0.232     0.188    0.579  \n",
       "2       4.61        0.101     0.600    0.298  \n",
       "6       5.34        0.040     0.180    0.780  \n",
       "7       5.37        0.038     0.220    0.743  \n",
       "\n",
       "[5 rows x 22 columns]"
      ]
     },
     "execution_count": 98,
     "metadata": {},
     "output_type": "execute_result"
    }
   ],
   "source": [
    "countries = countries.dropna()\n",
    "countries.head()"
   ]
  },
  {
   "cell_type": "code",
   "execution_count": 130,
   "id": "b3db46d7-b6b8-452d-bff3-16a212e2566f",
   "metadata": {
    "tags": []
   },
   "outputs": [],
   "source": [
    "# your code\n"
   ]
  }
 ],
 "metadata": {
  "kernelspec": {
   "display_name": "Python 3 (ipykernel)",
   "language": "python",
   "name": "python3"
  },
  "language_info": {
   "codemirror_mode": {
    "name": "ipython",
    "version": 3
   },
   "file_extension": ".py",
   "mimetype": "text/x-python",
   "name": "python",
   "nbconvert_exporter": "python",
   "pygments_lexer": "ipython3",
   "version": "3.10.4"
  }
 },
 "nbformat": 4,
 "nbformat_minor": 5
}
