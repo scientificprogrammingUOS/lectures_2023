{
 "cells": [
  {
   "cell_type": "markdown",
   "id": "846e5b46-316e-4eb9-9911-7b910f639674",
   "metadata": {},
   "source": [
    "# Categorical Data in Pandas"
   ]
  },
  {
   "cell_type": "markdown",
   "id": "ce1ebcbb-dd0f-4271-b86c-91d9cf2388c5",
   "metadata": {},
   "source": [
    "<br>\n",
    "<p style=\"color: green; line-height: 0.8;\"><strong>&#9650; Memory Usage</strong> &#9650;</p>\n",
    "<p style=\"color: green; line-height: 0.8;\"><strong>&#9650; Performance</strong> &#9650;</p>\n",
    "<p style=\"color: green; line-height: 0.8;\"><strong>&#9650; Library Integration</strong> &#9650;</p>\n",
    "<p style=\"color: green; line-height: 0.8;\"><strong>&#9650; Added Functionality</strong> &#9650;</p>"
   ]
  },
  {
   "cell_type": "code",
   "execution_count": 1,
   "id": "454ca675-3745-4a44-a093-b08d8fca0aa1",
   "metadata": {},
   "outputs": [
    {
     "data": {
      "text/plain": [
       "0    a\n",
       "1    b\n",
       "2    b\n",
       "3    a\n",
       "4    c\n",
       "5    c\n",
       "dtype: category\n",
       "Categories (3, object): ['a', 'b', 'c']"
      ]
     },
     "execution_count": 1,
     "metadata": {},
     "output_type": "execute_result"
    }
   ],
   "source": [
    "import pandas as pd\n",
    "import numpy as np\n",
    "\n",
    "pd.Series(['a', 'b', 'b', 'a', 'c', 'c'], dtype='category')"
   ]
  },
  {
   "cell_type": "markdown",
   "id": "04de1662-161a-4a64-947b-b77b424aec62",
   "metadata": {},
   "source": [
    "### Memory Usage \n"
   ]
  },
  {
   "cell_type": "code",
   "execution_count": 2,
   "id": "b47c77e2-602f-4966-95b8-a13e2f3e7137",
   "metadata": {},
   "outputs": [],
   "source": [
    "df_size = 100_000\n",
    "\n",
    "df1 = pd.DataFrame(\n",
    "    {\n",
    "        \"float_1\": np.random.rand(df_size),\n",
    "        \"food\": np.random.choice([\"pizza\", \"burger\", \"sushi\", \"tacos\"], size=df_size),\n",
    "    }\n",
    ")"
   ]
  },
  {
   "cell_type": "code",
   "execution_count": 3,
   "id": "8a7815da-ab64-4cbf-985a-ab5ece711baf",
   "metadata": {},
   "outputs": [
    {
     "data": {
      "text/plain": [
       "Index          128\n",
       "float_1     800000\n",
       "food       6225064\n",
       "dtype: int64"
      ]
     },
     "execution_count": 3,
     "metadata": {},
     "output_type": "execute_result"
    }
   ],
   "source": [
    "df1.memory_usage(deep=True)"
   ]
  },
  {
   "cell_type": "markdown",
   "id": "634cde65-f7a3-478b-9e5e-70aa92d27e9c",
   "metadata": {},
   "source": [
    "**100.000** floats only use up **0.8MB**, while the same amount of strings uses **6MB**"
   ]
  },
  {
   "cell_type": "markdown",
   "id": "f4c5654f-d3b5-47a4-8832-45a6e7d75e4e",
   "metadata": {},
   "source": [
    "#### Now let's make the data categorical!"
   ]
  },
  {
   "cell_type": "code",
   "execution_count": 4,
   "id": "378287dd-d2c5-4fd1-a419-c1d7c9b3e8f7",
   "metadata": {},
   "outputs": [
    {
     "data": {
      "text/plain": [
       "Index         128\n",
       "float_1    800000\n",
       "food       100421\n",
       "dtype: int64"
      ]
     },
     "execution_count": 4,
     "metadata": {},
     "output_type": "execute_result"
    }
   ],
   "source": [
    "df1_cat = df1.astype({\"food\": \"category\"})\n",
    "\n",
    "df1_cat.memory_usage(deep=True)"
   ]
  },
  {
   "cell_type": "markdown",
   "id": "ec3e6248-5d62-4bd4-9392-310e36c4b4ce",
   "metadata": {},
   "source": [
    " We reduced the memory usage from **6MB** down to **0.1MB** :D\n"
   ]
  },
  {
   "cell_type": "markdown",
   "id": "fa29bf9f-2f87-4126-a01c-3d2ea30c3fc7",
   "metadata": {},
   "source": [
    "<br>\n",
    "\n",
    "### Performance"
   ]
  },
  {
   "cell_type": "code",
   "execution_count": 5,
   "id": "85a90283-a991-4922-b5dc-1aeea57d1b6a",
   "metadata": {},
   "outputs": [
    {
     "name": "stdout",
     "output_type": "stream",
     "text": [
      "10.8 ms ± 49 µs per loop (mean ± std. dev. of 7 runs, 100 loops each)\n"
     ]
    }
   ],
   "source": [
    "%%timeit \n",
    "df1[\"food\"].str.upper()"
   ]
  },
  {
   "cell_type": "code",
   "execution_count": 6,
   "id": "595b45ce-3750-4c81-b6aa-bdc220d098e5",
   "metadata": {},
   "outputs": [
    {
     "name": "stdout",
     "output_type": "stream",
     "text": [
      "675 µs ± 363 ns per loop (mean ± std. dev. of 7 runs, 1,000 loops each)\n"
     ]
    }
   ],
   "source": [
    "%%timeit \n",
    "df1_cat[\"food\"].str.upper()"
   ]
  },
  {
   "cell_type": "markdown",
   "id": "295bf114-d766-41b6-9aa2-e6c1805bbc1f",
   "metadata": {},
   "source": [
    "<br>\n",
    "\n",
    "### BUT"
   ]
  },
  {
   "cell_type": "code",
   "execution_count": 7,
   "id": "ae91ccdc-a218-4d1b-937c-0d89c40ff5c9",
   "metadata": {},
   "outputs": [
    {
     "data": {
      "text/plain": [
       "6225192"
      ]
     },
     "execution_count": 7,
     "metadata": {},
     "output_type": "execute_result"
    }
   ],
   "source": [
    "df1_cat[\"food\"].str.upper().memory_usage(deep=True)"
   ]
  },
  {
   "cell_type": "markdown",
   "id": "5e43fe18-84f6-4ede-910e-e78ba49ac893",
   "metadata": {},
   "source": [
    "Memory usage went back to **6MB**.<br>\n",
    "Because our series is not of type *categorical* anymore."
   ]
  },
  {
   "cell_type": "code",
   "execution_count": 8,
   "id": "2e1384c1-1894-4baf-b000-a8e45e961444",
   "metadata": {},
   "outputs": [
    {
     "data": {
      "text/plain": [
       "'object'"
      ]
     },
     "execution_count": 8,
     "metadata": {},
     "output_type": "execute_result"
    }
   ],
   "source": [
    "str(df1_cat[\"food\"].str.upper().dtype)"
   ]
  },
  {
   "cell_type": "markdown",
   "id": "f5d4ff95-9832-43d4-8865-66d9bf8c63be",
   "metadata": {},
   "source": [
    "<br>\n",
    "\n",
    "### Solution\n",
    "We don't want to operate on the whole series but rather on the individual categories."
   ]
  },
  {
   "cell_type": "code",
   "execution_count": 9,
   "id": "44973dbb-ae69-41e6-82b9-181e4467d855",
   "metadata": {},
   "outputs": [
    {
     "name": "stdout",
     "output_type": "stream",
     "text": [
      "51.1 µs ± 207 ns per loop (mean ± std. dev. of 7 runs, 10,000 loops each)\n"
     ]
    }
   ],
   "source": [
    "%%timeit \n",
    "df1_cat[\"food\"].cat.rename_categories(str.upper)"
   ]
  },
  {
   "cell_type": "markdown",
   "id": "8651e915-6fba-4222-bb92-78ffd862ae26",
   "metadata": {},
   "source": [
    "This also makes the operation and additional **10x** faster compared to our previous approach."
   ]
  },
  {
   "cell_type": "code",
   "execution_count": 10,
   "id": "f167cc8d-a244-488c-ac9e-1b3ba1020bd3",
   "metadata": {},
   "outputs": [
    {
     "data": {
      "text/plain": [
       "'category'"
      ]
     },
     "execution_count": 10,
     "metadata": {},
     "output_type": "execute_result"
    }
   ],
   "source": [
    "str(df1_cat[\"food\"].cat.rename_categories(str.upper).dtype)"
   ]
  },
  {
   "cell_type": "markdown",
   "id": "bf8531ec-43e0-46b8-9317-0e807cb17164",
   "metadata": {},
   "source": [
    "And also our categories are intact"
   ]
  },
  {
   "cell_type": "markdown",
   "id": "e42d50f2-c832-48b8-ab5d-a9c27d4a4680",
   "metadata": {},
   "source": [
    "There are some more tricky things, that you might encounter when working with categorical series.<br>\n",
    "[Here](https://towardsdatascience.com/staying-sane-while-adopting-pandas-categorical-datatypes-78dbd19dcd8a) you can find some information on how to handle this tricky situations."
   ]
  },
  {
   "cell_type": "markdown",
   "id": "50362855-b271-471b-abf6-0049372a6705",
   "metadata": {},
   "source": [
    "<br>\n",
    "\n",
    "## Ordered Categorical Data"
   ]
  },
  {
   "cell_type": "code",
   "execution_count": 11,
   "id": "afb80df1-7783-4ef4-a16c-c655a92a5936",
   "metadata": {},
   "outputs": [
    {
     "data": {
      "text/plain": [
       "0       Low\n",
       "1    Medium\n",
       "2      High\n",
       "3       Low\n",
       "4      High\n",
       "dtype: category\n",
       "Categories (3, object): ['Low' < 'Medium' < 'High']"
      ]
     },
     "execution_count": 11,
     "metadata": {},
     "output_type": "execute_result"
    }
   ],
   "source": [
    "s1 = pd.Series(['Low', 'Medium', 'High', 'Low', 'High'])\n",
    "\n",
    "# Define the ordered categories and their order\n",
    "ordered_categories = ['Low', 'Medium', 'High']\n",
    "\n",
    "# Create an ordered categorical series\n",
    "s1_ord = pd.Series(pd.Categorical(s1, categories=ordered_categories, ordered=True))\n",
    "\n",
    "s1_ord"
   ]
  },
  {
   "cell_type": "code",
   "execution_count": 12,
   "id": "0b2e3bb2-f5ae-4d64-86f4-91e4e39ab786",
   "metadata": {},
   "outputs": [
    {
     "data": {
      "text/plain": [
       "0    Medium\n",
       "1    Medium\n",
       "2       Low\n",
       "3      High\n",
       "4      High\n",
       "dtype: category\n",
       "Categories (3, object): ['Low' < 'Medium' < 'High']"
      ]
     },
     "execution_count": 12,
     "metadata": {},
     "output_type": "execute_result"
    }
   ],
   "source": [
    "s2_ord = pd.Series(pd.Categorical(['Medium', 'Medium', 'Low', 'High', 'High'], categories=['Low', 'Medium', 'High'], ordered=True))\n",
    "s2_ord"
   ]
  },
  {
   "cell_type": "markdown",
   "id": "7d714fad-9499-4e0b-b27e-29bec7ec0891",
   "metadata": {},
   "source": [
    "<br>\n",
    "\n",
    "####  operations with ordered categorical data\n",
    "with ordered categories we can use the comparison operators `(<, >, <=, >=)`<br>\n",
    "and methods like `min()`, `max()`, `sort_values()`. "
   ]
  },
  {
   "cell_type": "code",
   "execution_count": 13,
   "id": "c4905a82-3ec0-4e7a-9b99-3341d263fdd9",
   "metadata": {},
   "outputs": [
    {
     "data": {
      "text/plain": [
       "0     True\n",
       "1    False\n",
       "2    False\n",
       "3     True\n",
       "4    False\n",
       "dtype: bool"
      ]
     },
     "execution_count": 13,
     "metadata": {},
     "output_type": "execute_result"
    }
   ],
   "source": [
    "s1_ord < s2_ord"
   ]
  },
  {
   "cell_type": "code",
   "execution_count": 14,
   "id": "71ed3d87-bf7c-4cea-a8da-355a0bb5ab30",
   "metadata": {},
   "outputs": [
    {
     "data": {
      "text/plain": [
       "('Low', 'High')"
      ]
     },
     "execution_count": 14,
     "metadata": {},
     "output_type": "execute_result"
    }
   ],
   "source": [
    "s1_ord.min(), s1_ord.max()"
   ]
  },
  {
   "cell_type": "code",
   "execution_count": 15,
   "id": "ffaad150-51c9-4e03-9e6a-95a6498617a8",
   "metadata": {},
   "outputs": [
    {
     "data": {
      "text/plain": [
       "0       Low\n",
       "3       Low\n",
       "1    Medium\n",
       "2      High\n",
       "4      High\n",
       "dtype: category\n",
       "Categories (3, object): ['Low' < 'Medium' < 'High']"
      ]
     },
     "execution_count": 15,
     "metadata": {},
     "output_type": "execute_result"
    }
   ],
   "source": [
    "s1_ord.sort_values()"
   ]
  },
  {
   "cell_type": "markdown",
   "id": "21f88a4b-f040-45d8-9806-98863b22e85e",
   "metadata": {},
   "source": [
    "<br>\n",
    "\n",
    "## Discretizing continuous values (Binning)\n",
    "Sometimes it makes sense to convert numeric into categorical data. For example, for some problems the exact age of a person might not matter, but only whether the person is underaged or not. This process of conversion is called binning."
   ]
  },
  {
   "cell_type": "code",
   "execution_count": 16,
   "id": "1f578e98-5062-4ff3-a08b-5b22bc259e07",
   "metadata": {},
   "outputs": [
    {
     "data": {
      "text/html": [
       "<div>\n",
       "<style scoped>\n",
       "    .dataframe tbody tr th:only-of-type {\n",
       "        vertical-align: middle;\n",
       "    }\n",
       "\n",
       "    .dataframe tbody tr th {\n",
       "        vertical-align: top;\n",
       "    }\n",
       "\n",
       "    .dataframe thead th {\n",
       "        text-align: right;\n",
       "    }\n",
       "</style>\n",
       "<table border=\"1\" class=\"dataframe\">\n",
       "  <thead>\n",
       "    <tr style=\"text-align: right;\">\n",
       "      <th></th>\n",
       "      <th>survived</th>\n",
       "      <th>pclass</th>\n",
       "      <th>sex</th>\n",
       "      <th>age</th>\n",
       "      <th>sibsp</th>\n",
       "      <th>parch</th>\n",
       "      <th>fare</th>\n",
       "      <th>embarked</th>\n",
       "      <th>class</th>\n",
       "      <th>who</th>\n",
       "      <th>adult_male</th>\n",
       "      <th>deck</th>\n",
       "      <th>embark_town</th>\n",
       "      <th>alive</th>\n",
       "      <th>alone</th>\n",
       "    </tr>\n",
       "  </thead>\n",
       "  <tbody>\n",
       "    <tr>\n",
       "      <th>0</th>\n",
       "      <td>0</td>\n",
       "      <td>3</td>\n",
       "      <td>male</td>\n",
       "      <td>22.0</td>\n",
       "      <td>1</td>\n",
       "      <td>0</td>\n",
       "      <td>7.2500</td>\n",
       "      <td>S</td>\n",
       "      <td>Third</td>\n",
       "      <td>man</td>\n",
       "      <td>True</td>\n",
       "      <td>NaN</td>\n",
       "      <td>Southampton</td>\n",
       "      <td>no</td>\n",
       "      <td>False</td>\n",
       "    </tr>\n",
       "    <tr>\n",
       "      <th>1</th>\n",
       "      <td>1</td>\n",
       "      <td>1</td>\n",
       "      <td>female</td>\n",
       "      <td>38.0</td>\n",
       "      <td>1</td>\n",
       "      <td>0</td>\n",
       "      <td>71.2833</td>\n",
       "      <td>C</td>\n",
       "      <td>First</td>\n",
       "      <td>woman</td>\n",
       "      <td>False</td>\n",
       "      <td>C</td>\n",
       "      <td>Cherbourg</td>\n",
       "      <td>yes</td>\n",
       "      <td>False</td>\n",
       "    </tr>\n",
       "    <tr>\n",
       "      <th>2</th>\n",
       "      <td>1</td>\n",
       "      <td>3</td>\n",
       "      <td>female</td>\n",
       "      <td>26.0</td>\n",
       "      <td>0</td>\n",
       "      <td>0</td>\n",
       "      <td>7.9250</td>\n",
       "      <td>S</td>\n",
       "      <td>Third</td>\n",
       "      <td>woman</td>\n",
       "      <td>False</td>\n",
       "      <td>NaN</td>\n",
       "      <td>Southampton</td>\n",
       "      <td>yes</td>\n",
       "      <td>True</td>\n",
       "    </tr>\n",
       "    <tr>\n",
       "      <th>3</th>\n",
       "      <td>1</td>\n",
       "      <td>1</td>\n",
       "      <td>female</td>\n",
       "      <td>35.0</td>\n",
       "      <td>1</td>\n",
       "      <td>0</td>\n",
       "      <td>53.1000</td>\n",
       "      <td>S</td>\n",
       "      <td>First</td>\n",
       "      <td>woman</td>\n",
       "      <td>False</td>\n",
       "      <td>C</td>\n",
       "      <td>Southampton</td>\n",
       "      <td>yes</td>\n",
       "      <td>False</td>\n",
       "    </tr>\n",
       "    <tr>\n",
       "      <th>4</th>\n",
       "      <td>0</td>\n",
       "      <td>3</td>\n",
       "      <td>male</td>\n",
       "      <td>35.0</td>\n",
       "      <td>0</td>\n",
       "      <td>0</td>\n",
       "      <td>8.0500</td>\n",
       "      <td>S</td>\n",
       "      <td>Third</td>\n",
       "      <td>man</td>\n",
       "      <td>True</td>\n",
       "      <td>NaN</td>\n",
       "      <td>Southampton</td>\n",
       "      <td>no</td>\n",
       "      <td>True</td>\n",
       "    </tr>\n",
       "  </tbody>\n",
       "</table>\n",
       "</div>"
      ],
      "text/plain": [
       "   survived  pclass     sex   age  sibsp  parch     fare embarked  class  \\\n",
       "0         0       3    male  22.0      1      0   7.2500        S  Third   \n",
       "1         1       1  female  38.0      1      0  71.2833        C  First   \n",
       "2         1       3  female  26.0      0      0   7.9250        S  Third   \n",
       "3         1       1  female  35.0      1      0  53.1000        S  First   \n",
       "4         0       3    male  35.0      0      0   8.0500        S  Third   \n",
       "\n",
       "     who  adult_male deck  embark_town alive  alone  \n",
       "0    man        True  NaN  Southampton    no  False  \n",
       "1  woman       False    C    Cherbourg   yes  False  \n",
       "2  woman       False  NaN  Southampton   yes   True  \n",
       "3  woman       False    C  Southampton   yes  False  \n",
       "4    man        True  NaN  Southampton    no   True  "
      ]
     },
     "execution_count": 16,
     "metadata": {},
     "output_type": "execute_result"
    }
   ],
   "source": [
    "import seaborn as sns\n",
    "\n",
    "titanic = sns.load_dataset('titanic')\n",
    "titanic.head()"
   ]
  },
  {
   "cell_type": "code",
   "execution_count": 17,
   "id": "f5e6cb6d-9d63-4f12-affc-29a23bd4c5b9",
   "metadata": {},
   "outputs": [
    {
     "data": {
      "text/plain": [
       "count    714.000000\n",
       "mean      29.699118\n",
       "std       14.526497\n",
       "min        0.420000\n",
       "25%       20.125000\n",
       "50%       28.000000\n",
       "75%       38.000000\n",
       "max       80.000000\n",
       "Name: age, dtype: float64"
      ]
     },
     "execution_count": 17,
     "metadata": {},
     "output_type": "execute_result"
    }
   ],
   "source": [
    "titanic['age'].describe()"
   ]
  },
  {
   "cell_type": "code",
   "execution_count": 18,
   "id": "c2b5aae8-3fbc-4400-9bcc-432d133ca03e",
   "metadata": {},
   "outputs": [
    {
     "data": {
      "text/plain": [
       "0    22.0\n",
       "1    38.0\n",
       "2    26.0\n",
       "3    35.0\n",
       "4    35.0\n",
       "Name: age, dtype: float64"
      ]
     },
     "execution_count": 18,
     "metadata": {},
     "output_type": "execute_result"
    }
   ],
   "source": [
    "titanic['age'].head(5)"
   ]
  },
  {
   "cell_type": "markdown",
   "id": "56ae462c-0833-4114-83ac-51ae0f2f60e9",
   "metadata": {},
   "source": [
    "### `cut`"
   ]
  },
  {
   "cell_type": "code",
   "execution_count": 19,
   "id": "73aa31b1-aade-4ad1-80a7-386da2129365",
   "metadata": {},
   "outputs": [
    {
     "data": {
      "text/plain": [
       "0      (0.34, 26.947]\n",
       "1    (26.947, 53.473]\n",
       "2      (0.34, 26.947]\n",
       "3    (26.947, 53.473]\n",
       "4    (26.947, 53.473]\n",
       "Name: age, dtype: category\n",
       "Categories (3, interval[float64, right]): [(0.34, 26.947] < (26.947, 53.473] < (53.473, 80.0]]"
      ]
     },
     "execution_count": 19,
     "metadata": {},
     "output_type": "execute_result"
    }
   ],
   "source": [
    "pd.cut(titanic['age'], bins=3).head(5)"
   ]
  },
  {
   "cell_type": "markdown",
   "id": "33293c95-f9d9-417f-8ff1-827ae5f023e9",
   "metadata": {},
   "source": [
    "By default cut will split the data into equally sized intervals. We can also set the bin edges ourselves."
   ]
  },
  {
   "cell_type": "code",
   "execution_count": 20,
   "id": "6a0c7ac8-e84d-45e1-b2d8-19e8af78ad15",
   "metadata": {},
   "outputs": [
    {
     "data": {
      "text/plain": [
       "0    (18.0, 67.0]\n",
       "1    (18.0, 67.0]\n",
       "2    (18.0, 67.0]\n",
       "3    (18.0, 67.0]\n",
       "4    (18.0, 67.0]\n",
       "Name: age, dtype: category\n",
       "Categories (3, interval[float64, right]): [(-0.001, 18.0] < (18.0, 67.0] < (67.0, 80.0]]"
      ]
     },
     "execution_count": 20,
     "metadata": {},
     "output_type": "execute_result"
    }
   ],
   "source": [
    "pd.cut(titanic['age'], bins=[0, 18, 67, 80], include_lowest=True).head(5)"
   ]
  },
  {
   "cell_type": "markdown",
   "id": "b1acae0d-f520-43e8-9990-dfbc4735ff70",
   "metadata": {},
   "source": [
    "If you set the bin edges manually, be sure to cover the whole range as values not falling into an interval will be set to NA."
   ]
  },
  {
   "cell_type": "code",
   "execution_count": 21,
   "id": "68187fa5-4a1d-4206-9d0a-b2c49ede379f",
   "metadata": {},
   "outputs": [
    {
     "data": {
      "text/plain": [
       "0    NaN\n",
       "1    NaN\n",
       "2    NaN\n",
       "3    NaN\n",
       "4    NaN\n",
       "Name: age, dtype: category\n",
       "Categories (3, object): ['child' < 'grown-up' < 'senior']"
      ]
     },
     "execution_count": 21,
     "metadata": {},
     "output_type": "execute_result"
    }
   ],
   "source": [
    "pd.cut(titanic['age'], \n",
    "       bins=[64, 66, 67, 80],\n",
    "       labels=['child', 'grown-up', 'senior']).head(5)"
   ]
  },
  {
   "cell_type": "code",
   "execution_count": 23,
   "id": "9374d796-4f97-486a-a1f2-207b1110682b",
   "metadata": {},
   "outputs": [
    {
     "data": {
      "text/plain": [
       "0      grown-up\n",
       "1      grown-up\n",
       "2      grown-up\n",
       "3      grown-up\n",
       "4      grown-up\n",
       "         ...   \n",
       "886    grown-up\n",
       "887    grown-up\n",
       "888         NaN\n",
       "889    grown-up\n",
       "890    grown-up\n",
       "Name: Age_coarse, Length: 891, dtype: category\n",
       "Categories (3, object): ['child' < 'grown-up' < 'senior']"
      ]
     },
     "execution_count": 23,
     "metadata": {},
     "output_type": "execute_result"
    }
   ],
   "source": [
    "titanic['Age_coarse'] = pd.cut(titanic['age'], bins=[0, 18, 67, 80], labels=['child', 'grown-up', 'senior'])\n",
    "titanic['Age_coarse']"
   ]
  },
  {
   "cell_type": "markdown",
   "id": "0b4d0af7-d8fa-4f8a-b401-694c721d5346",
   "metadata": {},
   "source": [
    "### `qcut`\n",
    "cuts at quantiles, meaning it will try to create n evenly sized bins"
   ]
  },
  {
   "cell_type": "code",
   "execution_count": 25,
   "id": "4af3d3fc-0e4a-4ba4-bd4c-820087653026",
   "metadata": {},
   "outputs": [
    {
     "data": {
      "text/plain": [
       "0    (20.125, 28.0]\n",
       "1      (28.0, 38.0]\n",
       "2    (20.125, 28.0]\n",
       "3      (28.0, 38.0]\n",
       "4      (28.0, 38.0]\n",
       "Name: age, dtype: category\n",
       "Categories (4, interval[float64, right]): [(0.419, 20.125] < (20.125, 28.0] < (28.0, 38.0] < (38.0, 80.0]]"
      ]
     },
     "execution_count": 25,
     "metadata": {},
     "output_type": "execute_result"
    }
   ],
   "source": [
    "pd.qcut(titanic['age'], 4).head()"
   ]
  },
  {
   "cell_type": "markdown",
   "id": "1ee08d94-af2a-4d2b-b748-29c44a24f265",
   "metadata": {},
   "source": [
    "## Sources"
   ]
  },
  {
   "cell_type": "markdown",
   "id": "338fa3c0-0859-4049-a7f9-be26abea6884",
   "metadata": {},
   "source": [
    "[Using pandas categories properly is tricky, here’s why…](https://towardsdatascience.com/staying-sane-while-adopting-pandas-categorical-datatypes-78dbd19dcd8a)\n",
    "\n"
   ]
  },
  {
   "cell_type": "markdown",
   "id": "3301bbc8-1462-4460-b532-f679c84ff779",
   "metadata": {},
   "source": [
    "[Here you can find an exercise](optional_exercises.ipynb#exe01)\n",
    "<img src=\"pictures/optex1.png\" width=\"50\" style=\"float: right;\"/>"
   ]
  },
  {
   "cell_type": "code",
   "execution_count": null,
   "id": "1e2e6a65-a83b-4510-9917-0bb8f98b2c8a",
   "metadata": {},
   "outputs": [],
   "source": []
  }
 ],
 "metadata": {
  "kernelspec": {
   "display_name": "Python 3 (ipykernel)",
   "language": "python",
   "name": "python3"
  },
  "language_info": {
   "codemirror_mode": {
    "name": "ipython",
    "version": 3
   },
   "file_extension": ".py",
   "mimetype": "text/x-python",
   "name": "python",
   "nbconvert_exporter": "python",
   "pygments_lexer": "ipython3",
   "version": "3.11.2"
  }
 },
 "nbformat": 4,
 "nbformat_minor": 5
}
