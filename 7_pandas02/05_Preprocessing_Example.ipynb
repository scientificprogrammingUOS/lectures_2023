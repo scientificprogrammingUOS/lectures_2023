{
 "cells": [
  {
   "cell_type": "markdown",
   "id": "b05022e5-694c-430d-9fe1-96c092cdc17b",
   "metadata": {},
   "source": [
    "# Preprocessing\n",
    "**Preprocessing** turns our raw data that is  for us and for the model hard to work with into data that we can use to effectively train machine learning algorithms.<br>\n",
    "\n",
    "We can devide **Preprocessing** into **Data Engineering** and **Feature Engineering**\n",
    "\n",
    "#### Data Engineering\n",
    "Is the process of cleaning the raw data up to the point where we can do feature engineering.<br>\n",
    "This can include:\n",
    "- merging datasets\n",
    "- formating data\n",
    "- dealing with invalid measurements\n",
    "- dropping irrelevant features\n",
    "\n",
    "\n",
    "#### Feature Engineering\n",
    "Is the process of using domain knowledge to transform data and create new features that optimize machine learning algorithms.\n",
    "<br>\n",
    "<br>"
   ]
  },
  {
   "cell_type": "markdown",
   "id": "4bb9c086-24a2-4114-a82d-661630448fe3",
   "metadata": {},
   "source": [
    "Note that there is not a hard line between **Data Engineering** and **Feature Engineering**. For example we can consider the replacement of missing values as being part of both. A data engineer might replace the missing values with zeroes to bring the raw data into proper form and then when it comes to feature engineering it might happen that replacing the missing values not with zeroes but with the mean turns out to improve the model performance.\n",
    "<br>\n",
    "<br>"
   ]
  },
  {
   "cell_type": "markdown",
   "id": "e7a340d0-2551-41d5-ba8d-3bb01f15ce0d",
   "metadata": {},
   "source": [
    "# The Plan\n",
    "**In this notebook** we will preprocess a toy dataset and in doing so show various preprocessing techniques and their effect on model performance.\n",
    "<br> \n",
    "Our goal will be to predict the rating of restaurants using the [zomato datset](https://www.kaggle.com/datasets/rajeshrampure/zomato-dataset).<br>\n",
    "\n",
    "## Table of Contents\n",
    "\n",
    "* [Imports & Settings](#Imports_Settings)\n",
    "* [Loading the Dataset](#loading_the_dataset)\n",
    "* [Model and Model Evaluation](#model_and_model_evaluation)\n",
    "* [Data Engineering](#data_engineering)\n",
    "    * [Feature Selection](#feature_selection)\n",
    "        * [1. Obviously Irrelevant Features](#obv_irr_features)\n",
    "        * [2. Percent Missing Valuess](#per_miss_values)\n",
    "        * [3. Amount of Variation](#amount_of_variation)\n",
    "        * [4. Pairwise Correlation - Dropping Redundant Features](#pair_corr)\n",
    "        * [5. Other Methods](#other_methods)\n",
    "* [Feature Engineering](#feature_engineering)\n",
    "     * [Missing Values](#missing_values)\n",
    "     * [Encoding Nominal Variables](#encoding_nominal_variables)\n",
    "     * [Feature Scaling](#feature_scaling)\n",
    "     * [Missing Values Part 2](#missing_values_part_2)\n",
    "         * [Artificial Neural Networks Imputation](#ann_imputation)\n",
    "         * [KNN Imputation](#knn_imputation)"
   ]
  },
  {
   "cell_type": "markdown",
   "id": "9221c8b3-e0c2-426a-aa8b-64ef640279c5",
   "metadata": {},
   "source": [
    "## Imports & Settings\n",
    "<a id='Imports_Settings'></a>"
   ]
  },
  {
   "cell_type": "code",
   "execution_count": 1,
   "id": "8030ab28-31a6-47c7-933e-a1da326d912a",
   "metadata": {},
   "outputs": [],
   "source": [
    "import numpy as np\n",
    "import pandas as pd\n",
    "import seaborn as sns\n",
    "from IPython.display import Markdown as md\n",
    "import warnings\n",
    "\n",
    "sns.color_palette(\"husl\", 8);\n",
    "pd.options.mode.chained_assignment = None\n",
    "warnings.simplefilter(action='ignore', category=pd.errors.PerformanceWarning)"
   ]
  },
  {
   "cell_type": "markdown",
   "id": "5b02718e-c579-4122-b543-a7b8868f9e60",
   "metadata": {},
   "source": [
    "## Loading the Dataset\n",
    "<a id='loading_the_dataset'></a>"
   ]
  },
  {
   "cell_type": "code",
   "execution_count": 2,
   "id": "f89685d7-9eca-4fa9-aa13-2810104e4004",
   "metadata": {},
   "outputs": [
    {
     "data": {
      "text/html": [
       "<div>\n",
       "<style scoped>\n",
       "    .dataframe tbody tr th:only-of-type {\n",
       "        vertical-align: middle;\n",
       "    }\n",
       "\n",
       "    .dataframe tbody tr th {\n",
       "        vertical-align: top;\n",
       "    }\n",
       "\n",
       "    .dataframe thead th {\n",
       "        text-align: right;\n",
       "    }\n",
       "</style>\n",
       "<table border=\"1\" class=\"dataframe\">\n",
       "  <thead>\n",
       "    <tr style=\"text-align: right;\">\n",
       "      <th></th>\n",
       "      <th>url</th>\n",
       "      <th>address</th>\n",
       "      <th>name</th>\n",
       "      <th>online_order</th>\n",
       "      <th>book_table</th>\n",
       "      <th>rate</th>\n",
       "      <th>votes</th>\n",
       "      <th>phone</th>\n",
       "      <th>location</th>\n",
       "      <th>rest_type</th>\n",
       "      <th>dish_liked</th>\n",
       "      <th>cuisines</th>\n",
       "      <th>approx_cost(for two people)</th>\n",
       "      <th>reviews_list</th>\n",
       "      <th>menu_item</th>\n",
       "      <th>listed_in(type)</th>\n",
       "      <th>listed_in(city)</th>\n",
       "      <th>cost in €</th>\n",
       "    </tr>\n",
       "  </thead>\n",
       "  <tbody>\n",
       "    <tr>\n",
       "      <th>0</th>\n",
       "      <td>https://www.zomato.com/bangalore/jalsa-banasha...</td>\n",
       "      <td>942, 21st Main Road, 2nd Stage, Banashankari, ...</td>\n",
       "      <td>Jalsa</td>\n",
       "      <td>Yes</td>\n",
       "      <td>Yes</td>\n",
       "      <td>4.1/5</td>\n",
       "      <td>775</td>\n",
       "      <td>080 42297555\\r\\n+91 9743772233</td>\n",
       "      <td>Banashankari</td>\n",
       "      <td>Casual Dining</td>\n",
       "      <td>Pasta, Lunch Buffet, Masala Papad, Paneer Laja...</td>\n",
       "      <td>North Indian, Mughlai, Chinese</td>\n",
       "      <td>800.0</td>\n",
       "      <td>[('Rated 4.0', 'RATED\\n  A beautiful place to ...</td>\n",
       "      <td>[]</td>\n",
       "      <td>Buffet</td>\n",
       "      <td>Banashankari</td>\n",
       "      <td>8.888889</td>\n",
       "    </tr>\n",
       "    <tr>\n",
       "      <th>1</th>\n",
       "      <td>https://www.zomato.com/bangalore/spice-elephan...</td>\n",
       "      <td>2nd Floor, 80 Feet Road, Near Big Bazaar, 6th ...</td>\n",
       "      <td>Spice Elephant</td>\n",
       "      <td>Yes</td>\n",
       "      <td>No</td>\n",
       "      <td>4.1/5</td>\n",
       "      <td>787</td>\n",
       "      <td>080 41714161</td>\n",
       "      <td>Banashankari</td>\n",
       "      <td>Casual Dining</td>\n",
       "      <td>Momos, Lunch Buffet, Chocolate Nirvana, Thai G...</td>\n",
       "      <td>Chinese, North Indian, Thai</td>\n",
       "      <td>800.0</td>\n",
       "      <td>[('Rated 4.0', 'RATED\\n  Had been here for din...</td>\n",
       "      <td>[]</td>\n",
       "      <td>Buffet</td>\n",
       "      <td>Banashankari</td>\n",
       "      <td>8.888889</td>\n",
       "    </tr>\n",
       "    <tr>\n",
       "      <th>2</th>\n",
       "      <td>https://www.zomato.com/SanchurroBangalore?cont...</td>\n",
       "      <td>1112, Next to KIMS Medical College, 17th Cross...</td>\n",
       "      <td>San Churro Cafe</td>\n",
       "      <td>Yes</td>\n",
       "      <td>No</td>\n",
       "      <td>3.8/5</td>\n",
       "      <td>918</td>\n",
       "      <td>+91 9663487993</td>\n",
       "      <td>Banashankari</td>\n",
       "      <td>Cafe, Casual Dining</td>\n",
       "      <td>Churros, Cannelloni, Minestrone Soup, Hot Choc...</td>\n",
       "      <td>Cafe, Mexican, Italian</td>\n",
       "      <td>800.0</td>\n",
       "      <td>[('Rated 3.0', \"RATED\\n  Ambience is not that ...</td>\n",
       "      <td>[]</td>\n",
       "      <td>Buffet</td>\n",
       "      <td>Banashankari</td>\n",
       "      <td>8.888889</td>\n",
       "    </tr>\n",
       "    <tr>\n",
       "      <th>3</th>\n",
       "      <td>https://www.zomato.com/bangalore/addhuri-udupi...</td>\n",
       "      <td>1st Floor, Annakuteera, 3rd Stage, Banashankar...</td>\n",
       "      <td>Addhuri Udupi Bhojana</td>\n",
       "      <td>No</td>\n",
       "      <td>No</td>\n",
       "      <td>3.7/5</td>\n",
       "      <td>88</td>\n",
       "      <td>+91 9620009302</td>\n",
       "      <td>Banashankari</td>\n",
       "      <td>Quick Bites</td>\n",
       "      <td>Masala Dosa</td>\n",
       "      <td>South Indian, North Indian</td>\n",
       "      <td>300.0</td>\n",
       "      <td>[('Rated 4.0', \"RATED\\n  Great food and proper...</td>\n",
       "      <td>[]</td>\n",
       "      <td>Buffet</td>\n",
       "      <td>Banashankari</td>\n",
       "      <td>3.333333</td>\n",
       "    </tr>\n",
       "    <tr>\n",
       "      <th>4</th>\n",
       "      <td>https://www.zomato.com/bangalore/grand-village...</td>\n",
       "      <td>10, 3rd Floor, Lakshmi Associates, Gandhi Baza...</td>\n",
       "      <td>Grand Village</td>\n",
       "      <td>No</td>\n",
       "      <td>No</td>\n",
       "      <td>3.8/5</td>\n",
       "      <td>166</td>\n",
       "      <td>+91 8026612447\\r\\n+91 9901210005</td>\n",
       "      <td>Basavanagudi</td>\n",
       "      <td>Casual Dining</td>\n",
       "      <td>Panipuri, Gol Gappe</td>\n",
       "      <td>North Indian, Rajasthani</td>\n",
       "      <td>600.0</td>\n",
       "      <td>[('Rated 4.0', 'RATED\\n  Very good restaurant ...</td>\n",
       "      <td>[]</td>\n",
       "      <td>Buffet</td>\n",
       "      <td>Banashankari</td>\n",
       "      <td>6.666667</td>\n",
       "    </tr>\n",
       "  </tbody>\n",
       "</table>\n",
       "</div>"
      ],
      "text/plain": [
       "                                                 url  \\\n",
       "0  https://www.zomato.com/bangalore/jalsa-banasha...   \n",
       "1  https://www.zomato.com/bangalore/spice-elephan...   \n",
       "2  https://www.zomato.com/SanchurroBangalore?cont...   \n",
       "3  https://www.zomato.com/bangalore/addhuri-udupi...   \n",
       "4  https://www.zomato.com/bangalore/grand-village...   \n",
       "\n",
       "                                             address                   name  \\\n",
       "0  942, 21st Main Road, 2nd Stage, Banashankari, ...                  Jalsa   \n",
       "1  2nd Floor, 80 Feet Road, Near Big Bazaar, 6th ...         Spice Elephant   \n",
       "2  1112, Next to KIMS Medical College, 17th Cross...        San Churro Cafe   \n",
       "3  1st Floor, Annakuteera, 3rd Stage, Banashankar...  Addhuri Udupi Bhojana   \n",
       "4  10, 3rd Floor, Lakshmi Associates, Gandhi Baza...          Grand Village   \n",
       "\n",
       "  online_order book_table   rate  votes                             phone  \\\n",
       "0          Yes        Yes  4.1/5    775    080 42297555\\r\\n+91 9743772233   \n",
       "1          Yes         No  4.1/5    787                      080 41714161   \n",
       "2          Yes         No  3.8/5    918                    +91 9663487993   \n",
       "3           No         No  3.7/5     88                    +91 9620009302   \n",
       "4           No         No  3.8/5    166  +91 8026612447\\r\\n+91 9901210005   \n",
       "\n",
       "       location            rest_type  \\\n",
       "0  Banashankari        Casual Dining   \n",
       "1  Banashankari        Casual Dining   \n",
       "2  Banashankari  Cafe, Casual Dining   \n",
       "3  Banashankari          Quick Bites   \n",
       "4  Basavanagudi        Casual Dining   \n",
       "\n",
       "                                          dish_liked  \\\n",
       "0  Pasta, Lunch Buffet, Masala Papad, Paneer Laja...   \n",
       "1  Momos, Lunch Buffet, Chocolate Nirvana, Thai G...   \n",
       "2  Churros, Cannelloni, Minestrone Soup, Hot Choc...   \n",
       "3                                        Masala Dosa   \n",
       "4                                Panipuri, Gol Gappe   \n",
       "\n",
       "                         cuisines  approx_cost(for two people)  \\\n",
       "0  North Indian, Mughlai, Chinese                        800.0   \n",
       "1     Chinese, North Indian, Thai                        800.0   \n",
       "2          Cafe, Mexican, Italian                        800.0   \n",
       "3      South Indian, North Indian                        300.0   \n",
       "4        North Indian, Rajasthani                        600.0   \n",
       "\n",
       "                                        reviews_list menu_item  \\\n",
       "0  [('Rated 4.0', 'RATED\\n  A beautiful place to ...        []   \n",
       "1  [('Rated 4.0', 'RATED\\n  Had been here for din...        []   \n",
       "2  [('Rated 3.0', \"RATED\\n  Ambience is not that ...        []   \n",
       "3  [('Rated 4.0', \"RATED\\n  Great food and proper...        []   \n",
       "4  [('Rated 4.0', 'RATED\\n  Very good restaurant ...        []   \n",
       "\n",
       "  listed_in(type) listed_in(city)  cost in €  \n",
       "0          Buffet    Banashankari   8.888889  \n",
       "1          Buffet    Banashankari   8.888889  \n",
       "2          Buffet    Banashankari   8.888889  \n",
       "3          Buffet    Banashankari   3.333333  \n",
       "4          Buffet    Banashankari   6.666667  "
      ]
     },
     "execution_count": 2,
     "metadata": {},
     "output_type": "execute_result"
    }
   ],
   "source": [
    "df = pd.read_csv(\"data/zomato_v2.csv\")\n",
    "df.head()"
   ]
  },
  {
   "cell_type": "markdown",
   "id": "895a654e-08d7-48ca-b7e1-45211a5e564e",
   "metadata": {},
   "source": [
    "## Model and Model Evaluation\n",
    "We write a model function that takes the dataset and trains and validates a neural network using cross-validation.\n",
    "<br>\n",
    "https://www.pluralsight.com/guides/machine-learning-neural-networks-scikit-learn\n",
    "<a id='model_and_model_evaluation'></a>"
   ]
  },
  {
   "cell_type": "code",
   "execution_count": 3,
   "id": "6317a1cc-7d6e-4f04-88c6-2e428e58271a",
   "metadata": {},
   "outputs": [],
   "source": [
    "from sklearn.neural_network import MLPRegressor\n",
    "from sklearn.model_selection import cross_validate\n",
    "\n",
    "def model_train_val(df, target=\"rate\"):\n",
    "    '''returns the average test score across 5 cross validation splits'''\n",
    "\n",
    "    X = df.drop(columns=target)\n",
    "    y = df[target]\n",
    "        \n",
    "    mlp = MLPRegressor(hidden_layer_sizes=(32,8,4), activation='relu', solver='adam', learning_rate_init=0.01)\n",
    "   \n",
    "    results = cross_validate(mlp, X, y, cv=5, return_train_score=True)\n",
    "    \n",
    "    return np.mean(results[\"test_score\"])"
   ]
  },
  {
   "cell_type": "markdown",
   "id": "3afd69e5-caf0-4688-b401-e0f48a0a08fa",
   "metadata": {},
   "source": [
    "# Data Engineering\n",
    "<a id='data_engineering'></a>"
   ]
  },
  {
   "cell_type": "markdown",
   "id": "73285a0a-14b1-4ce2-b77c-b5fc20299df1",
   "metadata": {},
   "source": [
    "## Feature selection\n",
    "First of all, why do we even bother selecting features. Doing this does not give the model more data or extra information.<br>\n",
    "And after all a good model would just select the important features and learn from them.<br>\n",
    "So assuming we have a perfect/ideal model and enough samples there would be no reason to perform feature selection.<br>\n",
    "Reading the previous sentence you are probably already thinking \"can we really assume that our model is perfect?\" and \"when do we ever have enough samples?<br>\n",
    "And so given the obvious answer to these questions we can thinking of feature selection as making the *job* of our model and thus aknowledging that its not perfect and it will not get \"enough\" samples.<br>\n",
    "\n",
    "Now how does selecting features make the *job* of the model easier?<br>\n",
    "By removing features that are redundant or irrelveant the model does not have to first learn to not use the features and can thus converge faster and possible also to a better optimum because the model does not have to bother with what is essentially just noise. This also speeds up the training time and less ressources are used in terms of computing power and memory.<br>\n",
    "By removing the redundant/irrelevant feautes we also counteract the curse of dimensionality.<br>\n",
    "\n",
    "Another advantage of feature selection is that the model becomes easier to interpret and the results easier to visualize.\n",
    "\n",
    "<a id='feature_selection'></a>"
   ]
  },
  {
   "cell_type": "markdown",
   "id": "a676d058-06dd-405b-a9e9-3f16911771b2",
   "metadata": {},
   "source": [
    "### How to select Features\n",
    "\n",
    "1. Obviously Irrelevant\n",
    "2. Percent Missing Values\n",
    "3. Amount of Variation\n",
    "4. Pairwise Correlation\n",
    "5. Other Methods"
   ]
  },
  {
   "cell_type": "markdown",
   "id": "9c6f02c1-5af5-45ad-8cb2-f178a3af056d",
   "metadata": {},
   "source": [
    "**What features could be relevant for predicting the rating of a restaurant?**"
   ]
  },
  {
   "cell_type": "code",
   "execution_count": 4,
   "id": "12803b58-62bf-4e31-99d6-fd0bc4d22dc7",
   "metadata": {},
   "outputs": [
    {
     "data": {
      "text/plain": [
       "['url',\n",
       " 'address',\n",
       " 'name',\n",
       " 'online_order',\n",
       " 'book_table',\n",
       " 'rate',\n",
       " 'votes',\n",
       " 'phone',\n",
       " 'location',\n",
       " 'rest_type',\n",
       " 'dish_liked',\n",
       " 'cuisines',\n",
       " 'approx_cost(for two people)',\n",
       " 'reviews_list',\n",
       " 'menu_item',\n",
       " 'listed_in(type)',\n",
       " 'listed_in(city)',\n",
       " 'cost in €']"
      ]
     },
     "execution_count": 4,
     "metadata": {},
     "output_type": "execute_result"
    }
   ],
   "source": [
    "df.columns.to_list()"
   ]
  },
  {
   "cell_type": "markdown",
   "id": "80bc8012-3d12-4574-be55-3dd87005941d",
   "metadata": {},
   "source": [
    "### 1. Obviously Irrelevant Features\n",
    "**url**, **address**, **name** and **phone** are unique for every restaurant and thus not a good indicator for restaurant rating<br>\n",
    "<a id='obv_irr_features'></a>"
   ]
  },
  {
   "cell_type": "code",
   "execution_count": 5,
   "id": "5e54dd27-40c1-4983-bcef-294f94f6a858",
   "metadata": {},
   "outputs": [
    {
     "data": {
      "text/html": [
       "<div>\n",
       "<style scoped>\n",
       "    .dataframe tbody tr th:only-of-type {\n",
       "        vertical-align: middle;\n",
       "    }\n",
       "\n",
       "    .dataframe tbody tr th {\n",
       "        vertical-align: top;\n",
       "    }\n",
       "\n",
       "    .dataframe thead th {\n",
       "        text-align: right;\n",
       "    }\n",
       "</style>\n",
       "<table border=\"1\" class=\"dataframe\">\n",
       "  <thead>\n",
       "    <tr style=\"text-align: right;\">\n",
       "      <th></th>\n",
       "      <th>online_order</th>\n",
       "      <th>book_table</th>\n",
       "      <th>rate</th>\n",
       "      <th>votes</th>\n",
       "      <th>location</th>\n",
       "      <th>rest_type</th>\n",
       "      <th>dish_liked</th>\n",
       "      <th>cuisines</th>\n",
       "      <th>approx_cost(for two people)</th>\n",
       "      <th>reviews_list</th>\n",
       "      <th>menu_item</th>\n",
       "      <th>listed_in(type)</th>\n",
       "      <th>listed_in(city)</th>\n",
       "      <th>cost in €</th>\n",
       "    </tr>\n",
       "  </thead>\n",
       "  <tbody>\n",
       "    <tr>\n",
       "      <th>0</th>\n",
       "      <td>Yes</td>\n",
       "      <td>Yes</td>\n",
       "      <td>4.1/5</td>\n",
       "      <td>775</td>\n",
       "      <td>Banashankari</td>\n",
       "      <td>Casual Dining</td>\n",
       "      <td>Pasta, Lunch Buffet, Masala Papad, Paneer Laja...</td>\n",
       "      <td>North Indian, Mughlai, Chinese</td>\n",
       "      <td>800.0</td>\n",
       "      <td>[('Rated 4.0', 'RATED\\n  A beautiful place to ...</td>\n",
       "      <td>[]</td>\n",
       "      <td>Buffet</td>\n",
       "      <td>Banashankari</td>\n",
       "      <td>8.888889</td>\n",
       "    </tr>\n",
       "    <tr>\n",
       "      <th>1</th>\n",
       "      <td>Yes</td>\n",
       "      <td>No</td>\n",
       "      <td>4.1/5</td>\n",
       "      <td>787</td>\n",
       "      <td>Banashankari</td>\n",
       "      <td>Casual Dining</td>\n",
       "      <td>Momos, Lunch Buffet, Chocolate Nirvana, Thai G...</td>\n",
       "      <td>Chinese, North Indian, Thai</td>\n",
       "      <td>800.0</td>\n",
       "      <td>[('Rated 4.0', 'RATED\\n  Had been here for din...</td>\n",
       "      <td>[]</td>\n",
       "      <td>Buffet</td>\n",
       "      <td>Banashankari</td>\n",
       "      <td>8.888889</td>\n",
       "    </tr>\n",
       "    <tr>\n",
       "      <th>2</th>\n",
       "      <td>Yes</td>\n",
       "      <td>No</td>\n",
       "      <td>3.8/5</td>\n",
       "      <td>918</td>\n",
       "      <td>Banashankari</td>\n",
       "      <td>Cafe, Casual Dining</td>\n",
       "      <td>Churros, Cannelloni, Minestrone Soup, Hot Choc...</td>\n",
       "      <td>Cafe, Mexican, Italian</td>\n",
       "      <td>800.0</td>\n",
       "      <td>[('Rated 3.0', \"RATED\\n  Ambience is not that ...</td>\n",
       "      <td>[]</td>\n",
       "      <td>Buffet</td>\n",
       "      <td>Banashankari</td>\n",
       "      <td>8.888889</td>\n",
       "    </tr>\n",
       "    <tr>\n",
       "      <th>3</th>\n",
       "      <td>No</td>\n",
       "      <td>No</td>\n",
       "      <td>3.7/5</td>\n",
       "      <td>88</td>\n",
       "      <td>Banashankari</td>\n",
       "      <td>Quick Bites</td>\n",
       "      <td>Masala Dosa</td>\n",
       "      <td>South Indian, North Indian</td>\n",
       "      <td>300.0</td>\n",
       "      <td>[('Rated 4.0', \"RATED\\n  Great food and proper...</td>\n",
       "      <td>[]</td>\n",
       "      <td>Buffet</td>\n",
       "      <td>Banashankari</td>\n",
       "      <td>3.333333</td>\n",
       "    </tr>\n",
       "    <tr>\n",
       "      <th>4</th>\n",
       "      <td>No</td>\n",
       "      <td>No</td>\n",
       "      <td>3.8/5</td>\n",
       "      <td>166</td>\n",
       "      <td>Basavanagudi</td>\n",
       "      <td>Casual Dining</td>\n",
       "      <td>Panipuri, Gol Gappe</td>\n",
       "      <td>North Indian, Rajasthani</td>\n",
       "      <td>600.0</td>\n",
       "      <td>[('Rated 4.0', 'RATED\\n  Very good restaurant ...</td>\n",
       "      <td>[]</td>\n",
       "      <td>Buffet</td>\n",
       "      <td>Banashankari</td>\n",
       "      <td>6.666667</td>\n",
       "    </tr>\n",
       "  </tbody>\n",
       "</table>\n",
       "</div>"
      ],
      "text/plain": [
       "  online_order book_table   rate  votes      location            rest_type  \\\n",
       "0          Yes        Yes  4.1/5    775  Banashankari        Casual Dining   \n",
       "1          Yes         No  4.1/5    787  Banashankari        Casual Dining   \n",
       "2          Yes         No  3.8/5    918  Banashankari  Cafe, Casual Dining   \n",
       "3           No         No  3.7/5     88  Banashankari          Quick Bites   \n",
       "4           No         No  3.8/5    166  Basavanagudi        Casual Dining   \n",
       "\n",
       "                                          dish_liked  \\\n",
       "0  Pasta, Lunch Buffet, Masala Papad, Paneer Laja...   \n",
       "1  Momos, Lunch Buffet, Chocolate Nirvana, Thai G...   \n",
       "2  Churros, Cannelloni, Minestrone Soup, Hot Choc...   \n",
       "3                                        Masala Dosa   \n",
       "4                                Panipuri, Gol Gappe   \n",
       "\n",
       "                         cuisines  approx_cost(for two people)  \\\n",
       "0  North Indian, Mughlai, Chinese                        800.0   \n",
       "1     Chinese, North Indian, Thai                        800.0   \n",
       "2          Cafe, Mexican, Italian                        800.0   \n",
       "3      South Indian, North Indian                        300.0   \n",
       "4        North Indian, Rajasthani                        600.0   \n",
       "\n",
       "                                        reviews_list menu_item  \\\n",
       "0  [('Rated 4.0', 'RATED\\n  A beautiful place to ...        []   \n",
       "1  [('Rated 4.0', 'RATED\\n  Had been here for din...        []   \n",
       "2  [('Rated 3.0', \"RATED\\n  Ambience is not that ...        []   \n",
       "3  [('Rated 4.0', \"RATED\\n  Great food and proper...        []   \n",
       "4  [('Rated 4.0', 'RATED\\n  Very good restaurant ...        []   \n",
       "\n",
       "  listed_in(type) listed_in(city)  cost in €  \n",
       "0          Buffet    Banashankari   8.888889  \n",
       "1          Buffet    Banashankari   8.888889  \n",
       "2          Buffet    Banashankari   8.888889  \n",
       "3          Buffet    Banashankari   3.333333  \n",
       "4          Buffet    Banashankari   6.666667  "
      ]
     },
     "execution_count": 5,
     "metadata": {},
     "output_type": "execute_result"
    }
   ],
   "source": [
    "df_selected = df.drop(columns=[\"url\", \"address\", \"name\", \"phone\"])\n",
    "df_selected.head()"
   ]
  },
  {
   "cell_type": "markdown",
   "id": "5bb7d95e-2e48-4e9a-abd5-fe4ffac9e4ff",
   "metadata": {},
   "source": [
    "### 2. Percent Missing Values\n",
    "\n",
    "If a feature contains to many missing values we can drop that feature ... or ... turn the the missingness into a feature itself.<br>\n",
    "We will handle this in the `Missing Values` section.\n",
    "<a id='per_miss_values'></a>"
   ]
  },
  {
   "cell_type": "markdown",
   "id": "d7c22454-e1be-4b2a-945a-c6d28e2acc15",
   "metadata": {},
   "source": [
    "### 3. Amount of Variation\n",
    "\n",
    "If a feature varies very little we can argue that it contains very little information and can thus be dropped.\n",
    "<a id='amount_of_variation'></a>"
   ]
  },
  {
   "cell_type": "code",
   "execution_count": 6,
   "id": "0fe8945c-2b68-4934-96e0-bb869944b40f",
   "metadata": {},
   "outputs": [
    {
     "name": "stderr",
     "output_type": "stream",
     "text": [
      "/var/folders/65/kg2bqjyn62n9nyh0_0s86vmc0000gn/T/ipykernel_27882/4090858557.py:1: FutureWarning: Dropping of nuisance columns in DataFrame reductions (with 'numeric_only=None') is deprecated; in a future version this will raise TypeError.  Select only valid columns before calling the reduction.\n",
      "  df_selected.var()\n"
     ]
    },
    {
     "data": {
      "text/plain": [
       "votes                          646156.901605\n",
       "approx_cost(for two people)    192589.961498\n",
       "cost in €                          23.776538\n",
       "dtype: float64"
      ]
     },
     "execution_count": 6,
     "metadata": {},
     "output_type": "execute_result"
    }
   ],
   "source": [
    "df_selected.var()"
   ]
  },
  {
   "cell_type": "markdown",
   "id": "dd6e79dc-5e4a-4ca2-9587-ed9d314cf8a0",
   "metadata": {},
   "source": [
    "In our case we don't have that many numeric features and the ones we have do not have a low varience, so we are not dropping any featueres here."
   ]
  },
  {
   "cell_type": "markdown",
   "id": "1f9337ae-121e-4972-beb2-75bb687a2496",
   "metadata": {},
   "source": [
    "### 4. Pairwise Correlation - Dropping Redundant Features\n",
    "If two features are highly correlated we can drop one of them\n",
    "<a id='pair_corr'></a>"
   ]
  },
  {
   "cell_type": "code",
   "execution_count": 7,
   "id": "c6fe3816-b496-4fc0-9c89-d81ed0cf633c",
   "metadata": {},
   "outputs": [
    {
     "data": {
      "image/png": "[encoded data removed]",
      "text/plain": [
       "<Figure size 432x288 with 2 Axes>"
      ]
     },
     "metadata": {
      "needs_background": "light"
     },
     "output_type": "display_data"
    }
   ],
   "source": [
    "# we turn every features that allows for it into a numeric feature\n",
    "# if this fails for a feature we \"ignore\" the error\n",
    "df_tmp = df_selected.apply(pd.to_numeric, errors=\"ignore\")\n",
    "\n",
    "# we plot the correlation matrix with seaborn\n",
    "sns.heatmap(df_tmp.corr(), cmap=\"YlGnBu\");"
   ]
  },
  {
   "cell_type": "markdown",
   "id": "f1cd2950-9598-4fc5-bf35-b854c0a814ab",
   "metadata": {},
   "source": [
    "As we can see `approx_cost(for two people)` and `cost in €` correlate 1 to 1,<br>\n",
    "so we are not gaining any information by keeping them both"
   ]
  },
  {
   "cell_type": "code",
   "execution_count": 8,
   "id": "6f9dfe06-6c89-484a-a456-d990b31c4cb8",
   "metadata": {},
   "outputs": [],
   "source": [
    "df_selected_2 = df_selected.drop(columns=[\"approx_cost(for two people)\"])"
   ]
  },
  {
   "cell_type": "markdown",
   "id": "883a532b-4fde-4c61-a985-de9443f98fda",
   "metadata": {},
   "source": [
    "<br>\n",
    "\n",
    "\n",
    "Another pair of features that is very highly correlated is `location` and `listed_in(city)` (city of restaurant).<br>\n",
    "We can view `location` as a more specific version of `listed_in(city)`. <br>\n",
    "Because there are too many unique values in `location`, which would increase our input dimensionality too much,<br>\n",
    "we dicide to drop it and keep just the `listed_in(city)`."
   ]
  },
  {
   "cell_type": "code",
   "execution_count": 9,
   "id": "50fc48a6-0728-45c4-8989-fc930cb41445",
   "metadata": {},
   "outputs": [],
   "source": [
    "df_selected_3 = df_selected_2.drop(columns=[\"location\"])"
   ]
  },
  {
   "cell_type": "markdown",
   "id": "3bc48072-60f8-4ed2-982b-617366c6bbb1",
   "metadata": {},
   "source": [
    "We can assume the same kind of correlation between `rest_type` and `listed_in(type)`.<br>\n",
    "If the correlation of alphabetical features is not obvious we could also use some nlp, for example [N-grams](https://www.tidytextmining.com/ngrams.html).<br>\n",
    "We dicide to drop `listed_in(type)` because it contains less restaurant types."
   ]
  },
  {
   "cell_type": "code",
   "execution_count": 10,
   "id": "59383c03-8b99-4712-a8d3-602c85ab46a9",
   "metadata": {},
   "outputs": [],
   "source": [
    "df_selected_4 = df_selected_3.drop(columns=[\"listed_in(type)\"])"
   ]
  },
  {
   "cell_type": "markdown",
   "id": "c9170e0a-635d-4cd0-858d-f3cdc72a82c4",
   "metadata": {},
   "source": [
    "### 5. Other Methods\n",
    "Feature selection is a huge topic and I will link to some further ressources.\n",
    "As a piece of general advice, feature selection is considered NP-hard and it can happen that the time it takes to select features is not in proportion to the time saved during training. So it can pay off to do simply things and always make sure what you are doing works. It also makes sense to stick with established code, for example from scikit-learn.<br>\n",
    "Here are some further ressources:<br>\n",
    "[Sklearn Feature Selection](https://scikit-learn.org/stable/modules/feature_selection.html)\n",
    "<a id='other_methods'></a>"
   ]
  },
  {
   "cell_type": "markdown",
   "id": "ee819b26-b104-42f7-ac9d-efc088e70137",
   "metadata": {},
   "source": [
    "#### more dropping\n",
    "For our last step we will drop features that hold valuable information but are for now to complex to process.<br>\n",
    "These features are the **list of reviews** and the **menu**\n"
   ]
  },
  {
   "cell_type": "code",
   "execution_count": 11,
   "id": "0bf37e5a-c3e4-4dd3-b7fd-06985370ad62",
   "metadata": {},
   "outputs": [],
   "source": [
    "df_selected_5 = df_selected_4.drop(columns=[\"reviews_list\", \"menu_item\"])"
   ]
  },
  {
   "cell_type": "markdown",
   "id": "9e173f3c-bda2-4502-bd3e-bfa281587bea",
   "metadata": {},
   "source": [
    "<br>\n",
    "\n",
    "# Feature Engineering \n",
    "<a id='feature_engineering'></a>"
   ]
  },
  {
   "cell_type": "markdown",
   "id": "60fccfcd-619f-4ea9-82be-f4aeb4c6cf06",
   "metadata": {},
   "source": [
    "## Missing Values\n",
    "To handle missing values we have several options\n",
    "- dropping\n",
    "- imputation\n",
    "- turn them into a feature\n",
    "\n",
    "For the imputation option we have various methods that we can use.<br>\n",
    "*But which method is the best?*<br>\n",
    "A [review](https://www.sciencedirect.com/science/article/pii/S2352914821002653) that covered 197 atricles that applied different imputation methods from 2010-2021 came to the conclusion,<br>\n",
    "that there is no single best method that always works.<br>\n",
    "Instead the performance of a imputation methods depend on multiple factors, such as:\n",
    "- feature selection\n",
    "- outlier detection \n",
    "- feature normalization\n",
    "- classifier(s)\n",
    "- field of application\n",
    "\n",
    "So what we will do here, is apply, *when necessary*, 2 commonly used methods which are<br>\n",
    "**\"k-Nearest Neighbour imputation\"** and **\"Artifical Neural Network imputation\"**<br>\n",
    "and then see what works best.\n",
    "<a id='missing_values'></a>"
   ]
  },
  {
   "cell_type": "code",
   "execution_count": 12,
   "id": "1fa4f0fa-0653-415c-85e7-a376084926b3",
   "metadata": {},
   "outputs": [
    {
     "data": {
      "text/plain": [
       "online_order           0\n",
       "book_table             0\n",
       "rate                7775\n",
       "votes                  0\n",
       "rest_type            227\n",
       "dish_liked         28078\n",
       "cuisines              45\n",
       "listed_in(city)        0\n",
       "cost in €            346\n",
       "dtype: int64"
      ]
     },
     "execution_count": 12,
     "metadata": {},
     "output_type": "execute_result"
    }
   ],
   "source": [
    "# we can check in which columns there are missing values and how many\n",
    "df_selected_5.isnull().sum()"
   ]
  },
  {
   "cell_type": "markdown",
   "id": "310faa9c-2518-498f-9166-22ec9679bb72",
   "metadata": {},
   "source": [
    "Starting with the **rate** column we can see that some restaurants do not have a rating.<br>\n",
    "Because the ratings are the targets we are trying to predict it makes sense to drop the rows where the rating is missing.\n",
    "Ratings are missing if the values is either `nan`, `NEW` or `-`"
   ]
  },
  {
   "cell_type": "code",
   "execution_count": 13,
   "id": "81c1fef8-daae-4314-9445-23963c6a3b4f",
   "metadata": {},
   "outputs": [
    {
     "data": {
      "text/plain": [
       "array(['4.1/5', '3.8/5', '3.7/5', '3.6/5', '4.6/5', '4.0/5', '4.2/5',\n",
       "       '3.9/5', '3.1/5', '3.0/5', '3.2/5', '3.3/5', '2.8/5', '4.4/5',\n",
       "       '4.3/5', 'NEW', '2.9/5', '3.5/5', nan, '2.6/5', '3.8 /5', '3.4/5',\n",
       "       '4.5/5', '2.5/5', '2.7/5', '4.7/5', '2.4/5', '2.2/5', '2.3/5',\n",
       "       '3.4 /5', '-', '3.6 /5', '4.8/5', '3.9 /5', '4.2 /5', '4.0 /5',\n",
       "       '4.1 /5', '3.7 /5', '3.1 /5', '2.9 /5', '3.3 /5', '2.8 /5',\n",
       "       '3.5 /5', '2.7 /5', '2.5 /5', '3.2 /5', '2.6 /5', '4.5 /5',\n",
       "       '4.3 /5', '4.4 /5', '4.9/5', '2.1/5', '2.0/5', '1.8/5', '4.6 /5',\n",
       "       '4.9 /5', '3.0 /5', '4.8 /5', '2.3 /5', '4.7 /5', '2.4 /5',\n",
       "       '2.1 /5', '2.2 /5', '2.0 /5', '1.8 /5'], dtype=object)"
      ]
     },
     "execution_count": 13,
     "metadata": {},
     "output_type": "execute_result"
    }
   ],
   "source": [
    "df_selected_5[\"rate\"].unique()"
   ]
  },
  {
   "cell_type": "code",
   "execution_count": 14,
   "id": "8b1b0173-23aa-424f-aa48-749d7f66c003",
   "metadata": {},
   "outputs": [],
   "source": [
    "to_drop = [np.nan, \"NEW\", \"-\"]\n",
    "df_dropped = df_selected_5[~df_selected_5['rate'].isin(to_drop)]"
   ]
  },
  {
   "cell_type": "code",
   "execution_count": 15,
   "id": "ecacb139-34da-43a3-94ca-b179e2529714",
   "metadata": {},
   "outputs": [
    {
     "data": {
      "text/plain": [
       "array(['4.1/5', '3.8/5', '3.7/5', '3.6/5', '4.6/5', '4.0/5', '4.2/5',\n",
       "       '3.9/5', '3.1/5', '3.0/5', '3.2/5', '3.3/5', '2.8/5', '4.4/5',\n",
       "       '4.3/5', '2.9/5', '3.5/5', '2.6/5', '3.8 /5', '3.4/5', '4.5/5',\n",
       "       '2.5/5', '2.7/5', '4.7/5', '2.4/5', '2.2/5', '2.3/5', '3.4 /5',\n",
       "       '3.6 /5', '4.8/5', '3.9 /5', '4.2 /5', '4.0 /5', '4.1 /5',\n",
       "       '3.7 /5', '3.1 /5', '2.9 /5', '3.3 /5', '2.8 /5', '3.5 /5',\n",
       "       '2.7 /5', '2.5 /5', '3.2 /5', '2.6 /5', '4.5 /5', '4.3 /5',\n",
       "       '4.4 /5', '4.9/5', '2.1/5', '2.0/5', '1.8/5', '4.6 /5', '4.9 /5',\n",
       "       '3.0 /5', '4.8 /5', '2.3 /5', '4.7 /5', '2.4 /5', '2.1 /5',\n",
       "       '2.2 /5', '2.0 /5', '1.8 /5'], dtype=object)"
      ]
     },
     "execution_count": 15,
     "metadata": {},
     "output_type": "execute_result"
    }
   ],
   "source": [
    "df_dropped[\"rate\"].unique()"
   ]
  },
  {
   "cell_type": "markdown",
   "id": "2a8fb5ce-95f8-405c-9980-65bb1459f53a",
   "metadata": {},
   "source": [
    "<br>\n",
    "\n",
    "So then the next column to take care of is **rest_type**, which describes the type of restaurant"
   ]
  },
  {
   "cell_type": "code",
   "execution_count": 16,
   "id": "b42ee522-9172-4314-b535-33cd384978c6",
   "metadata": {},
   "outputs": [
    {
     "data": {
      "text/plain": [
       "995     Casual Dining\n",
       "996     Casual Dining\n",
       "997     Casual Dining\n",
       "998       Quick Bites\n",
       "999               NaN\n",
       "1000    Casual Dining\n",
       "Name: rest_type, dtype: object"
      ]
     },
     "execution_count": 16,
     "metadata": {},
     "output_type": "execute_result"
    }
   ],
   "source": [
    "df_dropped.loc[995:1000, \"rest_type\"]"
   ]
  },
  {
   "cell_type": "markdown",
   "id": "0bee51ce-15b5-4362-af94-a7031d6810ad",
   "metadata": {},
   "source": [
    "Here we can fill the NaNs with \"undefined\" which we can later encode as its own category.<br>\n",
    "So we will e.g. have the categories `[\"Casual Dining\", \"Quick Bites\", \"undefined\"]`"
   ]
  },
  {
   "cell_type": "code",
   "execution_count": 18,
   "id": "14b81a7b-0c2e-405b-b454-4b54566eda7a",
   "metadata": {},
   "outputs": [],
   "source": [
    "# with this syntax we could also replace the NaNs in multiple columns with different values\n",
    "# {\"some_column\": \"some_value\", \"other_column\": \"other_value\"}\n",
    "df_dropped.fillna({\"rest_type\": \"undefined\"}, inplace=True)"
   ]
  },
  {
   "cell_type": "code",
   "execution_count": 19,
   "id": "7e1db99a-e0b1-48ce-9ddd-02094f905327",
   "metadata": {},
   "outputs": [
    {
     "data": {
      "text/plain": [
       "995     Casual Dining\n",
       "996     Casual Dining\n",
       "997     Casual Dining\n",
       "998       Quick Bites\n",
       "999         undefined\n",
       "1000    Casual Dining\n",
       "Name: rest_type, dtype: object"
      ]
     },
     "execution_count": 19,
     "metadata": {},
     "output_type": "execute_result"
    }
   ],
   "source": [
    "df_dropped.loc[995:1000, \"rest_type\"]"
   ]
  },
  {
   "cell_type": "markdown",
   "id": "931c7213-3b39-44f3-84dd-a95e2318d22e",
   "metadata": {},
   "source": [
    "<br>\n",
    "<br>\n",
    "\n",
    "Next up is **dish_liked**, which contains dished that most people liked"
   ]
  },
  {
   "cell_type": "code",
   "execution_count": 20,
   "id": "98a2e05d-870c-4e85-b2d8-31a4b7e31773",
   "metadata": {},
   "outputs": [
    {
     "data": {
      "text/plain": [
       "51709                             NaN\n",
       "51711            Biryani, Andhra Meal\n",
       "51712                             NaN\n",
       "51715    Cocktails, Pizza, Buttermilk\n",
       "51716                             NaN\n",
       "Name: dish_liked, dtype: object"
      ]
     },
     "execution_count": 20,
     "metadata": {},
     "output_type": "execute_result"
    }
   ],
   "source": [
    "df_dropped[\"dish_liked\"].tail()"
   ]
  },
  {
   "cell_type": "markdown",
   "id": "cc8a9a09-c8af-47bf-b16f-86c05a26a7bc",
   "metadata": {},
   "source": [
    "Eventually we will have to turn the liked dishes into a numerical feature.<br>\n",
    "To keep things feasable we could extract maybe the 10 most common meals and then one-hot encode these and drop the rest. Not the whole row but just from the `dish_liked` column<br>\n",
    "This however would also leave a lot of restaurants with out any liked dishes even if they had them before, which could end up confusing ther model "
   ]
  },
  {
   "cell_type": "markdown",
   "id": "050ecef1-f755-4a29-af79-64bc09b4d91b",
   "metadata": {},
   "source": [
    "What is interesting for this feature is that ~46% of the restaurants it is missing, which is almost half."
   ]
  },
  {
   "cell_type": "code",
   "execution_count": 21,
   "id": "848ec537-404e-4367-bd73-d492d8c8a423",
   "metadata": {},
   "outputs": [
    {
     "data": {
      "text/plain": [
       "0.43688947557902313"
      ]
     },
     "execution_count": 21,
     "metadata": {},
     "output_type": "execute_result"
    }
   ],
   "source": [
    "df_dropped[\"dish_liked\"].isnull().mean()"
   ]
  },
  {
   "cell_type": "markdown",
   "id": "1d10f1d6-3536-417d-8510-33c61f36c0b5",
   "metadata": {},
   "source": [
    "This discovery gives us another option of what to do with this column. Which is turning *whether or not there are liked dishes* into a feature itself.<br>\n",
    "From this the model might learn something like: \"No liked dishes correlate with lower rating\".<br>\n",
    "We will store this feature in the column `has_liked_dishes` and drop the `dish_liked` column."
   ]
  },
  {
   "cell_type": "code",
   "execution_count": 22,
   "id": "81bebe26-d067-4eaf-a9f7-691cd6c36458",
   "metadata": {},
   "outputs": [],
   "source": [
    "df_dropped[\"has_liked_dishes\"] = df_dropped[\"dish_liked\"].notnull()"
   ]
  },
  {
   "cell_type": "code",
   "execution_count": 23,
   "id": "b2423766-a029-44ee-848b-01df973ee8fd",
   "metadata": {},
   "outputs": [
    {
     "data": {
      "text/plain": [
       "51709    False\n",
       "51711     True\n",
       "51712    False\n",
       "51715     True\n",
       "51716    False\n",
       "Name: has_liked_dishes, dtype: bool"
      ]
     },
     "execution_count": 23,
     "metadata": {},
     "output_type": "execute_result"
    }
   ],
   "source": [
    "df_dropped[\"has_liked_dishes\"].tail()"
   ]
  },
  {
   "cell_type": "code",
   "execution_count": 24,
   "id": "b0a8e9fb-09ff-4f42-a7ad-49ab9fca81c9",
   "metadata": {},
   "outputs": [],
   "source": [
    "df_dropped.drop(columns=[\"dish_liked\"], inplace=True)"
   ]
  },
  {
   "cell_type": "markdown",
   "id": "1bc52f16-b776-48d4-8337-bbe686c8bd59",
   "metadata": {},
   "source": [
    "<br>\n",
    "<br>\n",
    "\n",
    "**cuisines**"
   ]
  },
  {
   "cell_type": "code",
   "execution_count": 25,
   "id": "beb025fc-6471-44eb-ab84-87503c169290",
   "metadata": {},
   "outputs": [
    {
     "data": {
      "text/plain": [
       "435                        North Indian\n",
       "437    Healthy Food, North Indian, Thai\n",
       "440                                 NaN\n",
       "Name: cuisines, dtype: object"
      ]
     },
     "execution_count": 25,
     "metadata": {},
     "output_type": "execute_result"
    }
   ],
   "source": [
    "df_dropped.loc[435:440, \"cuisines\"]"
   ]
  },
  {
   "cell_type": "code",
   "execution_count": 26,
   "id": "61a68d9a-55c9-4307-88ac-be743b8b1914",
   "metadata": {},
   "outputs": [
    {
     "data": {
      "text/plain": [
       "11"
      ]
     },
     "execution_count": 26,
     "metadata": {},
     "output_type": "execute_result"
    }
   ],
   "source": [
    "df_dropped[\"cuisines\"].isnull().sum()"
   ]
  },
  {
   "cell_type": "markdown",
   "id": "581788e0-e3ca-434a-a431-9c64169e72c7",
   "metadata": {},
   "source": [
    "For this feature there are only 11 missing values. For us that means it's not worth considering and we can just drop the respective rows."
   ]
  },
  {
   "cell_type": "code",
   "execution_count": 27,
   "id": "28bdd45d-44df-4cf9-bbde-f0f0ef4c7add",
   "metadata": {},
   "outputs": [],
   "source": [
    "df_dropped_2 = df_dropped.loc[df_dropped[\"cuisines\"].notna(), :]"
   ]
  },
  {
   "cell_type": "markdown",
   "id": "40a9b1f6-9192-459f-9a6a-fb28a2faef7c",
   "metadata": {},
   "source": [
    "<br>\n",
    "<br>\n",
    "\n",
    "**cost in €**\n",
    "For this feature we will finally apply the imputation methods that we mentioned in the beginning.<br>\n",
    "**\"k-Nearest Neighbours imputation\"** and **\"Artifical Neural Network imputation\"**<br>"
   ]
  },
  {
   "cell_type": "code",
   "execution_count": 28,
   "id": "463065f6-57d5-4cc9-bd63-5d65559aab3a",
   "metadata": {},
   "outputs": [
    {
     "data": {
      "text/plain": [
       "array([ 8.88888889,  3.33333333,  6.66666667,  7.77777778,  6.11111111,\n",
       "        5.55555556,  5.        ,  7.22222222,  4.44444444, 10.        ,\n",
       "        2.22222222,  8.33333333,  1.66666667,  9.44444444,  1.11111111,\n",
       "       13.33333333,  3.88888889,  2.77777778, 10.55555556, 11.11111111,\n",
       "       16.66666667, 14.44444444,  2.21111111, 12.22222222, 17.77777778,\n",
       "        2.55555556,  1.44444444, 18.88888889, 15.        , 24.44444444,\n",
       "       15.55555556, 22.22222222, 20.        ,         nan, 21.11111111,\n",
       "        2.        ,  3.66666667, 27.77777778, 23.33333333, 33.33333333,\n",
       "       31.11111111, 37.77777778,  0.55555556,  0.44444444, 13.88888889,\n",
       "       38.88888889, 44.44444444, 26.66666667, 28.88888889, 16.11111111,\n",
       "        0.77777778, 35.55555556,  2.66666667, 66.66666667, 11.66666667,\n",
       "       25.55555556, 45.55555556,  1.33333333, 55.55555556, 41.11111111,\n",
       "       18.33333333, 30.        , 50.        ,  0.88888889])"
      ]
     },
     "execution_count": 28,
     "metadata": {},
     "output_type": "execute_result"
    }
   ],
   "source": [
    "df_dropped_2[\"cost in €\"].unique()"
   ]
  },
  {
   "cell_type": "markdown",
   "id": "4ea4cf2d-9b5a-4d66-9695-4d467e49aef4",
   "metadata": {},
   "source": [
    "#### k-Nearest Neighbours imputation (but not yet actually)\n",
    "**knn imputation** and also **ann imputation** require a fully numerical and also normalized dataset.<br>\n",
    "So before we can apply either of them we have to jump to some other preprocessing steps."
   ]
  },
  {
   "cell_type": "code",
   "execution_count": 29,
   "id": "afe4b632-d6a7-4d7c-a7cd-1852a0b6cf8e",
   "metadata": {},
   "outputs": [
    {
     "data": {
      "text/html": [
       "<div>\n",
       "<style scoped>\n",
       "    .dataframe tbody tr th:only-of-type {\n",
       "        vertical-align: middle;\n",
       "    }\n",
       "\n",
       "    .dataframe tbody tr th {\n",
       "        vertical-align: top;\n",
       "    }\n",
       "\n",
       "    .dataframe thead th {\n",
       "        text-align: right;\n",
       "    }\n",
       "</style>\n",
       "<table border=\"1\" class=\"dataframe\">\n",
       "  <thead>\n",
       "    <tr style=\"text-align: right;\">\n",
       "      <th></th>\n",
       "      <th>online_order</th>\n",
       "      <th>book_table</th>\n",
       "      <th>rate</th>\n",
       "      <th>votes</th>\n",
       "      <th>rest_type</th>\n",
       "      <th>cuisines</th>\n",
       "      <th>listed_in(city)</th>\n",
       "      <th>cost in €</th>\n",
       "      <th>has_liked_dishes</th>\n",
       "    </tr>\n",
       "  </thead>\n",
       "  <tbody>\n",
       "    <tr>\n",
       "      <th>0</th>\n",
       "      <td>Yes</td>\n",
       "      <td>Yes</td>\n",
       "      <td>4.1/5</td>\n",
       "      <td>775</td>\n",
       "      <td>Casual Dining</td>\n",
       "      <td>North Indian, Mughlai, Chinese</td>\n",
       "      <td>Banashankari</td>\n",
       "      <td>8.888889</td>\n",
       "      <td>True</td>\n",
       "    </tr>\n",
       "    <tr>\n",
       "      <th>1</th>\n",
       "      <td>Yes</td>\n",
       "      <td>No</td>\n",
       "      <td>4.1/5</td>\n",
       "      <td>787</td>\n",
       "      <td>Casual Dining</td>\n",
       "      <td>Chinese, North Indian, Thai</td>\n",
       "      <td>Banashankari</td>\n",
       "      <td>8.888889</td>\n",
       "      <td>True</td>\n",
       "    </tr>\n",
       "    <tr>\n",
       "      <th>2</th>\n",
       "      <td>Yes</td>\n",
       "      <td>No</td>\n",
       "      <td>3.8/5</td>\n",
       "      <td>918</td>\n",
       "      <td>Cafe, Casual Dining</td>\n",
       "      <td>Cafe, Mexican, Italian</td>\n",
       "      <td>Banashankari</td>\n",
       "      <td>8.888889</td>\n",
       "      <td>True</td>\n",
       "    </tr>\n",
       "    <tr>\n",
       "      <th>3</th>\n",
       "      <td>No</td>\n",
       "      <td>No</td>\n",
       "      <td>3.7/5</td>\n",
       "      <td>88</td>\n",
       "      <td>Quick Bites</td>\n",
       "      <td>South Indian, North Indian</td>\n",
       "      <td>Banashankari</td>\n",
       "      <td>3.333333</td>\n",
       "      <td>True</td>\n",
       "    </tr>\n",
       "    <tr>\n",
       "      <th>4</th>\n",
       "      <td>No</td>\n",
       "      <td>No</td>\n",
       "      <td>3.8/5</td>\n",
       "      <td>166</td>\n",
       "      <td>Casual Dining</td>\n",
       "      <td>North Indian, Rajasthani</td>\n",
       "      <td>Banashankari</td>\n",
       "      <td>6.666667</td>\n",
       "      <td>True</td>\n",
       "    </tr>\n",
       "  </tbody>\n",
       "</table>\n",
       "</div>"
      ],
      "text/plain": [
       "  online_order book_table   rate  votes            rest_type  \\\n",
       "0          Yes        Yes  4.1/5    775        Casual Dining   \n",
       "1          Yes         No  4.1/5    787        Casual Dining   \n",
       "2          Yes         No  3.8/5    918  Cafe, Casual Dining   \n",
       "3           No         No  3.7/5     88          Quick Bites   \n",
       "4           No         No  3.8/5    166        Casual Dining   \n",
       "\n",
       "                         cuisines listed_in(city)  cost in €  has_liked_dishes  \n",
       "0  North Indian, Mughlai, Chinese    Banashankari   8.888889              True  \n",
       "1     Chinese, North Indian, Thai    Banashankari   8.888889              True  \n",
       "2          Cafe, Mexican, Italian    Banashankari   8.888889              True  \n",
       "3      South Indian, North Indian    Banashankari   3.333333              True  \n",
       "4        North Indian, Rajasthani    Banashankari   6.666667              True  "
      ]
     },
     "execution_count": 29,
     "metadata": {},
     "output_type": "execute_result"
    }
   ],
   "source": [
    "df_dropped_2.head()"
   ]
  },
  {
   "cell_type": "markdown",
   "id": "ec7a6995-6fd3-4a06-a0d6-f5a18fc63008",
   "metadata": {},
   "source": [
    "<br>\n",
    "\n",
    "## Encoding Nominal Variables\n",
    "In our dataset the **nominal variables**, so columns that contain names or strings, are:\n",
    "<a id='encoding_nominal_variables'></a>"
   ]
  },
  {
   "cell_type": "code",
   "execution_count": 30,
   "id": "30c7d06a-97b7-4dc3-a864-2a6197fd9c19",
   "metadata": {},
   "outputs": [
    {
     "data": {
      "text/plain": [
       "['online_order',\n",
       " 'book_table',\n",
       " 'rate',\n",
       " 'rest_type',\n",
       " 'cuisines',\n",
       " 'listed_in(city)']"
      ]
     },
     "execution_count": 30,
     "metadata": {},
     "output_type": "execute_result"
    }
   ],
   "source": [
    "from pandas.api.types import is_numeric_dtype\n",
    "\n",
    "[c for c in df_dropped_2 if not is_numeric_dtype(df_dropped_2[c])]"
   ]
  },
  {
   "cell_type": "markdown",
   "id": "e4ed5f45-60d8-4ff5-899b-416b9be2fa15",
   "metadata": {},
   "source": [
    "If we want to feed these **nominal variables** into our model, we have to turn them into **numerical variables**.\n",
    "<br>\n",
    "<br>\n",
    "We can start with the columns `online_order` and `book_table`."
   ]
  },
  {
   "cell_type": "code",
   "execution_count": 31,
   "id": "b1c8cb50-098b-4ed6-8ede-82dd6c463549",
   "metadata": {},
   "outputs": [
    {
     "data": {
      "text/html": [
       "<div>\n",
       "<style scoped>\n",
       "    .dataframe tbody tr th:only-of-type {\n",
       "        vertical-align: middle;\n",
       "    }\n",
       "\n",
       "    .dataframe tbody tr th {\n",
       "        vertical-align: top;\n",
       "    }\n",
       "\n",
       "    .dataframe thead th {\n",
       "        text-align: right;\n",
       "    }\n",
       "</style>\n",
       "<table border=\"1\" class=\"dataframe\">\n",
       "  <thead>\n",
       "    <tr style=\"text-align: right;\">\n",
       "      <th></th>\n",
       "      <th>online_order</th>\n",
       "      <th>book_table</th>\n",
       "    </tr>\n",
       "  </thead>\n",
       "  <tbody>\n",
       "    <tr>\n",
       "      <th>0</th>\n",
       "      <td>Yes</td>\n",
       "      <td>Yes</td>\n",
       "    </tr>\n",
       "    <tr>\n",
       "      <th>1</th>\n",
       "      <td>Yes</td>\n",
       "      <td>No</td>\n",
       "    </tr>\n",
       "    <tr>\n",
       "      <th>2</th>\n",
       "      <td>Yes</td>\n",
       "      <td>No</td>\n",
       "    </tr>\n",
       "    <tr>\n",
       "      <th>3</th>\n",
       "      <td>No</td>\n",
       "      <td>No</td>\n",
       "    </tr>\n",
       "    <tr>\n",
       "      <th>4</th>\n",
       "      <td>No</td>\n",
       "      <td>No</td>\n",
       "    </tr>\n",
       "  </tbody>\n",
       "</table>\n",
       "</div>"
      ],
      "text/plain": [
       "  online_order book_table\n",
       "0          Yes        Yes\n",
       "1          Yes         No\n",
       "2          Yes         No\n",
       "3           No         No\n",
       "4           No         No"
      ]
     },
     "execution_count": 31,
     "metadata": {},
     "output_type": "execute_result"
    }
   ],
   "source": [
    "df_dropped_2.loc[:, [\"online_order\", \"book_table\"]].head()"
   ]
  },
  {
   "cell_type": "markdown",
   "id": "a7842875-0896-401a-a994-19bdce3be9c6",
   "metadata": {},
   "source": [
    "Both features have values that are either `Yes` or `No`.<br>\n",
    "We can encode `Yes`and `No` as `True` and `False`"
   ]
  },
  {
   "cell_type": "code",
   "execution_count": 33,
   "id": "357a0ef2-fe10-4ada-9950-03a37ac6829a",
   "metadata": {},
   "outputs": [],
   "source": [
    "df_dropped_2[\"online_order\"] = df_dropped_2[\"online_order\"].map({\"Yes\": True, \"No\": False})\n",
    "df_dropped_2[\"book_table\"]   = df_dropped_2[\"book_table\"].map({\"Yes\": True, \"No\": False})"
   ]
  },
  {
   "cell_type": "code",
   "execution_count": 34,
   "id": "a4c1106a-7212-4dd5-96e3-9d3139f529c2",
   "metadata": {},
   "outputs": [
    {
     "data": {
      "text/html": [
       "<div>\n",
       "<style scoped>\n",
       "    .dataframe tbody tr th:only-of-type {\n",
       "        vertical-align: middle;\n",
       "    }\n",
       "\n",
       "    .dataframe tbody tr th {\n",
       "        vertical-align: top;\n",
       "    }\n",
       "\n",
       "    .dataframe thead th {\n",
       "        text-align: right;\n",
       "    }\n",
       "</style>\n",
       "<table border=\"1\" class=\"dataframe\">\n",
       "  <thead>\n",
       "    <tr style=\"text-align: right;\">\n",
       "      <th></th>\n",
       "      <th>online_order</th>\n",
       "      <th>book_table</th>\n",
       "    </tr>\n",
       "  </thead>\n",
       "  <tbody>\n",
       "    <tr>\n",
       "      <th>0</th>\n",
       "      <td>True</td>\n",
       "      <td>True</td>\n",
       "    </tr>\n",
       "    <tr>\n",
       "      <th>1</th>\n",
       "      <td>True</td>\n",
       "      <td>False</td>\n",
       "    </tr>\n",
       "    <tr>\n",
       "      <th>2</th>\n",
       "      <td>True</td>\n",
       "      <td>False</td>\n",
       "    </tr>\n",
       "    <tr>\n",
       "      <th>3</th>\n",
       "      <td>False</td>\n",
       "      <td>False</td>\n",
       "    </tr>\n",
       "    <tr>\n",
       "      <th>4</th>\n",
       "      <td>False</td>\n",
       "      <td>False</td>\n",
       "    </tr>\n",
       "  </tbody>\n",
       "</table>\n",
       "</div>"
      ],
      "text/plain": [
       "   online_order  book_table\n",
       "0          True        True\n",
       "1          True       False\n",
       "2          True       False\n",
       "3         False       False\n",
       "4         False       False"
      ]
     },
     "execution_count": 34,
     "metadata": {},
     "output_type": "execute_result"
    }
   ],
   "source": [
    "df_dropped_2.loc[:, [\"online_order\", \"book_table\"]].head()"
   ]
  },
  {
   "cell_type": "markdown",
   "id": "ce95f190-1099-43af-9499-6562802cec24",
   "metadata": {},
   "source": [
    "<br>\n",
    "\n",
    "Next we can take care of the column `rate`, which will be our target later."
   ]
  },
  {
   "cell_type": "code",
   "execution_count": 35,
   "id": "5ea73b6a-2711-4261-ab6c-eb188a43a917",
   "metadata": {},
   "outputs": [
    {
     "data": {
      "text/plain": [
       "0    4.1/5\n",
       "1    4.1/5\n",
       "2    3.8/5\n",
       "3    3.7/5\n",
       "4    3.8/5\n",
       "Name: rate, dtype: object"
      ]
     },
     "execution_count": 35,
     "metadata": {},
     "output_type": "execute_result"
    }
   ],
   "source": [
    "df_dropped_2[\"rate\"].head()"
   ]
  },
  {
   "cell_type": "markdown",
   "id": "f2f4c02f-6ef6-4f4c-9006-b0960e4a2340",
   "metadata": {},
   "source": [
    "Here we are dealing with `strings` of fractions. To turn them into floats we can remove the `/5` part and then cast the remaining part to `float`.\n"
   ]
  },
  {
   "cell_type": "code",
   "execution_count": 36,
   "id": "00d1d837-fde2-4ffa-9038-078fd34b5eaf",
   "metadata": {},
   "outputs": [],
   "source": [
    "df_dropped_2[\"rate\"] = df_dropped_2[\"rate\"].apply(lambda x: float(x.replace('/5', '')))"
   ]
  },
  {
   "cell_type": "code",
   "execution_count": 37,
   "id": "e6edf53e-6b4b-4402-9f78-3da3ffb4e959",
   "metadata": {},
   "outputs": [
    {
     "data": {
      "text/plain": [
       "0    4.1\n",
       "1    4.1\n",
       "2    3.8\n",
       "3    3.7\n",
       "4    3.8\n",
       "Name: rate, dtype: float64"
      ]
     },
     "execution_count": 37,
     "metadata": {},
     "output_type": "execute_result"
    }
   ],
   "source": [
    "df_dropped_2[\"rate\"].head()"
   ]
  },
  {
   "cell_type": "markdown",
   "id": "03a10170-6d26-44ab-9e0b-50d5766d6947",
   "metadata": {},
   "source": [
    "<br>\n",
    "<br>\n",
    "\n",
    "**rest_type**<br>\n",
    "In the *restaurant type* column we have 88 different categories."
   ]
  },
  {
   "cell_type": "code",
   "execution_count": 38,
   "id": "73fc86de-e5fb-41fc-9979-3fbf8f5701b1",
   "metadata": {},
   "outputs": [
    {
     "data": {
      "text/plain": [
       "0          Casual Dining\n",
       "1          Casual Dining\n",
       "2    Cafe, Casual Dining\n",
       "3            Quick Bites\n",
       "4          Casual Dining\n",
       "Name: rest_type, dtype: object"
      ]
     },
     "execution_count": 38,
     "metadata": {},
     "output_type": "execute_result"
    }
   ],
   "source": [
    "df_dropped_2[\"rest_type\"].head()"
   ]
  },
  {
   "cell_type": "markdown",
   "id": "7f37dcc7-8065-4630-bdaa-58b5ce630161",
   "metadata": {},
   "source": [
    "A very simple approach would be to directly one-hot encode the whole column. This would add the following information to our dataframe.<br>"
   ]
  },
  {
   "cell_type": "code",
   "execution_count": 40,
   "id": "eb7c70d4-b5b4-447f-8175-4300650caa3c",
   "metadata": {},
   "outputs": [
    {
     "data": {
      "text/html": [
       "<div>\n",
       "<style scoped>\n",
       "    .dataframe tbody tr th:only-of-type {\n",
       "        vertical-align: middle;\n",
       "    }\n",
       "\n",
       "    .dataframe tbody tr th {\n",
       "        vertical-align: top;\n",
       "    }\n",
       "\n",
       "    .dataframe thead th {\n",
       "        text-align: right;\n",
       "    }\n",
       "</style>\n",
       "<table border=\"1\" class=\"dataframe\">\n",
       "  <thead>\n",
       "    <tr style=\"text-align: right;\">\n",
       "      <th></th>\n",
       "      <th>Bakery</th>\n",
       "      <th>Bakery, Beverage Shop</th>\n",
       "      <th>Bakery, Cafe</th>\n",
       "      <th>Bakery, Dessert Parlor</th>\n",
       "      <th>Bakery, Food Court</th>\n",
       "      <th>Bakery, Quick Bites</th>\n",
       "      <th>Bar</th>\n",
       "      <th>Bar, Casual Dining</th>\n",
       "      <th>Bar, Lounge</th>\n",
       "      <th>Bar, Pub</th>\n",
       "      <th>...</th>\n",
       "      <th>Quick Bites, Food Court</th>\n",
       "      <th>Quick Bites, Kiosk</th>\n",
       "      <th>Quick Bites, Meat Shop</th>\n",
       "      <th>Quick Bites, Mess</th>\n",
       "      <th>Quick Bites, Sweet Shop</th>\n",
       "      <th>Sweet Shop</th>\n",
       "      <th>Sweet Shop, Quick Bites</th>\n",
       "      <th>Takeaway</th>\n",
       "      <th>Takeaway, Delivery</th>\n",
       "      <th>undefined</th>\n",
       "    </tr>\n",
       "  </thead>\n",
       "  <tbody>\n",
       "    <tr>\n",
       "      <th>0</th>\n",
       "      <td>0</td>\n",
       "      <td>0</td>\n",
       "      <td>0</td>\n",
       "      <td>0</td>\n",
       "      <td>0</td>\n",
       "      <td>0</td>\n",
       "      <td>0</td>\n",
       "      <td>0</td>\n",
       "      <td>0</td>\n",
       "      <td>0</td>\n",
       "      <td>...</td>\n",
       "      <td>0</td>\n",
       "      <td>0</td>\n",
       "      <td>0</td>\n",
       "      <td>0</td>\n",
       "      <td>0</td>\n",
       "      <td>0</td>\n",
       "      <td>0</td>\n",
       "      <td>0</td>\n",
       "      <td>0</td>\n",
       "      <td>0</td>\n",
       "    </tr>\n",
       "    <tr>\n",
       "      <th>1</th>\n",
       "      <td>0</td>\n",
       "      <td>0</td>\n",
       "      <td>0</td>\n",
       "      <td>0</td>\n",
       "      <td>0</td>\n",
       "      <td>0</td>\n",
       "      <td>0</td>\n",
       "      <td>0</td>\n",
       "      <td>0</td>\n",
       "      <td>0</td>\n",
       "      <td>...</td>\n",
       "      <td>0</td>\n",
       "      <td>0</td>\n",
       "      <td>0</td>\n",
       "      <td>0</td>\n",
       "      <td>0</td>\n",
       "      <td>0</td>\n",
       "      <td>0</td>\n",
       "      <td>0</td>\n",
       "      <td>0</td>\n",
       "      <td>0</td>\n",
       "    </tr>\n",
       "    <tr>\n",
       "      <th>2</th>\n",
       "      <td>0</td>\n",
       "      <td>0</td>\n",
       "      <td>0</td>\n",
       "      <td>0</td>\n",
       "      <td>0</td>\n",
       "      <td>0</td>\n",
       "      <td>0</td>\n",
       "      <td>0</td>\n",
       "      <td>0</td>\n",
       "      <td>0</td>\n",
       "      <td>...</td>\n",
       "      <td>0</td>\n",
       "      <td>0</td>\n",
       "      <td>0</td>\n",
       "      <td>0</td>\n",
       "      <td>0</td>\n",
       "      <td>0</td>\n",
       "      <td>0</td>\n",
       "      <td>0</td>\n",
       "      <td>0</td>\n",
       "      <td>0</td>\n",
       "    </tr>\n",
       "    <tr>\n",
       "      <th>3</th>\n",
       "      <td>0</td>\n",
       "      <td>0</td>\n",
       "      <td>0</td>\n",
       "      <td>0</td>\n",
       "      <td>0</td>\n",
       "      <td>0</td>\n",
       "      <td>0</td>\n",
       "      <td>0</td>\n",
       "      <td>0</td>\n",
       "      <td>0</td>\n",
       "      <td>...</td>\n",
       "      <td>0</td>\n",
       "      <td>0</td>\n",
       "      <td>0</td>\n",
       "      <td>0</td>\n",
       "      <td>0</td>\n",
       "      <td>0</td>\n",
       "      <td>0</td>\n",
       "      <td>0</td>\n",
       "      <td>0</td>\n",
       "      <td>0</td>\n",
       "    </tr>\n",
       "    <tr>\n",
       "      <th>4</th>\n",
       "      <td>0</td>\n",
       "      <td>0</td>\n",
       "      <td>0</td>\n",
       "      <td>0</td>\n",
       "      <td>0</td>\n",
       "      <td>0</td>\n",
       "      <td>0</td>\n",
       "      <td>0</td>\n",
       "      <td>0</td>\n",
       "      <td>0</td>\n",
       "      <td>...</td>\n",
       "      <td>0</td>\n",
       "      <td>0</td>\n",
       "      <td>0</td>\n",
       "      <td>0</td>\n",
       "      <td>0</td>\n",
       "      <td>0</td>\n",
       "      <td>0</td>\n",
       "      <td>0</td>\n",
       "      <td>0</td>\n",
       "      <td>0</td>\n",
       "    </tr>\n",
       "    <tr>\n",
       "      <th>...</th>\n",
       "      <td>...</td>\n",
       "      <td>...</td>\n",
       "      <td>...</td>\n",
       "      <td>...</td>\n",
       "      <td>...</td>\n",
       "      <td>...</td>\n",
       "      <td>...</td>\n",
       "      <td>...</td>\n",
       "      <td>...</td>\n",
       "      <td>...</td>\n",
       "      <td>...</td>\n",
       "      <td>...</td>\n",
       "      <td>...</td>\n",
       "      <td>...</td>\n",
       "      <td>...</td>\n",
       "      <td>...</td>\n",
       "      <td>...</td>\n",
       "      <td>...</td>\n",
       "      <td>...</td>\n",
       "      <td>...</td>\n",
       "      <td>...</td>\n",
       "    </tr>\n",
       "    <tr>\n",
       "      <th>51709</th>\n",
       "      <td>0</td>\n",
       "      <td>0</td>\n",
       "      <td>0</td>\n",
       "      <td>0</td>\n",
       "      <td>0</td>\n",
       "      <td>0</td>\n",
       "      <td>0</td>\n",
       "      <td>0</td>\n",
       "      <td>0</td>\n",
       "      <td>0</td>\n",
       "      <td>...</td>\n",
       "      <td>0</td>\n",
       "      <td>0</td>\n",
       "      <td>0</td>\n",
       "      <td>0</td>\n",
       "      <td>0</td>\n",
       "      <td>0</td>\n",
       "      <td>0</td>\n",
       "      <td>0</td>\n",
       "      <td>0</td>\n",
       "      <td>0</td>\n",
       "    </tr>\n",
       "    <tr>\n",
       "      <th>51711</th>\n",
       "      <td>0</td>\n",
       "      <td>0</td>\n",
       "      <td>0</td>\n",
       "      <td>0</td>\n",
       "      <td>0</td>\n",
       "      <td>0</td>\n",
       "      <td>0</td>\n",
       "      <td>0</td>\n",
       "      <td>0</td>\n",
       "      <td>0</td>\n",
       "      <td>...</td>\n",
       "      <td>0</td>\n",
       "      <td>0</td>\n",
       "      <td>0</td>\n",
       "      <td>0</td>\n",
       "      <td>0</td>\n",
       "      <td>0</td>\n",
       "      <td>0</td>\n",
       "      <td>0</td>\n",
       "      <td>0</td>\n",
       "      <td>0</td>\n",
       "    </tr>\n",
       "    <tr>\n",
       "      <th>51712</th>\n",
       "      <td>0</td>\n",
       "      <td>0</td>\n",
       "      <td>0</td>\n",
       "      <td>0</td>\n",
       "      <td>0</td>\n",
       "      <td>0</td>\n",
       "      <td>1</td>\n",
       "      <td>0</td>\n",
       "      <td>0</td>\n",
       "      <td>0</td>\n",
       "      <td>...</td>\n",
       "      <td>0</td>\n",
       "      <td>0</td>\n",
       "      <td>0</td>\n",
       "      <td>0</td>\n",
       "      <td>0</td>\n",
       "      <td>0</td>\n",
       "      <td>0</td>\n",
       "      <td>0</td>\n",
       "      <td>0</td>\n",
       "      <td>0</td>\n",
       "    </tr>\n",
       "    <tr>\n",
       "      <th>51715</th>\n",
       "      <td>0</td>\n",
       "      <td>0</td>\n",
       "      <td>0</td>\n",
       "      <td>0</td>\n",
       "      <td>0</td>\n",
       "      <td>0</td>\n",
       "      <td>1</td>\n",
       "      <td>0</td>\n",
       "      <td>0</td>\n",
       "      <td>0</td>\n",
       "      <td>...</td>\n",
       "      <td>0</td>\n",
       "      <td>0</td>\n",
       "      <td>0</td>\n",
       "      <td>0</td>\n",
       "      <td>0</td>\n",
       "      <td>0</td>\n",
       "      <td>0</td>\n",
       "      <td>0</td>\n",
       "      <td>0</td>\n",
       "      <td>0</td>\n",
       "    </tr>\n",
       "    <tr>\n",
       "      <th>51716</th>\n",
       "      <td>0</td>\n",
       "      <td>0</td>\n",
       "      <td>0</td>\n",
       "      <td>0</td>\n",
       "      <td>0</td>\n",
       "      <td>0</td>\n",
       "      <td>0</td>\n",
       "      <td>1</td>\n",
       "      <td>0</td>\n",
       "      <td>0</td>\n",
       "      <td>...</td>\n",
       "      <td>0</td>\n",
       "      <td>0</td>\n",
       "      <td>0</td>\n",
       "      <td>0</td>\n",
       "      <td>0</td>\n",
       "      <td>0</td>\n",
       "      <td>0</td>\n",
       "      <td>0</td>\n",
       "      <td>0</td>\n",
       "      <td>0</td>\n",
       "    </tr>\n",
       "  </tbody>\n",
       "</table>\n",
       "<p>41654 rows × 88 columns</p>\n",
       "</div>"
      ],
      "text/plain": [
       "       Bakery  Bakery, Beverage Shop  Bakery, Cafe  Bakery, Dessert Parlor  \\\n",
       "0           0                      0             0                       0   \n",
       "1           0                      0             0                       0   \n",
       "2           0                      0             0                       0   \n",
       "3           0                      0             0                       0   \n",
       "4           0                      0             0                       0   \n",
       "...       ...                    ...           ...                     ...   \n",
       "51709       0                      0             0                       0   \n",
       "51711       0                      0             0                       0   \n",
       "51712       0                      0             0                       0   \n",
       "51715       0                      0             0                       0   \n",
       "51716       0                      0             0                       0   \n",
       "\n",
       "       Bakery, Food Court  Bakery, Quick Bites  Bar  Bar, Casual Dining  \\\n",
       "0                       0                    0    0                   0   \n",
       "1                       0                    0    0                   0   \n",
       "2                       0                    0    0                   0   \n",
       "3                       0                    0    0                   0   \n",
       "4                       0                    0    0                   0   \n",
       "...                   ...                  ...  ...                 ...   \n",
       "51709                   0                    0    0                   0   \n",
       "51711                   0                    0    0                   0   \n",
       "51712                   0                    0    1                   0   \n",
       "51715                   0                    0    1                   0   \n",
       "51716                   0                    0    0                   1   \n",
       "\n",
       "       Bar, Lounge  Bar, Pub  ...  Quick Bites, Food Court  \\\n",
       "0                0         0  ...                        0   \n",
       "1                0         0  ...                        0   \n",
       "2                0         0  ...                        0   \n",
       "3                0         0  ...                        0   \n",
       "4                0         0  ...                        0   \n",
       "...            ...       ...  ...                      ...   \n",
       "51709            0         0  ...                        0   \n",
       "51711            0         0  ...                        0   \n",
       "51712            0         0  ...                        0   \n",
       "51715            0         0  ...                        0   \n",
       "51716            0         0  ...                        0   \n",
       "\n",
       "       Quick Bites, Kiosk  Quick Bites, Meat Shop  Quick Bites, Mess  \\\n",
       "0                       0                       0                  0   \n",
       "1                       0                       0                  0   \n",
       "2                       0                       0                  0   \n",
       "3                       0                       0                  0   \n",
       "4                       0                       0                  0   \n",
       "...                   ...                     ...                ...   \n",
       "51709                   0                       0                  0   \n",
       "51711                   0                       0                  0   \n",
       "51712                   0                       0                  0   \n",
       "51715                   0                       0                  0   \n",
       "51716                   0                       0                  0   \n",
       "\n",
       "       Quick Bites, Sweet Shop  Sweet Shop  Sweet Shop, Quick Bites  Takeaway  \\\n",
       "0                            0           0                        0         0   \n",
       "1                            0           0                        0         0   \n",
       "2                            0           0                        0         0   \n",
       "3                            0           0                        0         0   \n",
       "4                            0           0                        0         0   \n",
       "...                        ...         ...                      ...       ...   \n",
       "51709                        0           0                        0         0   \n",
       "51711                        0           0                        0         0   \n",
       "51712                        0           0                        0         0   \n",
       "51715                        0           0                        0         0   \n",
       "51716                        0           0                        0         0   \n",
       "\n",
       "       Takeaway, Delivery  undefined  \n",
       "0                       0          0  \n",
       "1                       0          0  \n",
       "2                       0          0  \n",
       "3                       0          0  \n",
       "4                       0          0  \n",
       "...                   ...        ...  \n",
       "51709                   0          0  \n",
       "51711                   0          0  \n",
       "51712                   0          0  \n",
       "51715                   0          0  \n",
       "51716                   0          0  \n",
       "\n",
       "[41654 rows x 88 columns]"
      ]
     },
     "execution_count": 40,
     "metadata": {},
     "output_type": "execute_result"
    }
   ],
   "source": [
    "one_hot = pd.get_dummies(df_dropped_2['rest_type'])\n",
    "one_hot"
   ]
  },
  {
   "cell_type": "markdown",
   "id": "143778e9-b2fb-41d5-ba00-a9cb761b9254",
   "metadata": {},
   "source": [
    "But what we can see is that there are a lot of joined restaurant types that have their own column.<br>\n",
    "We can reduce the dimensionality by splitting these joined restaurant types.<br>\n",
    "So a restaurant that had a `1` in the column `Bar, Casual Dining` would then have a `1` in the column `Bar` and in the column `Casual Dining`"
   ]
  },
  {
   "cell_type": "code",
   "execution_count": 41,
   "id": "7cd5f99b-9e81-4760-9999-5e2db29b652c",
   "metadata": {},
   "outputs": [
    {
     "data": {
      "text/plain": [
       "{'Bakery',\n",
       " 'Bar',\n",
       " 'Beverage Shop',\n",
       " 'Bhojanalya',\n",
       " 'Cafe',\n",
       " 'Casual Dining',\n",
       " 'Club',\n",
       " 'Confectionery',\n",
       " 'Delivery',\n",
       " 'Dessert Parlor',\n",
       " 'Dhaba',\n",
       " 'Fine Dining',\n",
       " 'Food Court',\n",
       " 'Food Truck',\n",
       " 'Irani Cafee',\n",
       " 'Kiosk',\n",
       " 'Lounge',\n",
       " 'Meat Shop',\n",
       " 'Mess',\n",
       " 'Microbrewery',\n",
       " 'Pub',\n",
       " 'Quick Bites',\n",
       " 'Sweet Shop',\n",
       " 'Takeaway',\n",
       " 'undefined'}"
      ]
     },
     "execution_count": 41,
     "metadata": {},
     "output_type": "execute_result"
    }
   ],
   "source": [
    "types = [rest_types.split(\", \") for rest_types in df_dropped_2['rest_type'].unique()]\n",
    "\n",
    "# flatten\n",
    "types_unique = []\n",
    "for t in types:\n",
    "    types_unique.extend(t)\n",
    "\n",
    "# remove duplicates\n",
    "types_unique = set(types_unique)\n",
    "types_unique"
   ]
  },
  {
   "cell_type": "markdown",
   "id": "a3e76991-5a78-4383-922a-a8f203482780",
   "metadata": {},
   "source": [
    "And with that we reduced the number of categories to **25** :D<br>\n",
    "Now we have to match these categories with the `rest_type` column."
   ]
  },
  {
   "cell_type": "code",
   "execution_count": 42,
   "id": "92d2d0b3-d770-488e-8327-2027efd4b04e",
   "metadata": {},
   "outputs": [],
   "source": [
    "for t in types_unique:\n",
    "    df_dropped_2[t] = df_dropped_2['rest_type'].str.contains(t)"
   ]
  },
  {
   "cell_type": "code",
   "execution_count": 53,
   "id": "c270ce7c-cabb-469a-9412-7714dc748ebd",
   "metadata": {},
   "outputs": [
    {
     "data": {
      "text/html": [
       "<div>\n",
       "<style scoped>\n",
       "    .dataframe tbody tr th:only-of-type {\n",
       "        vertical-align: middle;\n",
       "    }\n",
       "\n",
       "    .dataframe tbody tr th {\n",
       "        vertical-align: top;\n",
       "    }\n",
       "\n",
       "    .dataframe thead th {\n",
       "        text-align: right;\n",
       "    }\n",
       "</style>\n",
       "<table border=\"1\" class=\"dataframe\">\n",
       "  <thead>\n",
       "    <tr style=\"text-align: right;\">\n",
       "      <th></th>\n",
       "      <th>online_order</th>\n",
       "      <th>book_table</th>\n",
       "      <th>rate</th>\n",
       "      <th>votes</th>\n",
       "      <th>rest_type</th>\n",
       "      <th>cuisines</th>\n",
       "      <th>listed_in(city)</th>\n",
       "      <th>cost in €</th>\n",
       "      <th>has_liked_dishes</th>\n",
       "      <th>Mess</th>\n",
       "      <th>...</th>\n",
       "      <th>Fine Dining</th>\n",
       "      <th>Sweet Shop</th>\n",
       "      <th>Casual Dining</th>\n",
       "      <th>Delivery</th>\n",
       "      <th>Kiosk</th>\n",
       "      <th>Irani Cafee</th>\n",
       "      <th>Club</th>\n",
       "      <th>Quick Bites</th>\n",
       "      <th>Lounge</th>\n",
       "      <th>Bakery</th>\n",
       "    </tr>\n",
       "  </thead>\n",
       "  <tbody>\n",
       "    <tr>\n",
       "      <th>0</th>\n",
       "      <td>True</td>\n",
       "      <td>True</td>\n",
       "      <td>4.1</td>\n",
       "      <td>775</td>\n",
       "      <td>Casual Dining</td>\n",
       "      <td>North Indian, Mughlai, Chinese</td>\n",
       "      <td>Banashankari</td>\n",
       "      <td>8.888889</td>\n",
       "      <td>True</td>\n",
       "      <td>False</td>\n",
       "      <td>...</td>\n",
       "      <td>False</td>\n",
       "      <td>False</td>\n",
       "      <td>True</td>\n",
       "      <td>False</td>\n",
       "      <td>False</td>\n",
       "      <td>False</td>\n",
       "      <td>False</td>\n",
       "      <td>False</td>\n",
       "      <td>False</td>\n",
       "      <td>False</td>\n",
       "    </tr>\n",
       "    <tr>\n",
       "      <th>1</th>\n",
       "      <td>True</td>\n",
       "      <td>False</td>\n",
       "      <td>4.1</td>\n",
       "      <td>787</td>\n",
       "      <td>Casual Dining</td>\n",
       "      <td>Chinese, North Indian, Thai</td>\n",
       "      <td>Banashankari</td>\n",
       "      <td>8.888889</td>\n",
       "      <td>True</td>\n",
       "      <td>False</td>\n",
       "      <td>...</td>\n",
       "      <td>False</td>\n",
       "      <td>False</td>\n",
       "      <td>True</td>\n",
       "      <td>False</td>\n",
       "      <td>False</td>\n",
       "      <td>False</td>\n",
       "      <td>False</td>\n",
       "      <td>False</td>\n",
       "      <td>False</td>\n",
       "      <td>False</td>\n",
       "    </tr>\n",
       "    <tr>\n",
       "      <th>2</th>\n",
       "      <td>True</td>\n",
       "      <td>False</td>\n",
       "      <td>3.8</td>\n",
       "      <td>918</td>\n",
       "      <td>Cafe, Casual Dining</td>\n",
       "      <td>Cafe, Mexican, Italian</td>\n",
       "      <td>Banashankari</td>\n",
       "      <td>8.888889</td>\n",
       "      <td>True</td>\n",
       "      <td>False</td>\n",
       "      <td>...</td>\n",
       "      <td>False</td>\n",
       "      <td>False</td>\n",
       "      <td>True</td>\n",
       "      <td>False</td>\n",
       "      <td>False</td>\n",
       "      <td>False</td>\n",
       "      <td>False</td>\n",
       "      <td>False</td>\n",
       "      <td>False</td>\n",
       "      <td>False</td>\n",
       "    </tr>\n",
       "    <tr>\n",
       "      <th>3</th>\n",
       "      <td>False</td>\n",
       "      <td>False</td>\n",
       "      <td>3.7</td>\n",
       "      <td>88</td>\n",
       "      <td>Quick Bites</td>\n",
       "      <td>South Indian, North Indian</td>\n",
       "      <td>Banashankari</td>\n",
       "      <td>3.333333</td>\n",
       "      <td>True</td>\n",
       "      <td>False</td>\n",
       "      <td>...</td>\n",
       "      <td>False</td>\n",
       "      <td>False</td>\n",
       "      <td>False</td>\n",
       "      <td>False</td>\n",
       "      <td>False</td>\n",
       "      <td>False</td>\n",
       "      <td>False</td>\n",
       "      <td>True</td>\n",
       "      <td>False</td>\n",
       "      <td>False</td>\n",
       "    </tr>\n",
       "    <tr>\n",
       "      <th>4</th>\n",
       "      <td>False</td>\n",
       "      <td>False</td>\n",
       "      <td>3.8</td>\n",
       "      <td>166</td>\n",
       "      <td>Casual Dining</td>\n",
       "      <td>North Indian, Rajasthani</td>\n",
       "      <td>Banashankari</td>\n",
       "      <td>6.666667</td>\n",
       "      <td>True</td>\n",
       "      <td>False</td>\n",
       "      <td>...</td>\n",
       "      <td>False</td>\n",
       "      <td>False</td>\n",
       "      <td>True</td>\n",
       "      <td>False</td>\n",
       "      <td>False</td>\n",
       "      <td>False</td>\n",
       "      <td>False</td>\n",
       "      <td>False</td>\n",
       "      <td>False</td>\n",
       "      <td>False</td>\n",
       "    </tr>\n",
       "  </tbody>\n",
       "</table>\n",
       "<p>5 rows × 34 columns</p>\n",
       "</div>"
      ],
      "text/plain": [
       "   online_order  book_table  rate  votes            rest_type  \\\n",
       "0          True        True   4.1    775        Casual Dining   \n",
       "1          True       False   4.1    787        Casual Dining   \n",
       "2          True       False   3.8    918  Cafe, Casual Dining   \n",
       "3         False       False   3.7     88          Quick Bites   \n",
       "4         False       False   3.8    166        Casual Dining   \n",
       "\n",
       "                         cuisines listed_in(city)  cost in €  \\\n",
       "0  North Indian, Mughlai, Chinese    Banashankari   8.888889   \n",
       "1     Chinese, North Indian, Thai    Banashankari   8.888889   \n",
       "2          Cafe, Mexican, Italian    Banashankari   8.888889   \n",
       "3      South Indian, North Indian    Banashankari   3.333333   \n",
       "4        North Indian, Rajasthani    Banashankari   6.666667   \n",
       "\n",
       "   has_liked_dishes   Mess  ...  Fine Dining  Sweet Shop  Casual Dining  \\\n",
       "0              True  False  ...        False       False           True   \n",
       "1              True  False  ...        False       False           True   \n",
       "2              True  False  ...        False       False           True   \n",
       "3              True  False  ...        False       False          False   \n",
       "4              True  False  ...        False       False           True   \n",
       "\n",
       "   Delivery  Kiosk  Irani Cafee   Club  Quick Bites  Lounge  Bakery  \n",
       "0     False  False        False  False        False   False   False  \n",
       "1     False  False        False  False        False   False   False  \n",
       "2     False  False        False  False        False   False   False  \n",
       "3     False  False        False  False         True   False   False  \n",
       "4     False  False        False  False        False   False   False  \n",
       "\n",
       "[5 rows x 34 columns]"
      ]
     },
     "execution_count": 53,
     "metadata": {},
     "output_type": "execute_result"
    }
   ],
   "source": [
    "df_dropped_2.head()"
   ]
  },
  {
   "cell_type": "markdown",
   "id": "b66a7cbd-3a7e-4b05-80a5-0ab3a5d4229a",
   "metadata": {},
   "source": [
    "With that we can drop the `rest_type` column."
   ]
  },
  {
   "cell_type": "code",
   "execution_count": 54,
   "id": "13518e3a-a7ee-4992-9169-d49b1053db7c",
   "metadata": {},
   "outputs": [],
   "source": [
    "df_dropped_3 = df_dropped_2.drop(columns=[\"rest_type\"])"
   ]
  },
  {
   "cell_type": "markdown",
   "id": "5b7c34d0-be01-413e-b7ba-f36d59687be6",
   "metadata": {},
   "source": [
    "<br>\n",
    "<br>\n",
    "\n",
    "**cuisines**<br>\n",
    "In this column we have 2383 different categories. Thats quite a lot."
   ]
  },
  {
   "cell_type": "code",
   "execution_count": 55,
   "id": "118cdc61-3c17-4c77-8557-e323325ee7dc",
   "metadata": {},
   "outputs": [
    {
     "data": {
      "text/plain": [
       "30                               Cafe, Italian\n",
       "31    North Indian, Fast Food, Chinese, Burger\n",
       "32                            Bakery, Desserts\n",
       "33                                       Pizza\n",
       "34            North Indian, Biryani, Fast Food\n",
       "35                                     Biryani\n",
       "Name: cuisines, dtype: object"
      ]
     },
     "execution_count": 55,
     "metadata": {},
     "output_type": "execute_result"
    }
   ],
   "source": [
    "df_dropped_3.loc[30:35, \"cuisines\"]"
   ]
  },
  {
   "cell_type": "markdown",
   "id": "e36cdbc1-c8b7-424d-8431-5c7e3961e641",
   "metadata": {},
   "source": [
    "But looking at the first few rows, we notice that we can apply the same technique that we applied to the restaurant types.<br>\n",
    "We also notice that there is some overlap between restaurant type and cuisines. For example with `Bakery`and `Cafe`.\n",
    "To resolve this issue we add will add a `_c`for the column names, such that the restaurant type columns are not overwritten."
   ]
  },
  {
   "cell_type": "code",
   "execution_count": 56,
   "id": "d444449d-f85c-47c3-ac47-7562007bccd7",
   "metadata": {},
   "outputs": [],
   "source": [
    "cuisines = [c.split(\", \") for c in df_dropped_3['cuisines'].unique()]\n",
    "\n",
    "\n",
    "# flatten\n",
    "cuisines_unique = []\n",
    "for c in cuisines:\n",
    "    cuisines_unique.extend(c)\n",
    "\n",
    "# remove duplicates\n",
    "cuisines_unique = set(cuisines_unique)"
   ]
  },
  {
   "cell_type": "markdown",
   "id": "5469eed6-da9f-45bb-8a9d-2bae1795b2f2",
   "metadata": {},
   "source": [
    "With that we reduced the number of categories to **105** "
   ]
  },
  {
   "cell_type": "code",
   "execution_count": 57,
   "id": "078002e2-1921-4bd8-9345-7ce046de9fd0",
   "metadata": {},
   "outputs": [],
   "source": [
    "# creating the new columns\n",
    "for c in cuisines_unique:\n",
    "    df_dropped_3[f\"{c}_c\"] = df_dropped_3['cuisines'].str.contains(c)"
   ]
  },
  {
   "cell_type": "code",
   "execution_count": 58,
   "id": "e5d17a23-b11b-419b-a4f6-eb2afda54673",
   "metadata": {},
   "outputs": [
    {
     "data": {
      "text/html": [
       "<div>\n",
       "<style scoped>\n",
       "    .dataframe tbody tr th:only-of-type {\n",
       "        vertical-align: middle;\n",
       "    }\n",
       "\n",
       "    .dataframe tbody tr th {\n",
       "        vertical-align: top;\n",
       "    }\n",
       "\n",
       "    .dataframe thead th {\n",
       "        text-align: right;\n",
       "    }\n",
       "</style>\n",
       "<table border=\"1\" class=\"dataframe\">\n",
       "  <thead>\n",
       "    <tr style=\"text-align: right;\">\n",
       "      <th></th>\n",
       "      <th>online_order</th>\n",
       "      <th>book_table</th>\n",
       "      <th>rate</th>\n",
       "      <th>votes</th>\n",
       "      <th>cuisines</th>\n",
       "      <th>listed_in(city)</th>\n",
       "      <th>cost in €</th>\n",
       "      <th>has_liked_dishes</th>\n",
       "      <th>Mess</th>\n",
       "      <th>Bhojanalya</th>\n",
       "      <th>...</th>\n",
       "      <th>Awadhi_c</th>\n",
       "      <th>Bubble Tea_c</th>\n",
       "      <th>Pizza_c</th>\n",
       "      <th>Coffee_c</th>\n",
       "      <th>Afghani_c</th>\n",
       "      <th>Japanese_c</th>\n",
       "      <th>Modern Indian_c</th>\n",
       "      <th>Mughlai_c</th>\n",
       "      <th>German_c</th>\n",
       "      <th>Australian_c</th>\n",
       "    </tr>\n",
       "  </thead>\n",
       "  <tbody>\n",
       "    <tr>\n",
       "      <th>0</th>\n",
       "      <td>True</td>\n",
       "      <td>True</td>\n",
       "      <td>4.1</td>\n",
       "      <td>775</td>\n",
       "      <td>North Indian, Mughlai, Chinese</td>\n",
       "      <td>Banashankari</td>\n",
       "      <td>8.888889</td>\n",
       "      <td>True</td>\n",
       "      <td>False</td>\n",
       "      <td>False</td>\n",
       "      <td>...</td>\n",
       "      <td>False</td>\n",
       "      <td>False</td>\n",
       "      <td>False</td>\n",
       "      <td>False</td>\n",
       "      <td>False</td>\n",
       "      <td>False</td>\n",
       "      <td>False</td>\n",
       "      <td>True</td>\n",
       "      <td>False</td>\n",
       "      <td>False</td>\n",
       "    </tr>\n",
       "    <tr>\n",
       "      <th>1</th>\n",
       "      <td>True</td>\n",
       "      <td>False</td>\n",
       "      <td>4.1</td>\n",
       "      <td>787</td>\n",
       "      <td>Chinese, North Indian, Thai</td>\n",
       "      <td>Banashankari</td>\n",
       "      <td>8.888889</td>\n",
       "      <td>True</td>\n",
       "      <td>False</td>\n",
       "      <td>False</td>\n",
       "      <td>...</td>\n",
       "      <td>False</td>\n",
       "      <td>False</td>\n",
       "      <td>False</td>\n",
       "      <td>False</td>\n",
       "      <td>False</td>\n",
       "      <td>False</td>\n",
       "      <td>False</td>\n",
       "      <td>False</td>\n",
       "      <td>False</td>\n",
       "      <td>False</td>\n",
       "    </tr>\n",
       "    <tr>\n",
       "      <th>2</th>\n",
       "      <td>True</td>\n",
       "      <td>False</td>\n",
       "      <td>3.8</td>\n",
       "      <td>918</td>\n",
       "      <td>Cafe, Mexican, Italian</td>\n",
       "      <td>Banashankari</td>\n",
       "      <td>8.888889</td>\n",
       "      <td>True</td>\n",
       "      <td>False</td>\n",
       "      <td>False</td>\n",
       "      <td>...</td>\n",
       "      <td>False</td>\n",
       "      <td>False</td>\n",
       "      <td>False</td>\n",
       "      <td>False</td>\n",
       "      <td>False</td>\n",
       "      <td>False</td>\n",
       "      <td>False</td>\n",
       "      <td>False</td>\n",
       "      <td>False</td>\n",
       "      <td>False</td>\n",
       "    </tr>\n",
       "    <tr>\n",
       "      <th>3</th>\n",
       "      <td>False</td>\n",
       "      <td>False</td>\n",
       "      <td>3.7</td>\n",
       "      <td>88</td>\n",
       "      <td>South Indian, North Indian</td>\n",
       "      <td>Banashankari</td>\n",
       "      <td>3.333333</td>\n",
       "      <td>True</td>\n",
       "      <td>False</td>\n",
       "      <td>False</td>\n",
       "      <td>...</td>\n",
       "      <td>False</td>\n",
       "      <td>False</td>\n",
       "      <td>False</td>\n",
       "      <td>False</td>\n",
       "      <td>False</td>\n",
       "      <td>False</td>\n",
       "      <td>False</td>\n",
       "      <td>False</td>\n",
       "      <td>False</td>\n",
       "      <td>False</td>\n",
       "    </tr>\n",
       "    <tr>\n",
       "      <th>4</th>\n",
       "      <td>False</td>\n",
       "      <td>False</td>\n",
       "      <td>3.8</td>\n",
       "      <td>166</td>\n",
       "      <td>North Indian, Rajasthani</td>\n",
       "      <td>Banashankari</td>\n",
       "      <td>6.666667</td>\n",
       "      <td>True</td>\n",
       "      <td>False</td>\n",
       "      <td>False</td>\n",
       "      <td>...</td>\n",
       "      <td>False</td>\n",
       "      <td>False</td>\n",
       "      <td>False</td>\n",
       "      <td>False</td>\n",
       "      <td>False</td>\n",
       "      <td>False</td>\n",
       "      <td>False</td>\n",
       "      <td>False</td>\n",
       "      <td>False</td>\n",
       "      <td>False</td>\n",
       "    </tr>\n",
       "  </tbody>\n",
       "</table>\n",
       "<p>5 rows × 138 columns</p>\n",
       "</div>"
      ],
      "text/plain": [
       "   online_order  book_table  rate  votes                        cuisines  \\\n",
       "0          True        True   4.1    775  North Indian, Mughlai, Chinese   \n",
       "1          True       False   4.1    787     Chinese, North Indian, Thai   \n",
       "2          True       False   3.8    918          Cafe, Mexican, Italian   \n",
       "3         False       False   3.7     88      South Indian, North Indian   \n",
       "4         False       False   3.8    166        North Indian, Rajasthani   \n",
       "\n",
       "  listed_in(city)  cost in €  has_liked_dishes   Mess  Bhojanalya  ...  \\\n",
       "0    Banashankari   8.888889              True  False       False  ...   \n",
       "1    Banashankari   8.888889              True  False       False  ...   \n",
       "2    Banashankari   8.888889              True  False       False  ...   \n",
       "3    Banashankari   3.333333              True  False       False  ...   \n",
       "4    Banashankari   6.666667              True  False       False  ...   \n",
       "\n",
       "   Awadhi_c  Bubble Tea_c  Pizza_c  Coffee_c  Afghani_c  Japanese_c  \\\n",
       "0     False         False    False     False      False       False   \n",
       "1     False         False    False     False      False       False   \n",
       "2     False         False    False     False      False       False   \n",
       "3     False         False    False     False      False       False   \n",
       "4     False         False    False     False      False       False   \n",
       "\n",
       "   Modern Indian_c  Mughlai_c  German_c  Australian_c  \n",
       "0            False       True     False         False  \n",
       "1            False      False     False         False  \n",
       "2            False      False     False         False  \n",
       "3            False      False     False         False  \n",
       "4            False      False     False         False  \n",
       "\n",
       "[5 rows x 138 columns]"
      ]
     },
     "execution_count": 58,
     "metadata": {},
     "output_type": "execute_result"
    }
   ],
   "source": [
    "df_dropped_3.head()"
   ]
  },
  {
   "cell_type": "markdown",
   "id": "4d23f608-815e-4515-9463-fb883a5bfdca",
   "metadata": {},
   "source": [
    "And we also drop the `cuisines` column"
   ]
  },
  {
   "cell_type": "code",
   "execution_count": 59,
   "id": "ad29ea9f-6115-40f7-aed2-7e6e3f83ee76",
   "metadata": {},
   "outputs": [],
   "source": [
    "df_dropped_4 = df_dropped_3.drop(columns=[\"cuisines\"])"
   ]
  },
  {
   "cell_type": "markdown",
   "id": "b0f31e37-78f8-4449-82d1-0ad75812d665",
   "metadata": {},
   "source": [
    "<br>\n",
    "<br>\n",
    "\n",
    "**listed_in(city)**<br>\n",
    "For this column we can apply a simple one-hot encoding."
   ]
  },
  {
   "cell_type": "code",
   "execution_count": 60,
   "id": "a071b8e5-f524-4c36-a55e-ea2dad417548",
   "metadata": {},
   "outputs": [
    {
     "data": {
      "text/plain": [
       "array(['Banashankari', 'Bannerghatta Road', 'Basavanagudi', 'Bellandur',\n",
       "       'Brigade Road', 'Brookefield', 'BTM', 'Church Street',\n",
       "       'Electronic City', 'Frazer Town', 'HSR', 'Indiranagar',\n",
       "       'Jayanagar', 'JP Nagar', 'Kalyan Nagar', 'Kammanahalli',\n",
       "       'Koramangala 4th Block', 'Koramangala 5th Block',\n",
       "       'Koramangala 6th Block', 'Koramangala 7th Block', 'Lavelle Road',\n",
       "       'Malleshwaram', 'Marathahalli', 'MG Road', 'New BEL Road',\n",
       "       'Old Airport Road', 'Rajajinagar', 'Residency Road',\n",
       "       'Sarjapur Road', 'Whitefield'], dtype=object)"
      ]
     },
     "execution_count": 60,
     "metadata": {},
     "output_type": "execute_result"
    }
   ],
   "source": [
    "df_dropped_4[\"listed_in(city)\"].unique()"
   ]
  },
  {
   "cell_type": "code",
   "execution_count": 61,
   "id": "8e96ceb2-16ce-4e07-b597-077d6e457a1f",
   "metadata": {},
   "outputs": [
    {
     "data": {
      "text/html": [
       "<div>\n",
       "<style scoped>\n",
       "    .dataframe tbody tr th:only-of-type {\n",
       "        vertical-align: middle;\n",
       "    }\n",
       "\n",
       "    .dataframe tbody tr th {\n",
       "        vertical-align: top;\n",
       "    }\n",
       "\n",
       "    .dataframe thead th {\n",
       "        text-align: right;\n",
       "    }\n",
       "</style>\n",
       "<table border=\"1\" class=\"dataframe\">\n",
       "  <thead>\n",
       "    <tr style=\"text-align: right;\">\n",
       "      <th></th>\n",
       "      <th>BTM</th>\n",
       "      <th>Banashankari</th>\n",
       "      <th>Bannerghatta Road</th>\n",
       "      <th>Basavanagudi</th>\n",
       "      <th>Bellandur</th>\n",
       "      <th>Brigade Road</th>\n",
       "      <th>Brookefield</th>\n",
       "      <th>Church Street</th>\n",
       "      <th>Electronic City</th>\n",
       "      <th>Frazer Town</th>\n",
       "      <th>...</th>\n",
       "      <th>Lavelle Road</th>\n",
       "      <th>MG Road</th>\n",
       "      <th>Malleshwaram</th>\n",
       "      <th>Marathahalli</th>\n",
       "      <th>New BEL Road</th>\n",
       "      <th>Old Airport Road</th>\n",
       "      <th>Rajajinagar</th>\n",
       "      <th>Residency Road</th>\n",
       "      <th>Sarjapur Road</th>\n",
       "      <th>Whitefield</th>\n",
       "    </tr>\n",
       "  </thead>\n",
       "  <tbody>\n",
       "    <tr>\n",
       "      <th>0</th>\n",
       "      <td>0</td>\n",
       "      <td>1</td>\n",
       "      <td>0</td>\n",
       "      <td>0</td>\n",
       "      <td>0</td>\n",
       "      <td>0</td>\n",
       "      <td>0</td>\n",
       "      <td>0</td>\n",
       "      <td>0</td>\n",
       "      <td>0</td>\n",
       "      <td>...</td>\n",
       "      <td>0</td>\n",
       "      <td>0</td>\n",
       "      <td>0</td>\n",
       "      <td>0</td>\n",
       "      <td>0</td>\n",
       "      <td>0</td>\n",
       "      <td>0</td>\n",
       "      <td>0</td>\n",
       "      <td>0</td>\n",
       "      <td>0</td>\n",
       "    </tr>\n",
       "    <tr>\n",
       "      <th>1</th>\n",
       "      <td>0</td>\n",
       "      <td>1</td>\n",
       "      <td>0</td>\n",
       "      <td>0</td>\n",
       "      <td>0</td>\n",
       "      <td>0</td>\n",
       "      <td>0</td>\n",
       "      <td>0</td>\n",
       "      <td>0</td>\n",
       "      <td>0</td>\n",
       "      <td>...</td>\n",
       "      <td>0</td>\n",
       "      <td>0</td>\n",
       "      <td>0</td>\n",
       "      <td>0</td>\n",
       "      <td>0</td>\n",
       "      <td>0</td>\n",
       "      <td>0</td>\n",
       "      <td>0</td>\n",
       "      <td>0</td>\n",
       "      <td>0</td>\n",
       "    </tr>\n",
       "    <tr>\n",
       "      <th>2</th>\n",
       "      <td>0</td>\n",
       "      <td>1</td>\n",
       "      <td>0</td>\n",
       "      <td>0</td>\n",
       "      <td>0</td>\n",
       "      <td>0</td>\n",
       "      <td>0</td>\n",
       "      <td>0</td>\n",
       "      <td>0</td>\n",
       "      <td>0</td>\n",
       "      <td>...</td>\n",
       "      <td>0</td>\n",
       "      <td>0</td>\n",
       "      <td>0</td>\n",
       "      <td>0</td>\n",
       "      <td>0</td>\n",
       "      <td>0</td>\n",
       "      <td>0</td>\n",
       "      <td>0</td>\n",
       "      <td>0</td>\n",
       "      <td>0</td>\n",
       "    </tr>\n",
       "    <tr>\n",
       "      <th>3</th>\n",
       "      <td>0</td>\n",
       "      <td>1</td>\n",
       "      <td>0</td>\n",
       "      <td>0</td>\n",
       "      <td>0</td>\n",
       "      <td>0</td>\n",
       "      <td>0</td>\n",
       "      <td>0</td>\n",
       "      <td>0</td>\n",
       "      <td>0</td>\n",
       "      <td>...</td>\n",
       "      <td>0</td>\n",
       "      <td>0</td>\n",
       "      <td>0</td>\n",
       "      <td>0</td>\n",
       "      <td>0</td>\n",
       "      <td>0</td>\n",
       "      <td>0</td>\n",
       "      <td>0</td>\n",
       "      <td>0</td>\n",
       "      <td>0</td>\n",
       "    </tr>\n",
       "    <tr>\n",
       "      <th>4</th>\n",
       "      <td>0</td>\n",
       "      <td>1</td>\n",
       "      <td>0</td>\n",
       "      <td>0</td>\n",
       "      <td>0</td>\n",
       "      <td>0</td>\n",
       "      <td>0</td>\n",
       "      <td>0</td>\n",
       "      <td>0</td>\n",
       "      <td>0</td>\n",
       "      <td>...</td>\n",
       "      <td>0</td>\n",
       "      <td>0</td>\n",
       "      <td>0</td>\n",
       "      <td>0</td>\n",
       "      <td>0</td>\n",
       "      <td>0</td>\n",
       "      <td>0</td>\n",
       "      <td>0</td>\n",
       "      <td>0</td>\n",
       "      <td>0</td>\n",
       "    </tr>\n",
       "  </tbody>\n",
       "</table>\n",
       "<p>5 rows × 30 columns</p>\n",
       "</div>"
      ],
      "text/plain": [
       "   BTM  Banashankari  Bannerghatta Road  Basavanagudi  Bellandur  \\\n",
       "0    0             1                  0             0          0   \n",
       "1    0             1                  0             0          0   \n",
       "2    0             1                  0             0          0   \n",
       "3    0             1                  0             0          0   \n",
       "4    0             1                  0             0          0   \n",
       "\n",
       "   Brigade Road  Brookefield  Church Street  Electronic City  Frazer Town  \\\n",
       "0             0            0              0                0            0   \n",
       "1             0            0              0                0            0   \n",
       "2             0            0              0                0            0   \n",
       "3             0            0              0                0            0   \n",
       "4             0            0              0                0            0   \n",
       "\n",
       "   ...  Lavelle Road  MG Road  Malleshwaram  Marathahalli  New BEL Road  \\\n",
       "0  ...             0        0             0             0             0   \n",
       "1  ...             0        0             0             0             0   \n",
       "2  ...             0        0             0             0             0   \n",
       "3  ...             0        0             0             0             0   \n",
       "4  ...             0        0             0             0             0   \n",
       "\n",
       "   Old Airport Road  Rajajinagar  Residency Road  Sarjapur Road  Whitefield  \n",
       "0                 0            0               0              0           0  \n",
       "1                 0            0               0              0           0  \n",
       "2                 0            0               0              0           0  \n",
       "3                 0            0               0              0           0  \n",
       "4                 0            0               0              0           0  \n",
       "\n",
       "[5 rows x 30 columns]"
      ]
     },
     "execution_count": 61,
     "metadata": {},
     "output_type": "execute_result"
    }
   ],
   "source": [
    "one_hot = pd.get_dummies(df_dropped_4['listed_in(city)'])\n",
    "one_hot.head()"
   ]
  },
  {
   "cell_type": "markdown",
   "id": "273cfad3-d573-4a01-8d16-b82dffa98704",
   "metadata": {},
   "source": [
    "This newly created dataframe we can concatenate with out original dataframe<br>\n",
    "And again we drop the alphabetical column."
   ]
  },
  {
   "cell_type": "code",
   "execution_count": 62,
   "id": "9714733d-9e95-4572-adf6-9e22e2b3947a",
   "metadata": {},
   "outputs": [
    {
     "data": {
      "text/html": [
       "<div>\n",
       "<style scoped>\n",
       "    .dataframe tbody tr th:only-of-type {\n",
       "        vertical-align: middle;\n",
       "    }\n",
       "\n",
       "    .dataframe tbody tr th {\n",
       "        vertical-align: top;\n",
       "    }\n",
       "\n",
       "    .dataframe thead th {\n",
       "        text-align: right;\n",
       "    }\n",
       "</style>\n",
       "<table border=\"1\" class=\"dataframe\">\n",
       "  <thead>\n",
       "    <tr style=\"text-align: right;\">\n",
       "      <th></th>\n",
       "      <th>online_order</th>\n",
       "      <th>book_table</th>\n",
       "      <th>rate</th>\n",
       "      <th>votes</th>\n",
       "      <th>cost in €</th>\n",
       "      <th>has_liked_dishes</th>\n",
       "      <th>Mess</th>\n",
       "      <th>Bhojanalya</th>\n",
       "      <th>Cafe</th>\n",
       "      <th>Pub</th>\n",
       "      <th>...</th>\n",
       "      <th>Lavelle Road</th>\n",
       "      <th>MG Road</th>\n",
       "      <th>Malleshwaram</th>\n",
       "      <th>Marathahalli</th>\n",
       "      <th>New BEL Road</th>\n",
       "      <th>Old Airport Road</th>\n",
       "      <th>Rajajinagar</th>\n",
       "      <th>Residency Road</th>\n",
       "      <th>Sarjapur Road</th>\n",
       "      <th>Whitefield</th>\n",
       "    </tr>\n",
       "  </thead>\n",
       "  <tbody>\n",
       "    <tr>\n",
       "      <th>0</th>\n",
       "      <td>True</td>\n",
       "      <td>True</td>\n",
       "      <td>4.1</td>\n",
       "      <td>775</td>\n",
       "      <td>8.888889</td>\n",
       "      <td>True</td>\n",
       "      <td>False</td>\n",
       "      <td>False</td>\n",
       "      <td>False</td>\n",
       "      <td>False</td>\n",
       "      <td>...</td>\n",
       "      <td>0</td>\n",
       "      <td>0</td>\n",
       "      <td>0</td>\n",
       "      <td>0</td>\n",
       "      <td>0</td>\n",
       "      <td>0</td>\n",
       "      <td>0</td>\n",
       "      <td>0</td>\n",
       "      <td>0</td>\n",
       "      <td>0</td>\n",
       "    </tr>\n",
       "    <tr>\n",
       "      <th>1</th>\n",
       "      <td>True</td>\n",
       "      <td>False</td>\n",
       "      <td>4.1</td>\n",
       "      <td>787</td>\n",
       "      <td>8.888889</td>\n",
       "      <td>True</td>\n",
       "      <td>False</td>\n",
       "      <td>False</td>\n",
       "      <td>False</td>\n",
       "      <td>False</td>\n",
       "      <td>...</td>\n",
       "      <td>0</td>\n",
       "      <td>0</td>\n",
       "      <td>0</td>\n",
       "      <td>0</td>\n",
       "      <td>0</td>\n",
       "      <td>0</td>\n",
       "      <td>0</td>\n",
       "      <td>0</td>\n",
       "      <td>0</td>\n",
       "      <td>0</td>\n",
       "    </tr>\n",
       "    <tr>\n",
       "      <th>2</th>\n",
       "      <td>True</td>\n",
       "      <td>False</td>\n",
       "      <td>3.8</td>\n",
       "      <td>918</td>\n",
       "      <td>8.888889</td>\n",
       "      <td>True</td>\n",
       "      <td>False</td>\n",
       "      <td>False</td>\n",
       "      <td>True</td>\n",
       "      <td>False</td>\n",
       "      <td>...</td>\n",
       "      <td>0</td>\n",
       "      <td>0</td>\n",
       "      <td>0</td>\n",
       "      <td>0</td>\n",
       "      <td>0</td>\n",
       "      <td>0</td>\n",
       "      <td>0</td>\n",
       "      <td>0</td>\n",
       "      <td>0</td>\n",
       "      <td>0</td>\n",
       "    </tr>\n",
       "    <tr>\n",
       "      <th>3</th>\n",
       "      <td>False</td>\n",
       "      <td>False</td>\n",
       "      <td>3.7</td>\n",
       "      <td>88</td>\n",
       "      <td>3.333333</td>\n",
       "      <td>True</td>\n",
       "      <td>False</td>\n",
       "      <td>False</td>\n",
       "      <td>False</td>\n",
       "      <td>False</td>\n",
       "      <td>...</td>\n",
       "      <td>0</td>\n",
       "      <td>0</td>\n",
       "      <td>0</td>\n",
       "      <td>0</td>\n",
       "      <td>0</td>\n",
       "      <td>0</td>\n",
       "      <td>0</td>\n",
       "      <td>0</td>\n",
       "      <td>0</td>\n",
       "      <td>0</td>\n",
       "    </tr>\n",
       "    <tr>\n",
       "      <th>4</th>\n",
       "      <td>False</td>\n",
       "      <td>False</td>\n",
       "      <td>3.8</td>\n",
       "      <td>166</td>\n",
       "      <td>6.666667</td>\n",
       "      <td>True</td>\n",
       "      <td>False</td>\n",
       "      <td>False</td>\n",
       "      <td>False</td>\n",
       "      <td>False</td>\n",
       "      <td>...</td>\n",
       "      <td>0</td>\n",
       "      <td>0</td>\n",
       "      <td>0</td>\n",
       "      <td>0</td>\n",
       "      <td>0</td>\n",
       "      <td>0</td>\n",
       "      <td>0</td>\n",
       "      <td>0</td>\n",
       "      <td>0</td>\n",
       "      <td>0</td>\n",
       "    </tr>\n",
       "  </tbody>\n",
       "</table>\n",
       "<p>5 rows × 166 columns</p>\n",
       "</div>"
      ],
      "text/plain": [
       "   online_order  book_table  rate  votes  cost in €  has_liked_dishes   Mess  \\\n",
       "0          True        True   4.1    775   8.888889              True  False   \n",
       "1          True       False   4.1    787   8.888889              True  False   \n",
       "2          True       False   3.8    918   8.888889              True  False   \n",
       "3         False       False   3.7     88   3.333333              True  False   \n",
       "4         False       False   3.8    166   6.666667              True  False   \n",
       "\n",
       "   Bhojanalya   Cafe    Pub  ...  Lavelle Road  MG Road  Malleshwaram  \\\n",
       "0       False  False  False  ...             0        0             0   \n",
       "1       False  False  False  ...             0        0             0   \n",
       "2       False   True  False  ...             0        0             0   \n",
       "3       False  False  False  ...             0        0             0   \n",
       "4       False  False  False  ...             0        0             0   \n",
       "\n",
       "   Marathahalli  New BEL Road  Old Airport Road  Rajajinagar  Residency Road  \\\n",
       "0             0             0                 0            0               0   \n",
       "1             0             0                 0            0               0   \n",
       "2             0             0                 0            0               0   \n",
       "3             0             0                 0            0               0   \n",
       "4             0             0                 0            0               0   \n",
       "\n",
       "   Sarjapur Road  Whitefield  \n",
       "0              0           0  \n",
       "1              0           0  \n",
       "2              0           0  \n",
       "3              0           0  \n",
       "4              0           0  \n",
       "\n",
       "[5 rows x 166 columns]"
      ]
     },
     "execution_count": 62,
     "metadata": {},
     "output_type": "execute_result"
    }
   ],
   "source": [
    "df_dropped_5 = df_dropped_4.drop(columns=[\"listed_in(city)\"])\n",
    "\n",
    "df = pd.concat([df_dropped_5, one_hot], axis=1)\n",
    "df.head()"
   ]
  },
  {
   "cell_type": "markdown",
   "id": "bdae4c43-8b1a-48fd-9390-ae745c80d3f8",
   "metadata": {},
   "source": [
    "Now every feature in our dataframe is numeric."
   ]
  },
  {
   "cell_type": "code",
   "execution_count": 63,
   "id": "ccaf230b-9d8b-4c47-a906-76ad24e8717d",
   "metadata": {},
   "outputs": [
    {
     "data": {
      "text/plain": [
       "True"
      ]
     },
     "execution_count": 63,
     "metadata": {},
     "output_type": "execute_result"
    }
   ],
   "source": [
    "all([is_numeric_dtype(df[c]) for c in df])"
   ]
  },
  {
   "cell_type": "markdown",
   "id": "c7d3aa04-90c1-4c2f-bb7b-68a809965c6b",
   "metadata": {},
   "source": [
    "<br>\n",
    "\n",
    "### evaluating the model\n",
    "At this step we can already train and evaluate our model with the data.<br>\n",
    "But not with the full dataset, because we still have missing values in the `cost in €` column."
   ]
  },
  {
   "cell_type": "code",
   "execution_count": 64,
   "id": "b969bc89-54ee-4d5a-9b66-a3ef676cf1cf",
   "metadata": {},
   "outputs": [],
   "source": [
    "def model_train_val(df, target=\"rate\"):\n",
    "    '''returns the average test score across 5 cross validation splits'''\n",
    "\n",
    "    X = df.drop(columns=target)\n",
    "    y = df[target]\n",
    "        \n",
    "    mlp = MLPRegressor(hidden_layer_sizes=(32,8,4), activation='relu', solver='adam', learning_rate_init=0.01)\n",
    "   \n",
    "    results = cross_validate(mlp, X, y, cv=5, return_train_score=True)\n",
    "    \n",
    "    return np.mean(results[\"test_score\"])"
   ]
  },
  {
   "cell_type": "code",
   "execution_count": 65,
   "id": "8e2c82c5-8273-459f-abf1-2257dd08f340",
   "metadata": {},
   "outputs": [],
   "source": [
    "df_subset = df.drop(columns=[\"cost in €\"])\n",
    "score_base = model_train_val(df_subset, target=\"rate\")"
   ]
  },
  {
   "cell_type": "markdown",
   "id": "7cdc681d-038c-456e-9b0a-ff489b9672d5",
   "metadata": {},
   "source": [
    "Now we have a baseline that we can try to improve on."
   ]
  },
  {
   "cell_type": "code",
   "execution_count": 66,
   "id": "500e2fd3-7efa-441b-b6ac-135d7f56066a",
   "metadata": {},
   "outputs": [
    {
     "data": {
      "text/plain": [
       "0.3861303690060281"
      ]
     },
     "execution_count": 66,
     "metadata": {},
     "output_type": "execute_result"
    }
   ],
   "source": [
    "score_base"
   ]
  },
  {
   "cell_type": "markdown",
   "id": "86b8a32b-c153-4dae-a891-6e90efd59482",
   "metadata": {
    "tags": []
   },
   "source": [
    "<br>\n",
    "\n",
    "## Feature Scaling\n",
    "Feature scaling is used to make sure that every feature is treated with equal importance.<br>\n",
    "Imagine the unscaled features `age` and `height`.<br>\n",
    "Age might have values between `0.0-100.0` while height might have values between `1.00-2.00`. Without any sclaing the model would think that age has a greate effect on the prediction than height.<br>\n",
    "\n",
    "The feature scaling we will apply to our data is `standardization`, so that our features have zero mean and unit variance.\n",
    "<a id='feature_scaling'></a>"
   ]
  },
  {
   "cell_type": "code",
   "execution_count": 67,
   "id": "ba811eb4-c0d7-493a-8a82-f9926f644af2",
   "metadata": {},
   "outputs": [],
   "source": [
    "from sklearn.preprocessing import StandardScaler"
   ]
  },
  {
   "cell_type": "code",
   "execution_count": 68,
   "id": "0c486231-d52a-4e87-bf11-442e0eff3c63",
   "metadata": {},
   "outputs": [],
   "source": [
    "# select numerical columns\n",
    "num_cols = df.select_dtypes(include=['int64', 'float64']).columns.tolist()\n",
    "\n",
    "# instantiate StandardScaler object\n",
    "scaler = StandardScaler()\n",
    "\n",
    "# fit scaler to numerical columns only\n",
    "scaler.fit(df[num_cols])\n",
    "\n",
    "# transform numerical columns only\n",
    "df[num_cols] = scaler.transform(df[num_cols])"
   ]
  },
  {
   "cell_type": "markdown",
   "id": "ac4f6eac-afb6-4b49-873a-ec7def4cb377",
   "metadata": {},
   "source": [
    "### evaluate the model"
   ]
  },
  {
   "cell_type": "code",
   "execution_count": 69,
   "id": "544755d3-faf0-4fda-b244-66e5a3616e63",
   "metadata": {},
   "outputs": [],
   "source": [
    "df_subset = df.drop(columns=[\"cost in €\"])\n",
    "score_features_scaled = model_train_val(df_subset, target=\"rate\")"
   ]
  },
  {
   "cell_type": "code",
   "execution_count": 70,
   "id": "fe101435-cb23-4bbd-8f67-83a17a5e456c",
   "metadata": {},
   "outputs": [
    {
     "data": {
      "text/plain": [
       "0.3861303690060281"
      ]
     },
     "execution_count": 70,
     "metadata": {},
     "output_type": "execute_result"
    }
   ],
   "source": [
    "score_base"
   ]
  },
  {
   "cell_type": "code",
   "execution_count": 71,
   "id": "b306c1ed-68b8-4149-8e29-66a229124b7d",
   "metadata": {},
   "outputs": [
    {
     "data": {
      "text/plain": [
       "0.5304133961110058"
      ]
     },
     "execution_count": 71,
     "metadata": {},
     "output_type": "execute_result"
    }
   ],
   "source": [
    "score_features_scaled"
   ]
  },
  {
   "cell_type": "markdown",
   "id": "f9b3912c-895d-425d-a375-376c7ea824df",
   "metadata": {},
   "source": [
    "<br>\n",
    "\n",
    "## Missing Values part 2\n",
    "Now can finally finish the missing value imputation using **KNN imputation** and **Aritficial Neural Networks**.<br>\n",
    "We left of at `cost in €` which is the only remaining feature containing missing values.\n",
    "<a id='missing_values_part_2'></a>"
   ]
  },
  {
   "cell_type": "code",
   "execution_count": 72,
   "id": "748b1de2-adb2-4cda-ac91-746e53a0d1af",
   "metadata": {},
   "outputs": [
    {
     "data": {
      "text/plain": [
       "cost in €    244\n",
       "dtype: int64"
      ]
     },
     "execution_count": 72,
     "metadata": {},
     "output_type": "execute_result"
    }
   ],
   "source": [
    "df.isnull().sum()[df.isnull().sum() != 0]"
   ]
  },
  {
   "cell_type": "markdown",
   "id": "e426d342-69b6-4b12-9496-4688fea48100",
   "metadata": {},
   "source": [
    "### Artificial Neural Networks Imputation\n",
    "<a id='ann_imputation'></a>"
   ]
  },
  {
   "cell_type": "markdown",
   "id": "c3bdf629-c7cb-4ad4-a3e0-743618af7405",
   "metadata": {},
   "source": [
    "copy df so we can also have the original one for the knn imputation"
   ]
  },
  {
   "cell_type": "code",
   "execution_count": 73,
   "id": "946a0fea-3211-48b4-ae1d-6fb9bc1dfc93",
   "metadata": {},
   "outputs": [],
   "source": [
    "df_ann = df.copy()"
   ]
  },
  {
   "cell_type": "markdown",
   "id": "dcc89a90-a406-45af-965b-f07a8eab154a",
   "metadata": {},
   "source": [
    "select the rows where `cost in €` is not missing"
   ]
  },
  {
   "cell_type": "code",
   "execution_count": 74,
   "id": "50918a1d-e765-4fde-9e64-e9ed6a844fbe",
   "metadata": {},
   "outputs": [],
   "source": [
    "df_cost_not_missing = df_ann.loc[~df_ann.loc[:, \"cost in €\"].isnull()]"
   ]
  },
  {
   "cell_type": "code",
   "execution_count": 75,
   "id": "d8ce666d-2c35-4784-8d31-bb89c05a34c9",
   "metadata": {},
   "outputs": [
    {
     "data": {
      "text/html": [
       "<div>\n",
       "<style scoped>\n",
       "    .dataframe tbody tr th:only-of-type {\n",
       "        vertical-align: middle;\n",
       "    }\n",
       "\n",
       "    .dataframe tbody tr th {\n",
       "        vertical-align: top;\n",
       "    }\n",
       "\n",
       "    .dataframe thead th {\n",
       "        text-align: right;\n",
       "    }\n",
       "</style>\n",
       "<table border=\"1\" class=\"dataframe\">\n",
       "  <thead>\n",
       "    <tr style=\"text-align: right;\">\n",
       "      <th></th>\n",
       "      <th>online_order</th>\n",
       "      <th>book_table</th>\n",
       "      <th>rate</th>\n",
       "      <th>votes</th>\n",
       "      <th>cost in €</th>\n",
       "      <th>has_liked_dishes</th>\n",
       "      <th>Mess</th>\n",
       "      <th>Bhojanalya</th>\n",
       "      <th>Cafe</th>\n",
       "      <th>Pub</th>\n",
       "      <th>...</th>\n",
       "      <th>Lavelle Road</th>\n",
       "      <th>MG Road</th>\n",
       "      <th>Malleshwaram</th>\n",
       "      <th>Marathahalli</th>\n",
       "      <th>New BEL Road</th>\n",
       "      <th>Old Airport Road</th>\n",
       "      <th>Rajajinagar</th>\n",
       "      <th>Residency Road</th>\n",
       "      <th>Sarjapur Road</th>\n",
       "      <th>Whitefield</th>\n",
       "    </tr>\n",
       "  </thead>\n",
       "  <tbody>\n",
       "    <tr>\n",
       "      <th>0</th>\n",
       "      <td>True</td>\n",
       "      <td>True</td>\n",
       "      <td>0.906841</td>\n",
       "      <td>0.479978</td>\n",
       "      <td>0.423577</td>\n",
       "      <td>True</td>\n",
       "      <td>False</td>\n",
       "      <td>False</td>\n",
       "      <td>False</td>\n",
       "      <td>False</td>\n",
       "      <td>...</td>\n",
       "      <td>0</td>\n",
       "      <td>0</td>\n",
       "      <td>0</td>\n",
       "      <td>0</td>\n",
       "      <td>0</td>\n",
       "      <td>0</td>\n",
       "      <td>0</td>\n",
       "      <td>0</td>\n",
       "      <td>0</td>\n",
       "      <td>0</td>\n",
       "    </tr>\n",
       "    <tr>\n",
       "      <th>1</th>\n",
       "      <td>True</td>\n",
       "      <td>False</td>\n",
       "      <td>0.906841</td>\n",
       "      <td>0.493585</td>\n",
       "      <td>0.423577</td>\n",
       "      <td>True</td>\n",
       "      <td>False</td>\n",
       "      <td>False</td>\n",
       "      <td>False</td>\n",
       "      <td>False</td>\n",
       "      <td>...</td>\n",
       "      <td>0</td>\n",
       "      <td>0</td>\n",
       "      <td>0</td>\n",
       "      <td>0</td>\n",
       "      <td>0</td>\n",
       "      <td>0</td>\n",
       "      <td>0</td>\n",
       "      <td>0</td>\n",
       "      <td>0</td>\n",
       "      <td>0</td>\n",
       "    </tr>\n",
       "    <tr>\n",
       "      <th>2</th>\n",
       "      <td>True</td>\n",
       "      <td>False</td>\n",
       "      <td>0.225852</td>\n",
       "      <td>0.642131</td>\n",
       "      <td>0.423577</td>\n",
       "      <td>True</td>\n",
       "      <td>False</td>\n",
       "      <td>False</td>\n",
       "      <td>True</td>\n",
       "      <td>False</td>\n",
       "      <td>...</td>\n",
       "      <td>0</td>\n",
       "      <td>0</td>\n",
       "      <td>0</td>\n",
       "      <td>0</td>\n",
       "      <td>0</td>\n",
       "      <td>0</td>\n",
       "      <td>0</td>\n",
       "      <td>0</td>\n",
       "      <td>0</td>\n",
       "      <td>0</td>\n",
       "    </tr>\n",
       "    <tr>\n",
       "      <th>3</th>\n",
       "      <td>False</td>\n",
       "      <td>False</td>\n",
       "      <td>-0.001144</td>\n",
       "      <td>-0.299037</td>\n",
       "      <td>-0.653198</td>\n",
       "      <td>True</td>\n",
       "      <td>False</td>\n",
       "      <td>False</td>\n",
       "      <td>False</td>\n",
       "      <td>False</td>\n",
       "      <td>...</td>\n",
       "      <td>0</td>\n",
       "      <td>0</td>\n",
       "      <td>0</td>\n",
       "      <td>0</td>\n",
       "      <td>0</td>\n",
       "      <td>0</td>\n",
       "      <td>0</td>\n",
       "      <td>0</td>\n",
       "      <td>0</td>\n",
       "      <td>0</td>\n",
       "    </tr>\n",
       "    <tr>\n",
       "      <th>4</th>\n",
       "      <td>False</td>\n",
       "      <td>False</td>\n",
       "      <td>0.225852</td>\n",
       "      <td>-0.210590</td>\n",
       "      <td>-0.007133</td>\n",
       "      <td>True</td>\n",
       "      <td>False</td>\n",
       "      <td>False</td>\n",
       "      <td>False</td>\n",
       "      <td>False</td>\n",
       "      <td>...</td>\n",
       "      <td>0</td>\n",
       "      <td>0</td>\n",
       "      <td>0</td>\n",
       "      <td>0</td>\n",
       "      <td>0</td>\n",
       "      <td>0</td>\n",
       "      <td>0</td>\n",
       "      <td>0</td>\n",
       "      <td>0</td>\n",
       "      <td>0</td>\n",
       "    </tr>\n",
       "    <tr>\n",
       "      <th>...</th>\n",
       "      <td>...</td>\n",
       "      <td>...</td>\n",
       "      <td>...</td>\n",
       "      <td>...</td>\n",
       "      <td>...</td>\n",
       "      <td>...</td>\n",
       "      <td>...</td>\n",
       "      <td>...</td>\n",
       "      <td>...</td>\n",
       "      <td>...</td>\n",
       "      <td>...</td>\n",
       "      <td>...</td>\n",
       "      <td>...</td>\n",
       "      <td>...</td>\n",
       "      <td>...</td>\n",
       "      <td>...</td>\n",
       "      <td>...</td>\n",
       "      <td>...</td>\n",
       "      <td>...</td>\n",
       "      <td>...</td>\n",
       "      <td>...</td>\n",
       "    </tr>\n",
       "    <tr>\n",
       "      <th>51709</th>\n",
       "      <td>False</td>\n",
       "      <td>False</td>\n",
       "      <td>-0.001144</td>\n",
       "      <td>-0.360269</td>\n",
       "      <td>0.423577</td>\n",
       "      <td>False</td>\n",
       "      <td>False</td>\n",
       "      <td>False</td>\n",
       "      <td>False</td>\n",
       "      <td>False</td>\n",
       "      <td>...</td>\n",
       "      <td>0</td>\n",
       "      <td>0</td>\n",
       "      <td>0</td>\n",
       "      <td>0</td>\n",
       "      <td>0</td>\n",
       "      <td>0</td>\n",
       "      <td>0</td>\n",
       "      <td>0</td>\n",
       "      <td>0</td>\n",
       "      <td>1</td>\n",
       "    </tr>\n",
       "    <tr>\n",
       "      <th>51711</th>\n",
       "      <td>False</td>\n",
       "      <td>False</td>\n",
       "      <td>-2.725100</td>\n",
       "      <td>-0.306974</td>\n",
       "      <td>0.423577</td>\n",
       "      <td>True</td>\n",
       "      <td>False</td>\n",
       "      <td>False</td>\n",
       "      <td>False</td>\n",
       "      <td>False</td>\n",
       "      <td>...</td>\n",
       "      <td>0</td>\n",
       "      <td>0</td>\n",
       "      <td>0</td>\n",
       "      <td>0</td>\n",
       "      <td>0</td>\n",
       "      <td>0</td>\n",
       "      <td>0</td>\n",
       "      <td>0</td>\n",
       "      <td>0</td>\n",
       "      <td>1</td>\n",
       "    </tr>\n",
       "    <tr>\n",
       "      <th>51712</th>\n",
       "      <td>False</td>\n",
       "      <td>False</td>\n",
       "      <td>-0.228141</td>\n",
       "      <td>-0.368207</td>\n",
       "      <td>1.931062</td>\n",
       "      <td>False</td>\n",
       "      <td>False</td>\n",
       "      <td>False</td>\n",
       "      <td>False</td>\n",
       "      <td>False</td>\n",
       "      <td>...</td>\n",
       "      <td>0</td>\n",
       "      <td>0</td>\n",
       "      <td>0</td>\n",
       "      <td>0</td>\n",
       "      <td>0</td>\n",
       "      <td>0</td>\n",
       "      <td>0</td>\n",
       "      <td>0</td>\n",
       "      <td>0</td>\n",
       "      <td>1</td>\n",
       "    </tr>\n",
       "    <tr>\n",
       "      <th>51715</th>\n",
       "      <td>False</td>\n",
       "      <td>True</td>\n",
       "      <td>1.360833</td>\n",
       "      <td>-0.131214</td>\n",
       "      <td>4.084612</td>\n",
       "      <td>True</td>\n",
       "      <td>False</td>\n",
       "      <td>False</td>\n",
       "      <td>False</td>\n",
       "      <td>False</td>\n",
       "      <td>...</td>\n",
       "      <td>0</td>\n",
       "      <td>0</td>\n",
       "      <td>0</td>\n",
       "      <td>0</td>\n",
       "      <td>0</td>\n",
       "      <td>0</td>\n",
       "      <td>0</td>\n",
       "      <td>0</td>\n",
       "      <td>0</td>\n",
       "      <td>1</td>\n",
       "    </tr>\n",
       "    <tr>\n",
       "      <th>51716</th>\n",
       "      <td>False</td>\n",
       "      <td>False</td>\n",
       "      <td>-0.682133</td>\n",
       "      <td>-0.384082</td>\n",
       "      <td>1.931062</td>\n",
       "      <td>False</td>\n",
       "      <td>False</td>\n",
       "      <td>False</td>\n",
       "      <td>False</td>\n",
       "      <td>False</td>\n",
       "      <td>...</td>\n",
       "      <td>0</td>\n",
       "      <td>0</td>\n",
       "      <td>0</td>\n",
       "      <td>0</td>\n",
       "      <td>0</td>\n",
       "      <td>0</td>\n",
       "      <td>0</td>\n",
       "      <td>0</td>\n",
       "      <td>0</td>\n",
       "      <td>1</td>\n",
       "    </tr>\n",
       "  </tbody>\n",
       "</table>\n",
       "<p>41410 rows × 166 columns</p>\n",
       "</div>"
      ],
      "text/plain": [
       "       online_order  book_table      rate     votes  cost in €  \\\n",
       "0              True        True  0.906841  0.479978   0.423577   \n",
       "1              True       False  0.906841  0.493585   0.423577   \n",
       "2              True       False  0.225852  0.642131   0.423577   \n",
       "3             False       False -0.001144 -0.299037  -0.653198   \n",
       "4             False       False  0.225852 -0.210590  -0.007133   \n",
       "...             ...         ...       ...       ...        ...   \n",
       "51709         False       False -0.001144 -0.360269   0.423577   \n",
       "51711         False       False -2.725100 -0.306974   0.423577   \n",
       "51712         False       False -0.228141 -0.368207   1.931062   \n",
       "51715         False        True  1.360833 -0.131214   4.084612   \n",
       "51716         False       False -0.682133 -0.384082   1.931062   \n",
       "\n",
       "       has_liked_dishes   Mess  Bhojanalya   Cafe    Pub  ...  Lavelle Road  \\\n",
       "0                  True  False       False  False  False  ...             0   \n",
       "1                  True  False       False  False  False  ...             0   \n",
       "2                  True  False       False   True  False  ...             0   \n",
       "3                  True  False       False  False  False  ...             0   \n",
       "4                  True  False       False  False  False  ...             0   \n",
       "...                 ...    ...         ...    ...    ...  ...           ...   \n",
       "51709             False  False       False  False  False  ...             0   \n",
       "51711              True  False       False  False  False  ...             0   \n",
       "51712             False  False       False  False  False  ...             0   \n",
       "51715              True  False       False  False  False  ...             0   \n",
       "51716             False  False       False  False  False  ...             0   \n",
       "\n",
       "       MG Road  Malleshwaram  Marathahalli  New BEL Road  Old Airport Road  \\\n",
       "0            0             0             0             0                 0   \n",
       "1            0             0             0             0                 0   \n",
       "2            0             0             0             0                 0   \n",
       "3            0             0             0             0                 0   \n",
       "4            0             0             0             0                 0   \n",
       "...        ...           ...           ...           ...               ...   \n",
       "51709        0             0             0             0                 0   \n",
       "51711        0             0             0             0                 0   \n",
       "51712        0             0             0             0                 0   \n",
       "51715        0             0             0             0                 0   \n",
       "51716        0             0             0             0                 0   \n",
       "\n",
       "       Rajajinagar  Residency Road  Sarjapur Road  Whitefield  \n",
       "0                0               0              0           0  \n",
       "1                0               0              0           0  \n",
       "2                0               0              0           0  \n",
       "3                0               0              0           0  \n",
       "4                0               0              0           0  \n",
       "...            ...             ...            ...         ...  \n",
       "51709            0               0              0           1  \n",
       "51711            0               0              0           1  \n",
       "51712            0               0              0           1  \n",
       "51715            0               0              0           1  \n",
       "51716            0               0              0           1  \n",
       "\n",
       "[41410 rows x 166 columns]"
      ]
     },
     "execution_count": 75,
     "metadata": {},
     "output_type": "execute_result"
    }
   ],
   "source": [
    "df_cost_not_missing"
   ]
  },
  {
   "cell_type": "markdown",
   "id": "5a288a13-5f97-4d6a-aa6d-69a2bdba335c",
   "metadata": {},
   "source": [
    "train model"
   ]
  },
  {
   "cell_type": "code",
   "execution_count": 76,
   "id": "3da8550d-86fa-47cc-8aeb-1003ed1f0984",
   "metadata": {},
   "outputs": [],
   "source": [
    "def ann_missing_value_imputation(df, target=\"cost in €\"):\n",
    "    # we also drop the rate column, otherwise our model could \"cheat\"\n",
    "    X = df.drop(columns=target).drop(columns=\"rate\")\n",
    "    y = df[target]\n",
    "        \n",
    "    mlp = MLPRegressor(hidden_layer_sizes=(16,8,4), activation='relu', solver='adam')\n",
    "   \n",
    "    results = cross_validate(mlp, X, y, cv=5, return_train_score=True, return_estimator=True)\n",
    "    return results"
   ]
  },
  {
   "cell_type": "code",
   "execution_count": 77,
   "id": "8e70e882-163d-4510-a8b1-4429f5263e6b",
   "metadata": {},
   "outputs": [
    {
     "name": "stderr",
     "output_type": "stream",
     "text": [
      "/opt/homebrew/Caskroom/miniforge/base/envs/py/lib/python3.10/site-packages/sklearn/neural_network/_multilayer_perceptron.py:702: ConvergenceWarning: Stochastic Optimizer: Maximum iterations (200) reached and the optimization hasn't converged yet.\n",
      "  warnings.warn(\n"
     ]
    }
   ],
   "source": [
    "results = ann_missing_value_imputation(df_cost_not_missing)"
   ]
  },
  {
   "cell_type": "code",
   "execution_count": 78,
   "id": "dad64e8b-dfb7-452a-aa37-abdc1dc210aa",
   "metadata": {},
   "outputs": [
    {
     "data": {
      "text/plain": [
       "{'fit_time': array([23.83092618, 19.09277296, 17.53243542, 17.9879899 , 13.11910677]),\n",
       " 'score_time': array([0.00477791, 0.00430417, 0.00594878, 0.00619721, 0.00528622]),\n",
       " 'estimator': [MLPRegressor(hidden_layer_sizes=(16, 8, 4)),\n",
       "  MLPRegressor(hidden_layer_sizes=(16, 8, 4)),\n",
       "  MLPRegressor(hidden_layer_sizes=(16, 8, 4)),\n",
       "  MLPRegressor(hidden_layer_sizes=(16, 8, 4)),\n",
       "  MLPRegressor(hidden_layer_sizes=(16, 8, 4))],\n",
       " 'test_score': array([0.85137401, 0.85261451, 0.77266581, 0.77244577, 0.80015952]),\n",
       " 'train_score': array([0.92856298, 0.92732441, 0.93384961, 0.92043397, 0.92401619])}"
      ]
     },
     "execution_count": 78,
     "metadata": {},
     "output_type": "execute_result"
    }
   ],
   "source": [
    "results"
   ]
  },
  {
   "cell_type": "markdown",
   "id": "1b595635-4109-43e0-9334-255b3423391f",
   "metadata": {},
   "source": [
    "Select a model."
   ]
  },
  {
   "cell_type": "code",
   "execution_count": 79,
   "id": "3165f3fe-aa78-4438-a8b7-1113dd3c0d42",
   "metadata": {},
   "outputs": [],
   "source": [
    "model = results[\"estimator\"][0]"
   ]
  },
  {
   "cell_type": "markdown",
   "id": "38321869-41af-490f-8d8c-41fc25a627b4",
   "metadata": {},
   "source": [
    "predict the missing values"
   ]
  },
  {
   "cell_type": "code",
   "execution_count": 80,
   "id": "b24a5012-13ba-48b8-82fa-8a340ac1e9bb",
   "metadata": {},
   "outputs": [],
   "source": [
    "df_cost_missing = df_ann.loc[df_ann.loc[:, \"cost in €\"].isnull()]\n",
    "\n",
    "X = df_cost_missing.drop(columns = \"cost in €\").drop(columns = \"rate\")\n",
    "\n",
    "predicted_cost = model.predict(X)"
   ]
  },
  {
   "cell_type": "code",
   "execution_count": 86,
   "id": "64ac95ee-6c0b-418c-9fe2-609c8be76bc0",
   "metadata": {},
   "outputs": [
    {
     "data": {
      "text/html": [
       "<div>\n",
       "<style scoped>\n",
       "    .dataframe tbody tr th:only-of-type {\n",
       "        vertical-align: middle;\n",
       "    }\n",
       "\n",
       "    .dataframe tbody tr th {\n",
       "        vertical-align: top;\n",
       "    }\n",
       "\n",
       "    .dataframe thead th {\n",
       "        text-align: right;\n",
       "    }\n",
       "</style>\n",
       "<table border=\"1\" class=\"dataframe\">\n",
       "  <thead>\n",
       "    <tr style=\"text-align: right;\">\n",
       "      <th></th>\n",
       "      <th>online_order</th>\n",
       "      <th>book_table</th>\n",
       "      <th>rate</th>\n",
       "      <th>votes</th>\n",
       "      <th>cost in €</th>\n",
       "      <th>has_liked_dishes</th>\n",
       "      <th>Mess</th>\n",
       "      <th>Bhojanalya</th>\n",
       "      <th>Cafe</th>\n",
       "      <th>Pub</th>\n",
       "      <th>...</th>\n",
       "      <th>Lavelle Road</th>\n",
       "      <th>MG Road</th>\n",
       "      <th>Malleshwaram</th>\n",
       "      <th>Marathahalli</th>\n",
       "      <th>New BEL Road</th>\n",
       "      <th>Old Airport Road</th>\n",
       "      <th>Rajajinagar</th>\n",
       "      <th>Residency Road</th>\n",
       "      <th>Sarjapur Road</th>\n",
       "      <th>Whitefield</th>\n",
       "    </tr>\n",
       "  </thead>\n",
       "  <tbody>\n",
       "    <tr>\n",
       "      <th>3774</th>\n",
       "      <td>False</td>\n",
       "      <td>False</td>\n",
       "      <td>0.452848</td>\n",
       "      <td>-0.130080</td>\n",
       "      <td>1.332973</td>\n",
       "      <td>True</td>\n",
       "      <td>False</td>\n",
       "      <td>False</td>\n",
       "      <td>False</td>\n",
       "      <td>False</td>\n",
       "      <td>...</td>\n",
       "      <td>0</td>\n",
       "      <td>0</td>\n",
       "      <td>0</td>\n",
       "      <td>0</td>\n",
       "      <td>0</td>\n",
       "      <td>0</td>\n",
       "      <td>0</td>\n",
       "      <td>0</td>\n",
       "      <td>0</td>\n",
       "      <td>0</td>\n",
       "    </tr>\n",
       "    <tr>\n",
       "      <th>3954</th>\n",
       "      <td>False</td>\n",
       "      <td>False</td>\n",
       "      <td>-1.136126</td>\n",
       "      <td>-0.384082</td>\n",
       "      <td>-0.390814</td>\n",
       "      <td>False</td>\n",
       "      <td>False</td>\n",
       "      <td>False</td>\n",
       "      <td>False</td>\n",
       "      <td>False</td>\n",
       "      <td>...</td>\n",
       "      <td>0</td>\n",
       "      <td>0</td>\n",
       "      <td>0</td>\n",
       "      <td>0</td>\n",
       "      <td>0</td>\n",
       "      <td>0</td>\n",
       "      <td>0</td>\n",
       "      <td>0</td>\n",
       "      <td>0</td>\n",
       "      <td>0</td>\n",
       "    </tr>\n",
       "    <tr>\n",
       "      <th>4040</th>\n",
       "      <td>False</td>\n",
       "      <td>False</td>\n",
       "      <td>-0.909129</td>\n",
       "      <td>-0.392020</td>\n",
       "      <td>-0.316365</td>\n",
       "      <td>False</td>\n",
       "      <td>False</td>\n",
       "      <td>False</td>\n",
       "      <td>False</td>\n",
       "      <td>False</td>\n",
       "      <td>...</td>\n",
       "      <td>0</td>\n",
       "      <td>0</td>\n",
       "      <td>0</td>\n",
       "      <td>0</td>\n",
       "      <td>0</td>\n",
       "      <td>0</td>\n",
       "      <td>0</td>\n",
       "      <td>0</td>\n",
       "      <td>0</td>\n",
       "      <td>0</td>\n",
       "    </tr>\n",
       "    <tr>\n",
       "      <th>4852</th>\n",
       "      <td>False</td>\n",
       "      <td>False</td>\n",
       "      <td>0.452848</td>\n",
       "      <td>-0.130080</td>\n",
       "      <td>1.332973</td>\n",
       "      <td>True</td>\n",
       "      <td>False</td>\n",
       "      <td>False</td>\n",
       "      <td>False</td>\n",
       "      <td>False</td>\n",
       "      <td>...</td>\n",
       "      <td>0</td>\n",
       "      <td>0</td>\n",
       "      <td>0</td>\n",
       "      <td>0</td>\n",
       "      <td>0</td>\n",
       "      <td>0</td>\n",
       "      <td>0</td>\n",
       "      <td>0</td>\n",
       "      <td>0</td>\n",
       "      <td>0</td>\n",
       "    </tr>\n",
       "    <tr>\n",
       "      <th>4952</th>\n",
       "      <td>False</td>\n",
       "      <td>False</td>\n",
       "      <td>0.452848</td>\n",
       "      <td>-0.130080</td>\n",
       "      <td>1.332973</td>\n",
       "      <td>True</td>\n",
       "      <td>False</td>\n",
       "      <td>False</td>\n",
       "      <td>False</td>\n",
       "      <td>False</td>\n",
       "      <td>...</td>\n",
       "      <td>0</td>\n",
       "      <td>0</td>\n",
       "      <td>0</td>\n",
       "      <td>0</td>\n",
       "      <td>0</td>\n",
       "      <td>0</td>\n",
       "      <td>0</td>\n",
       "      <td>0</td>\n",
       "      <td>0</td>\n",
       "      <td>0</td>\n",
       "    </tr>\n",
       "    <tr>\n",
       "      <th>...</th>\n",
       "      <td>...</td>\n",
       "      <td>...</td>\n",
       "      <td>...</td>\n",
       "      <td>...</td>\n",
       "      <td>...</td>\n",
       "      <td>...</td>\n",
       "      <td>...</td>\n",
       "      <td>...</td>\n",
       "      <td>...</td>\n",
       "      <td>...</td>\n",
       "      <td>...</td>\n",
       "      <td>...</td>\n",
       "      <td>...</td>\n",
       "      <td>...</td>\n",
       "      <td>...</td>\n",
       "      <td>...</td>\n",
       "      <td>...</td>\n",
       "      <td>...</td>\n",
       "      <td>...</td>\n",
       "      <td>...</td>\n",
       "      <td>...</td>\n",
       "    </tr>\n",
       "    <tr>\n",
       "      <th>50702</th>\n",
       "      <td>False</td>\n",
       "      <td>False</td>\n",
       "      <td>-1.136126</td>\n",
       "      <td>-0.394288</td>\n",
       "      <td>-0.037225</td>\n",
       "      <td>False</td>\n",
       "      <td>False</td>\n",
       "      <td>False</td>\n",
       "      <td>False</td>\n",
       "      <td>False</td>\n",
       "      <td>...</td>\n",
       "      <td>0</td>\n",
       "      <td>0</td>\n",
       "      <td>0</td>\n",
       "      <td>0</td>\n",
       "      <td>0</td>\n",
       "      <td>0</td>\n",
       "      <td>0</td>\n",
       "      <td>0</td>\n",
       "      <td>0</td>\n",
       "      <td>1</td>\n",
       "    </tr>\n",
       "    <tr>\n",
       "      <th>50940</th>\n",
       "      <td>False</td>\n",
       "      <td>False</td>\n",
       "      <td>0.679844</td>\n",
       "      <td>-0.308108</td>\n",
       "      <td>-0.468808</td>\n",
       "      <td>True</td>\n",
       "      <td>False</td>\n",
       "      <td>False</td>\n",
       "      <td>False</td>\n",
       "      <td>False</td>\n",
       "      <td>...</td>\n",
       "      <td>0</td>\n",
       "      <td>0</td>\n",
       "      <td>0</td>\n",
       "      <td>0</td>\n",
       "      <td>0</td>\n",
       "      <td>0</td>\n",
       "      <td>0</td>\n",
       "      <td>0</td>\n",
       "      <td>0</td>\n",
       "      <td>1</td>\n",
       "    </tr>\n",
       "    <tr>\n",
       "      <th>51247</th>\n",
       "      <td>False</td>\n",
       "      <td>False</td>\n",
       "      <td>-2.498103</td>\n",
       "      <td>-0.312644</td>\n",
       "      <td>0.250820</td>\n",
       "      <td>True</td>\n",
       "      <td>False</td>\n",
       "      <td>False</td>\n",
       "      <td>False</td>\n",
       "      <td>False</td>\n",
       "      <td>...</td>\n",
       "      <td>0</td>\n",
       "      <td>0</td>\n",
       "      <td>0</td>\n",
       "      <td>0</td>\n",
       "      <td>0</td>\n",
       "      <td>0</td>\n",
       "      <td>0</td>\n",
       "      <td>0</td>\n",
       "      <td>0</td>\n",
       "      <td>1</td>\n",
       "    </tr>\n",
       "    <tr>\n",
       "      <th>51271</th>\n",
       "      <td>False</td>\n",
       "      <td>False</td>\n",
       "      <td>-1.136126</td>\n",
       "      <td>-0.394288</td>\n",
       "      <td>-0.037225</td>\n",
       "      <td>False</td>\n",
       "      <td>False</td>\n",
       "      <td>False</td>\n",
       "      <td>False</td>\n",
       "      <td>False</td>\n",
       "      <td>...</td>\n",
       "      <td>0</td>\n",
       "      <td>0</td>\n",
       "      <td>0</td>\n",
       "      <td>0</td>\n",
       "      <td>0</td>\n",
       "      <td>0</td>\n",
       "      <td>0</td>\n",
       "      <td>0</td>\n",
       "      <td>0</td>\n",
       "      <td>1</td>\n",
       "    </tr>\n",
       "    <tr>\n",
       "      <th>51641</th>\n",
       "      <td>False</td>\n",
       "      <td>False</td>\n",
       "      <td>-1.136126</td>\n",
       "      <td>-0.394288</td>\n",
       "      <td>-0.514141</td>\n",
       "      <td>False</td>\n",
       "      <td>False</td>\n",
       "      <td>False</td>\n",
       "      <td>False</td>\n",
       "      <td>False</td>\n",
       "      <td>...</td>\n",
       "      <td>0</td>\n",
       "      <td>0</td>\n",
       "      <td>0</td>\n",
       "      <td>0</td>\n",
       "      <td>0</td>\n",
       "      <td>0</td>\n",
       "      <td>0</td>\n",
       "      <td>0</td>\n",
       "      <td>0</td>\n",
       "      <td>1</td>\n",
       "    </tr>\n",
       "  </tbody>\n",
       "</table>\n",
       "<p>244 rows × 166 columns</p>\n",
       "</div>"
      ],
      "text/plain": [
       "       online_order  book_table      rate     votes  cost in €  \\\n",
       "3774          False       False  0.452848 -0.130080   1.332973   \n",
       "3954          False       False -1.136126 -0.384082  -0.390814   \n",
       "4040          False       False -0.909129 -0.392020  -0.316365   \n",
       "4852          False       False  0.452848 -0.130080   1.332973   \n",
       "4952          False       False  0.452848 -0.130080   1.332973   \n",
       "...             ...         ...       ...       ...        ...   \n",
       "50702         False       False -1.136126 -0.394288  -0.037225   \n",
       "50940         False       False  0.679844 -0.308108  -0.468808   \n",
       "51247         False       False -2.498103 -0.312644   0.250820   \n",
       "51271         False       False -1.136126 -0.394288  -0.037225   \n",
       "51641         False       False -1.136126 -0.394288  -0.514141   \n",
       "\n",
       "       has_liked_dishes   Mess  Bhojanalya   Cafe    Pub  ...  Lavelle Road  \\\n",
       "3774               True  False       False  False  False  ...             0   \n",
       "3954              False  False       False  False  False  ...             0   \n",
       "4040              False  False       False  False  False  ...             0   \n",
       "4852               True  False       False  False  False  ...             0   \n",
       "4952               True  False       False  False  False  ...             0   \n",
       "...                 ...    ...         ...    ...    ...  ...           ...   \n",
       "50702             False  False       False  False  False  ...             0   \n",
       "50940              True  False       False  False  False  ...             0   \n",
       "51247              True  False       False  False  False  ...             0   \n",
       "51271             False  False       False  False  False  ...             0   \n",
       "51641             False  False       False  False  False  ...             0   \n",
       "\n",
       "       MG Road  Malleshwaram  Marathahalli  New BEL Road  Old Airport Road  \\\n",
       "3774         0             0             0             0                 0   \n",
       "3954         0             0             0             0                 0   \n",
       "4040         0             0             0             0                 0   \n",
       "4852         0             0             0             0                 0   \n",
       "4952         0             0             0             0                 0   \n",
       "...        ...           ...           ...           ...               ...   \n",
       "50702        0             0             0             0                 0   \n",
       "50940        0             0             0             0                 0   \n",
       "51247        0             0             0             0                 0   \n",
       "51271        0             0             0             0                 0   \n",
       "51641        0             0             0             0                 0   \n",
       "\n",
       "       Rajajinagar  Residency Road  Sarjapur Road  Whitefield  \n",
       "3774             0               0              0           0  \n",
       "3954             0               0              0           0  \n",
       "4040             0               0              0           0  \n",
       "4852             0               0              0           0  \n",
       "4952             0               0              0           0  \n",
       "...            ...             ...            ...         ...  \n",
       "50702            0               0              0           1  \n",
       "50940            0               0              0           1  \n",
       "51247            0               0              0           1  \n",
       "51271            0               0              0           1  \n",
       "51641            0               0              0           1  \n",
       "\n",
       "[244 rows x 166 columns]"
      ]
     },
     "execution_count": 86,
     "metadata": {},
     "output_type": "execute_result"
    }
   ],
   "source": [
    "df_cost_missing"
   ]
  },
  {
   "cell_type": "markdown",
   "id": "d43b8e03-a4bd-4316-bc4c-7e0f9bc5594f",
   "metadata": {},
   "source": [
    "add the predicted values to the dataframe"
   ]
  },
  {
   "cell_type": "code",
   "execution_count": 84,
   "id": "00d0c700-2b55-492c-81d0-1972312aa0aa",
   "metadata": {},
   "outputs": [],
   "source": [
    "df_cost_missing.loc[:, \"cost in €\"] = predicted_cost"
   ]
  },
  {
   "cell_type": "markdown",
   "id": "9f9c6fa5-e58c-4855-8ce6-f78eed46d3a4",
   "metadata": {},
   "source": [
    "combine with the original dataset"
   ]
  },
  {
   "cell_type": "code",
   "execution_count": 87,
   "id": "11e754be-f45f-4a0e-9c46-27f45f07cae6",
   "metadata": {},
   "outputs": [],
   "source": [
    "df_ann.loc[:, \"cost in €\"] = df_ann.loc[:, \"cost in €\"].combine_first(df_cost_missing.loc[:, \"cost in €\"])"
   ]
  },
  {
   "cell_type": "markdown",
   "id": "41b7b7bf-b654-4108-a910-92129c64ce5d",
   "metadata": {},
   "source": [
    "### evaluate model"
   ]
  },
  {
   "cell_type": "code",
   "execution_count": 88,
   "id": "c2223a45-d3c4-4e97-8258-96fc5b41d0ee",
   "metadata": {},
   "outputs": [],
   "source": [
    "score_ann_impute = model_train_val(df_ann, target=\"rate\")"
   ]
  },
  {
   "cell_type": "code",
   "execution_count": 89,
   "id": "d8c1fa16-4dff-422f-abea-98e413671615",
   "metadata": {},
   "outputs": [
    {
     "data": {
      "text/plain": [
       "0.3861303690060281"
      ]
     },
     "execution_count": 89,
     "metadata": {},
     "output_type": "execute_result"
    }
   ],
   "source": [
    "score_base"
   ]
  },
  {
   "cell_type": "code",
   "execution_count": 90,
   "id": "1cb14d83-0647-4158-88f8-780dc85bd423",
   "metadata": {},
   "outputs": [
    {
     "data": {
      "text/plain": [
       "0.5304133961110058"
      ]
     },
     "execution_count": 90,
     "metadata": {},
     "output_type": "execute_result"
    }
   ],
   "source": [
    "score_features_scaled"
   ]
  },
  {
   "cell_type": "code",
   "execution_count": 91,
   "id": "20847525-b292-4335-b097-1c571aaf4256",
   "metadata": {},
   "outputs": [
    {
     "data": {
      "text/plain": [
       "0.5467332409820747"
      ]
     },
     "execution_count": 91,
     "metadata": {},
     "output_type": "execute_result"
    }
   ],
   "source": [
    "score_ann_impute"
   ]
  },
  {
   "cell_type": "markdown",
   "id": "04c6fa42-69fc-41c4-aea7-84f23c363101",
   "metadata": {},
   "source": [
    "### KNN Imputation\n",
    "<a id='knn_imputation'></a>"
   ]
  },
  {
   "cell_type": "code",
   "execution_count": 92,
   "id": "e87e5adf-ab0d-4263-a6e2-2491ce32797a",
   "metadata": {},
   "outputs": [],
   "source": [
    "df_knn = df.copy()"
   ]
  },
  {
   "cell_type": "code",
   "execution_count": 94,
   "id": "6d4ca9f3-01bb-44ee-ba39-641ae9773620",
   "metadata": {},
   "outputs": [],
   "source": [
    "from sklearn.impute import KNNImputer"
   ]
  },
  {
   "cell_type": "code",
   "execution_count": 95,
   "id": "da0a76c6-052e-4435-accc-d488652ee229",
   "metadata": {},
   "outputs": [],
   "source": [
    "imputer = KNNImputer()\n",
    "\n",
    "imputer.fit(df_knn)\n",
    "\n",
    "df_knn = pd.DataFrame(imputer.transform(df_knn), columns=df.columns)"
   ]
  },
  {
   "cell_type": "markdown",
   "id": "726c0dae-f7da-4627-adcd-b6774aae808c",
   "metadata": {},
   "source": [
    "### evaluate model"
   ]
  },
  {
   "cell_type": "code",
   "execution_count": 96,
   "id": "de892bc7-5f5b-4770-ad59-e8e318d888ea",
   "metadata": {},
   "outputs": [],
   "source": [
    "score_knn_impute = model_train_val(df_knn, target=\"rate\")"
   ]
  },
  {
   "cell_type": "code",
   "execution_count": 97,
   "id": "0caa01d0-4be7-45d6-a272-94f25e535450",
   "metadata": {},
   "outputs": [
    {
     "data": {
      "text/plain": [
       "0.5467332409820747"
      ]
     },
     "execution_count": 97,
     "metadata": {},
     "output_type": "execute_result"
    }
   ],
   "source": [
    "score_ann_impute"
   ]
  },
  {
   "cell_type": "code",
   "execution_count": 98,
   "id": "ae03e9ba-b6dc-45f7-8cdc-ed131eed4583",
   "metadata": {},
   "outputs": [
    {
     "data": {
      "text/plain": [
       "0.519498229355075"
      ]
     },
     "execution_count": 98,
     "metadata": {},
     "output_type": "execute_result"
    }
   ],
   "source": [
    "score_knn_impute"
   ]
  },
  {
   "cell_type": "markdown",
   "id": "e3b0d809-0832-4afb-b3b2-5dcf41ff0bbc",
   "metadata": {},
   "source": [
    "## Outliers\n",
    "\n",
    "Taking care of outliers is also part of preprocessing but we will not handle that in this video. Instead here you can find some resources.<br>\n",
    "[Find Outliers with Python- 4 Simple Ways](https://www.youtube.com/watch?v=NEuU1gaUyww)"
   ]
  },
  {
   "cell_type": "markdown",
   "id": "6f51f8c4-8a5b-47a8-b49e-c43b6cbbce40",
   "metadata": {},
   "source": [
    "## Sources\n",
    "\n",
    "[How do I select features for Machine Learning?](https://www.youtube.com/watch?v=YaKMeAlHgqQ)\n",
    "[Vishal Patel | A Practical Guide to Dimensionality Reduction Techniques](https://www.youtube.com/watch?v=ioXKxulmwVQ)"
   ]
  },
  {
   "cell_type": "code",
   "execution_count": null,
   "id": "43ce3b2e-11a4-4b44-9eb7-52b6b3457104",
   "metadata": {},
   "outputs": [],
   "source": []
  }
 ],
 "metadata": {
  "kernelspec": {
   "display_name": "Python 3 (ipykernel)",
   "language": "python",
   "name": "python3"
  },
  "language_info": {
   "codemirror_mode": {
    "name": "ipython",
    "version": 3
   },
   "file_extension": ".py",
   "mimetype": "text/x-python",
   "name": "python",
   "nbconvert_exporter": "python",
   "pygments_lexer": "ipython3",
   "version": "3.10.4"
  }
 },
 "nbformat": 4,
 "nbformat_minor": 5
}
