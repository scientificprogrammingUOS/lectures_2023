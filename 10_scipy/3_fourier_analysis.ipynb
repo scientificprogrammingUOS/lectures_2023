{
 "cells": [
  {
   "cell_type": "markdown",
   "id": "95b3cbb8-288c-4d2b-943c-ee384fa22de1",
   "metadata": {
    "tags": []
   },
   "source": [
    "---\n",
    "### Fourier analysis\n",
    "The [Fourier transform](https://en.wikipedia.org/wiki/Fourier_transform) is widely used method for working with data in a different domain than the original one. Every signal can be transformed into a sum of sinusoids with different frequencies. The Fourier transform is able to extract the amplitudes and phases of these sinusoids given an input signal. Its applications include filtering out certain frequencies, analyzing the frequency spectrum, compression (JPEG image format), extracting frequency bands (for example in EEG) or efficient convolution ([Convolution theorem](https://en.wikipedia.org/wiki/Convolution_theorem)).\\\n",
    "In computer science the continuous Fourier transform does not find many applications (since computers store data in a discrete way) but the [discrete Fourier transform](https://en.wikipedia.org/wiki/Discrete_Fourier_transform) is very common. The discrete Fourier transform is defined as\n",
    "$$X_k=\\sum_{n=0}^{N-1}{x_n \\cdot e^{-\\frac{i2\\pi}{N}kn}}$$\n",
    "with $x_n$ being the nth element in the discrete signal and $X$ the transformed signal. Conveniently, the signal array of length $N$ can losslessly be transformed into a frequency array of size $N$ and back but the frequency array consists of complex numbers to encode amplitude and phase."
   ]
  },
  {
   "cell_type": "markdown",
   "id": "aa485d16-c055-453f-bf3b-a74ffd5e9c5d",
   "metadata": {},
   "source": [
    "To run the code below you have to install the ipywidgets package with which you can create interactive plots in jupyter. This can be done by running the next cell:"
   ]
  },
  {
   "cell_type": "code",
   "execution_count": null,
   "id": "90af2c2d-e158-4a2c-a2c8-5895a473692d",
   "metadata": {},
   "outputs": [],
   "source": [
    "conda install -c conda-forge ipywidgets"
   ]
  },
  {
   "cell_type": "code",
   "execution_count": 2,
   "id": "6d6d7382-d214-4a0f-99e7-04c2d2b2ef19",
   "metadata": {
    "tags": []
   },
   "outputs": [],
   "source": [
    "from scipy import fft"
   ]
  },
  {
   "cell_type": "markdown",
   "id": "2b2f4cd9-997a-4053-8421-82c7658b75cd",
   "metadata": {},
   "source": [
    "Let's first look at a simple example where we want to figure out the frequency of a basic sine function."
   ]
  },
  {
   "cell_type": "code",
   "execution_count": 3,
   "id": "8239fb48-4856-42f1-9dff-428853fba229",
   "metadata": {
    "collapsed": true,
    "jupyter": {
     "outputs_hidden": true
    },
    "tags": []
   },
   "outputs": [
    {
     "data": {
      "application/vnd.jupyter.widget-view+json": {
       "model_id": "18dc7dfee72145a4bfb9927788876860",
       "version_major": 2,
       "version_minor": 0
      },
      "text/plain": [
       "interactive(children=(FloatSlider(value=1.0, description='freq', max=40.0, min=1.0), Checkbox(value=False, des…"
      ]
     },
     "execution_count": 3,
     "metadata": {},
     "output_type": "execute_result"
    }
   ],
   "source": [
    "from ipywidgets import interactive\n",
    "import ipywidgets as widgets\n",
    "\n",
    "def plot_fourier(freq, sine1, sine2, sine3):\n",
    "    xs = np.linspace(0, 20, 250)\n",
    "    ys = np.sin(xs * freq)\n",
    "\n",
    "    if sine1:\n",
    "        ys += np.sin(xs * 3 + 1)\n",
    "    if sine2:\n",
    "        ys += np.sin(xs * 0.25 + 2)\n",
    "    if sine3:\n",
    "        ys += np.sin(xs * 25 + 0.2)\n",
    "    \n",
    "    fourier = fft.fft(ys)\n",
    "    freqs = fft.fftfreq(len(ys), 1 / (2 * np.pi / xs.max() * len(ys)))\n",
    "\n",
    "    fig, (ax1, ax2) = plt.subplots(ncols=2, figsize=(20, 5))\n",
    "    ax1.plot(xs, ys)\n",
    "    ax2.plot(freqs, np.abs(fourier))\n",
    "    \n",
    "    ax1.set_title('Signal')\n",
    "    ax2.set(xlabel='Frequency', ylabel='Amplitude', title='Fourier transform')\n",
    "    plt.show()\n",
    "    \n",
    "interactive(plot_fourier, freq=widgets.FloatSlider(min=1, max=40), sine1=widgets.Checkbox(), sine2=widgets.Checkbox(), sine3 = widgets.Checkbox())"
   ]
  },
  {
   "cell_type": "markdown",
   "id": "20ac432d-d9dc-4956-806f-730e6e72ffce",
   "metadata": {
    "tags": []
   },
   "source": [
    "NumPy also has a `fft` submodule for fast Fourier transforms but SciPy implements more variations."
   ]
  }
 ],
 "metadata": {
  "kernelspec": {
   "display_name": "Python 3 (ipykernel)",
   "language": "python",
   "name": "python3"
  },
  "language_info": {
   "codemirror_mode": {
    "name": "ipython",
    "version": 3
   },
   "file_extension": ".py",
   "mimetype": "text/x-python",
   "name": "python",
   "nbconvert_exporter": "python",
   "pygments_lexer": "ipython3",
   "version": "3.11.3"
  }
 },
 "nbformat": 4,
 "nbformat_minor": 5
}
