{
 "cells": [
  {
   "cell_type": "markdown",
   "id": "1c98a472-6816-4846-8332-6485230c3e99",
   "metadata": {
    "tags": []
   },
   "source": [
    "# Machine Learning with **scikit-learn**\n",
    "\n",
    "`pip install sklearn`\n",
    "\n",
    "In this lecture we will not go into any machine learning details or talk about the theoretical background, but we will give you a quick overview of machine learning. And afterwards we will learn how we can do machine learning with python."
   ]
  },
  {
   "cell_type": "code",
   "execution_count": null,
   "id": "93f336c3-3a88-42e3-a9bf-b063f9b04034",
   "metadata": {
    "tags": []
   },
   "outputs": [],
   "source": [
    "pip install -U scikit-learn"
   ]
  },
  {
   "cell_type": "markdown",
   "id": "afa841ab-a06b-4c69-b80a-e708982ac8ed",
   "metadata": {},
   "source": [
    "<center><img src=\"images/machine_learning_overview.jpg\"/></center>"
   ]
  },
  {
   "cell_type": "code",
   "execution_count": 1,
   "id": "00654926-7dd8-495b-98f4-7deabe944a54",
   "metadata": {
    "tags": []
   },
   "outputs": [],
   "source": [
    "import numpy as np\n",
    "import pandas as pd\n",
    "import seaborn as sns"
   ]
  },
  {
   "cell_type": "markdown",
   "id": "89b42d07-849c-4949-934b-8f17053d7b5a",
   "metadata": {
    "tags": []
   },
   "source": [
    "## the structure of **scikit-learn**\n",
    "At the center of Scikit-Learn are its models.<br>\n",
    "**step 1:** import a model class from `sklearn`\n",
    "\n",
    "A model can be instantiated with different hyperparemters, effecting how it learns from the data.<br>\n",
    "**step 2:** intialize model with hyperparameters\n",
    "\n",
    "If we want to do *supervised learning* then our model learns to predict `targets` from `features`, and so...<br>\n",
    "**step 3:** split data into `feature` matrix and `target` vector\n",
    "\n",
    "Now we are ready to train/learn/fit our model<br>\n",
    "**step 4:** fit the model to our data by calling the `fit()` method of the model.\n",
    "\n",
    "**step 5:** Apply the model to new data\n",
    "   - For supervised learning, often we predict labels for unknown data using the `predict()` method.\n",
    "   - For unsupervised learning, we often transform or infer properties of the data using the `transform()`or `predict()` method.\n",
    "\n"
   ]
  }
 ],
 "metadata": {
  "kernelspec": {
   "display_name": "Python 3 (ipykernel)",
   "language": "python",
   "name": "python3"
  },
  "language_info": {
   "codemirror_mode": {
    "name": "ipython",
    "version": 3
   },
   "file_extension": ".py",
   "mimetype": "text/x-python",
   "name": "python",
   "nbconvert_exporter": "python",
   "pygments_lexer": "ipython3",
   "version": "3.11.2"
  }
 },
 "nbformat": 4,
 "nbformat_minor": 5
}
